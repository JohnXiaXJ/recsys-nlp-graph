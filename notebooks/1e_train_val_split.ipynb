{
 "cells": [
  {
   "cell_type": "code",
   "execution_count": 1,
   "metadata": {},
   "outputs": [],
   "source": [
    "import sys\n",
    "import os\n",
    "\n",
    "sys.path.append(os.path.dirname(os.getcwd()))"
   ]
  },
  {
   "cell_type": "code",
   "execution_count": 2,
   "metadata": {},
   "outputs": [],
   "source": [
    "import numpy as np\n",
    "import pandas as pd\n",
    "import random\n",
    "from sklearn.model_selection import train_test_split\n",
    "\n",
    "from src.prep.prep_edges import create_product_pair\n",
    "from src.utils.logger import logger"
   ]
  },
  {
   "cell_type": "code",
   "execution_count": 3,
   "metadata": {},
   "outputs": [
    {
     "name": "stderr",
     "output_type": "stream",
     "text": [
      "2019-11-13 11:16:55,976 - DF shape: (4824206, 4)\n"
     ]
    }
   ],
   "source": [
    "df = pd.read_csv('../data/books_edges.csv')\n",
    "logger.info('DF shape: {}'.format(df.shape))"
   ]
  },
  {
   "cell_type": "code",
   "execution_count": 4,
   "metadata": {},
   "outputs": [
    {
     "data": {
      "text/html": [
       "<div>\n",
       "<style scoped>\n",
       "    .dataframe tbody tr th:only-of-type {\n",
       "        vertical-align: middle;\n",
       "    }\n",
       "\n",
       "    .dataframe tbody tr th {\n",
       "        vertical-align: top;\n",
       "    }\n",
       "\n",
       "    .dataframe thead th {\n",
       "        text-align: right;\n",
       "    }\n",
       "</style>\n",
       "<table border=\"1\" class=\"dataframe\">\n",
       "  <thead>\n",
       "    <tr style=\"text-align: right;\">\n",
       "      <th></th>\n",
       "      <th>product1</th>\n",
       "      <th>product2</th>\n",
       "      <th>weight</th>\n",
       "      <th>product_pair</th>\n",
       "    </tr>\n",
       "  </thead>\n",
       "  <tbody>\n",
       "    <tr>\n",
       "      <th>0</th>\n",
       "      <td>0000013714</td>\n",
       "      <td>0005064341</td>\n",
       "      <td>1.2</td>\n",
       "      <td>0000013714|0005064341</td>\n",
       "    </tr>\n",
       "    <tr>\n",
       "      <th>1</th>\n",
       "      <td>0000013714</td>\n",
       "      <td>0005476798</td>\n",
       "      <td>1.2</td>\n",
       "      <td>0000013714|0005476798</td>\n",
       "    </tr>\n",
       "    <tr>\n",
       "      <th>2</th>\n",
       "      <td>0000013714</td>\n",
       "      <td>0006180116</td>\n",
       "      <td>1.2</td>\n",
       "      <td>0000013714|0006180116</td>\n",
       "    </tr>\n",
       "    <tr>\n",
       "      <th>3</th>\n",
       "      <td>0000013714</td>\n",
       "      <td>0871482215</td>\n",
       "      <td>1.0</td>\n",
       "      <td>0000013714|0871482215</td>\n",
       "    </tr>\n",
       "    <tr>\n",
       "      <th>4</th>\n",
       "      <td>000014357X</td>\n",
       "      <td>0307346595</td>\n",
       "      <td>1.0</td>\n",
       "      <td>000014357X|0307346595</td>\n",
       "    </tr>\n",
       "  </tbody>\n",
       "</table>\n",
       "</div>"
      ],
      "text/plain": [
       "     product1    product2  weight           product_pair\n",
       "0  0000013714  0005064341     1.2  0000013714|0005064341\n",
       "1  0000013714  0005476798     1.2  0000013714|0005476798\n",
       "2  0000013714  0006180116     1.2  0000013714|0006180116\n",
       "3  0000013714  0871482215     1.0  0000013714|0871482215\n",
       "4  000014357X  0307346595     1.0  000014357X|0307346595"
      ]
     },
     "execution_count": 4,
     "metadata": {},
     "output_type": "execute_result"
    }
   ],
   "source": [
    "df.head()"
   ]
  },
  {
   "cell_type": "markdown",
   "metadata": {},
   "source": [
    "### Train val split"
   ]
  },
  {
   "cell_type": "code",
   "execution_count": 5,
   "metadata": {
    "scrolled": true
   },
   "outputs": [
    {
     "name": "stderr",
     "output_type": "stream",
     "text": [
      "2019-11-13 11:16:56,009 - Eventual required val samples: 964,841\n"
     ]
    }
   ],
   "source": [
    "n_val_samples = int(0.2 * df.shape[0])\n",
    "logger.info('Eventual required val samples: {:,}'.format(n_val_samples))"
   ]
  },
  {
   "cell_type": "code",
   "execution_count": 6,
   "metadata": {},
   "outputs": [
    {
     "name": "stderr",
     "output_type": "stream",
     "text": [
      "2019-11-13 11:17:00,231 - Train shape: (3376944, 4), val shape: (1447262, 4)\n"
     ]
    }
   ],
   "source": [
    "# First split to get some test samples\n",
    "train, val = train_test_split(df, test_size=0.3, random_state=42)\n",
    "logger.info('Train shape: {}, val shape: {}'.format(train.shape, val.shape))"
   ]
  },
  {
   "cell_type": "code",
   "execution_count": 7,
   "metadata": {},
   "outputs": [
    {
     "name": "stderr",
     "output_type": "stream",
     "text": [
      "2019-11-13 11:17:03,134 - No. of unique products in train: 1,111,436\n"
     ]
    }
   ],
   "source": [
    "# Get set of products in train\n",
    "train_product_set = set(train['product1']).union(set(train['product2']))\n",
    "logger.info('No. of unique products in train: {:,}'.format(len(train_product_set)))"
   ]
  },
  {
   "cell_type": "code",
   "execution_count": 8,
   "metadata": {},
   "outputs": [
    {
     "name": "stderr",
     "output_type": "stream",
     "text": [
      "2019-11-13 11:17:05,396 - Updated val shape: (1302669, 4)\n"
     ]
    }
   ],
   "source": [
    "# Only keep val where both products are in train product set\n",
    "val = val[(val['product1'].isin(train_product_set)) & (val['product2'].isin(train_product_set))]\n",
    "logger.info('Updated val shape: {}'.format(val.shape))"
   ]
  },
  {
   "cell_type": "code",
   "execution_count": 9,
   "metadata": {},
   "outputs": [
    {
     "name": "stderr",
     "output_type": "stream",
     "text": [
      "2019-11-13 11:17:06,471 - Final val shape: (964841, 4)\n"
     ]
    }
   ],
   "source": [
    "# Split again to only get n_val_samples\n",
    "_, val = train_test_split(val, test_size=n_val_samples, random_state=42)\n",
    "logger.info('Final val shape: {}'.format(val.shape))"
   ]
  },
  {
   "cell_type": "code",
   "execution_count": 10,
   "metadata": {},
   "outputs": [
    {
     "name": "stderr",
     "output_type": "stream",
     "text": [
      "2019-11-13 11:17:08,120 - Final train shape: (3859365, 4)\n"
     ]
    }
   ],
   "source": [
    "# Get train set\n",
    "train = df[~df.index.isin(set(val.index))].copy()\n",
    "logger.info('Final train shape: {}'.format(train.shape))"
   ]
  },
  {
   "cell_type": "markdown",
   "metadata": {},
   "source": [
    "### Create negative samples"
   ]
  },
  {
   "cell_type": "code",
   "execution_count": 11,
   "metadata": {},
   "outputs": [
    {
     "name": "stderr",
     "output_type": "stream",
     "text": [
      "2019-11-13 11:17:09,460 - No. of valid product pairs: 4,824,206\n"
     ]
    }
   ],
   "source": [
    "valid_product_pairs = set(df['product_pair'])\n",
    "logger.info('No. of valid product pairs: {:,}'.format(len(valid_product_pairs)))"
   ]
  },
  {
   "cell_type": "code",
   "execution_count": 12,
   "metadata": {},
   "outputs": [
    {
     "name": "stderr",
     "output_type": "stream",
     "text": [
      "2019-11-13 11:17:10,323 - No. of unique products in val: 596,664\n"
     ]
    }
   ],
   "source": [
    "val_product_set = set(val['product1']).union(set(val['product2']))\n",
    "logger.info('No. of unique products in val: {:,}'.format(len(val_product_set)))"
   ]
  },
  {
   "cell_type": "code",
   "execution_count": 13,
   "metadata": {},
   "outputs": [],
   "source": [
    "def get_sample(item_array, n_iter=None, sample_size=2):\n",
    "    np.random.seed(42)\n",
    "    n = len(item_array)\n",
    "    \n",
    "    # find the index we last sampled from\n",
    "    start_idx = (n_iter * sample_size) % n\n",
    "    if (start_idx + sample_size >= n) or (start_idx <= sample_size):\n",
    "        \n",
    "        # shuffle array if we have reached the end and repeat again\n",
    "        np.random.shuffle(item_array)\n",
    "\n",
    "    return item_array[start_idx:start_idx+sample_size] \n",
    "    \n",
    "def collect_samples(item_array, sample_size, n_samples):\n",
    "    samples = []\n",
    "    \n",
    "    for i in range(0, n_samples):\n",
    "        if i % 100000 == 0:\n",
    "            logger.info('Neg sample: {:,}'.format(i))\n",
    "            \n",
    "        sample = get_sample(item_array, n_iter=i, sample_size=sample_size)\n",
    "        samples.append(sample)\n",
    "        \n",
    "    return samples"
   ]
  },
  {
   "cell_type": "code",
   "execution_count": 14,
   "metadata": {},
   "outputs": [
    {
     "name": "stderr",
     "output_type": "stream",
     "text": [
      "2019-11-13 11:17:11,065 - No. of unique products in val: 596,664\n"
     ]
    }
   ],
   "source": [
    "val_product_arr = np.array(list(val_product_set))\n",
    "logger.info('No. of unique products in val: {:,}'.format(val_product_arr.shape[0]))"
   ]
  },
  {
   "cell_type": "code",
   "execution_count": 15,
   "metadata": {},
   "outputs": [
    {
     "name": "stderr",
     "output_type": "stream",
     "text": [
      "2019-11-13 11:17:11,072 - Neg sample: 0\n",
      "2019-11-13 11:17:11,499 - Neg sample: 100,000\n",
      "2019-11-13 11:17:11,819 - Neg sample: 200,000\n",
      "2019-11-13 11:17:12,253 - Neg sample: 300,000\n",
      "2019-11-13 11:17:12,568 - Neg sample: 400,000\n",
      "2019-11-13 11:17:12,878 - Neg sample: 500,000\n",
      "2019-11-13 11:17:13,337 - Neg sample: 600,000\n",
      "2019-11-13 11:17:13,661 - Neg sample: 700,000\n",
      "2019-11-13 11:17:13,982 - Neg sample: 800,000\n",
      "2019-11-13 11:17:14,472 - Neg sample: 900,000\n",
      "2019-11-13 11:17:14,789 - Neg sample: 1,000,000\n"
     ]
    }
   ],
   "source": [
    "neg_samples = collect_samples(val_product_arr, sample_size=2, n_samples=int(1.1*n_val_samples))"
   ]
  },
  {
   "cell_type": "code",
   "execution_count": 16,
   "metadata": {},
   "outputs": [
    {
     "name": "stderr",
     "output_type": "stream",
     "text": [
      "2019-11-13 11:17:18,810 - No. of negative samples: 1,061,325\n"
     ]
    }
   ],
   "source": [
    "neg_samples_df = pd.DataFrame(neg_samples, columns=['product1', 'product2'])\n",
    "neg_samples_df.dropna(inplace=True)\n",
    "neg_samples_df = create_product_pair(neg_samples_df, col_list=['product1', 'product2'])\n",
    "logger.info('No. of negative samples: {:,}'.format(neg_samples_df.shape[0]))"
   ]
  },
  {
   "cell_type": "code",
   "execution_count": 17,
   "metadata": {},
   "outputs": [
    {
     "name": "stderr",
     "output_type": "stream",
     "text": [
      "2019-11-13 11:17:22,027 - Updated no. of negative samples: 1,061,291\n"
     ]
    }
   ],
   "source": [
    "# Exclude neg samples that are valid pairs\n",
    "neg_samples_df = neg_samples_df[~neg_samples_df['product_pair'].isin(valid_product_pairs)].copy()\n",
    "logger.info('Updated no. of negative samples: {:,}'.format(neg_samples_df.shape[0]))"
   ]
  },
  {
   "cell_type": "code",
   "execution_count": 18,
   "metadata": {},
   "outputs": [
    {
     "name": "stderr",
     "output_type": "stream",
     "text": [
      "2019-11-13 11:17:22,112 - Final no. of negative samples: 964,841\n"
     ]
    }
   ],
   "source": [
    "# Only keep no. of val samples required\n",
    "neg_samples_df = neg_samples_df.iloc[:n_val_samples].copy()\n",
    "logger.info('Final no. of negative samples: {:,}'.format(neg_samples_df.shape[0]))"
   ]
  },
  {
   "cell_type": "code",
   "execution_count": 19,
   "metadata": {},
   "outputs": [],
   "source": [
    "neg_samples_df['edge'] = 0\n",
    "val['edge'] = 1"
   ]
  },
  {
   "cell_type": "markdown",
   "metadata": {},
   "source": [
    "### Only keep required cols"
   ]
  },
  {
   "cell_type": "code",
   "execution_count": 20,
   "metadata": {},
   "outputs": [
    {
     "name": "stderr",
     "output_type": "stream",
     "text": [
      "2019-11-13 11:17:22,486 - Val shape: (964841, 3), Neg samples shape: (964841, 3), Pos/Total ratio: 0.5\n"
     ]
    }
   ],
   "source": [
    "VAL_COLS = ['product1', 'product2', 'edge']\n",
    "neg_samples_df = neg_samples_df[VAL_COLS].copy()\n",
    "val = val[VAL_COLS].copy()\n",
    "logger.info('Val shape: {}, Neg samples shape: {}, Pos/Total ratio: {}'.format(val.shape, neg_samples_df.shape, val.shape[0]/(val.shape[0] + neg_samples_df.shape[0])))"
   ]
  },
  {
   "cell_type": "code",
   "execution_count": 21,
   "metadata": {},
   "outputs": [
    {
     "name": "stderr",
     "output_type": "stream",
     "text": [
      "2019-11-13 11:17:22,639 - Final val shape: (1929682, 3)\n"
     ]
    }
   ],
   "source": [
    "val = pd.concat([val, neg_samples_df])\n",
    "logger.info('Final val shape: {}'.format(val.shape))"
   ]
  },
  {
   "cell_type": "code",
   "execution_count": 22,
   "metadata": {},
   "outputs": [],
   "source": [
    "train = train[['product1', 'product2', 'weight']].copy()"
   ]
  },
  {
   "cell_type": "markdown",
   "metadata": {},
   "source": [
    "### Save"
   ]
  },
  {
   "cell_type": "code",
   "execution_count": 23,
   "metadata": {},
   "outputs": [],
   "source": [
    "path = 'data/books_edges.csv'"
   ]
  },
  {
   "cell_type": "code",
   "execution_count": 24,
   "metadata": {},
   "outputs": [],
   "source": [
    "from pathlib import Path"
   ]
  },
  {
   "cell_type": "code",
   "execution_count": 25,
   "metadata": {},
   "outputs": [],
   "source": [
    "input_filename = Path(path).resolve().stem"
   ]
  },
  {
   "cell_type": "code",
   "execution_count": 26,
   "metadata": {},
   "outputs": [],
   "source": [
    "train_path = 'data/{}_train.csv'.format(input_filename)\n",
    "val_path = 'data/{}_val.csv'.format(input_filename)"
   ]
  },
  {
   "cell_type": "code",
   "execution_count": 27,
   "metadata": {},
   "outputs": [
    {
     "data": {
      "text/plain": [
       "'data/books_edges_train.csv'"
      ]
     },
     "execution_count": 27,
     "metadata": {},
     "output_type": "execute_result"
    }
   ],
   "source": [
    "train_path"
   ]
  },
  {
   "cell_type": "code",
   "execution_count": 28,
   "metadata": {},
   "outputs": [
    {
     "data": {
      "text/plain": [
       "'data/books_edges_val.csv'"
      ]
     },
     "execution_count": 28,
     "metadata": {},
     "output_type": "execute_result"
    }
   ],
   "source": [
    "val_path"
   ]
  },
  {
   "cell_type": "code",
   "execution_count": null,
   "metadata": {},
   "outputs": [],
   "source": []
  }
 ],
 "metadata": {
  "kernelspec": {
   "display_name": "recsys",
   "language": "python",
   "name": "recsys"
  },
  "language_info": {
   "codemirror_mode": {
    "name": "ipython",
    "version": 3
   },
   "file_extension": ".py",
   "mimetype": "text/x-python",
   "name": "python",
   "nbconvert_exporter": "python",
   "pygments_lexer": "ipython3",
   "version": "3.7.2"
  }
 },
 "nbformat": 4,
 "nbformat_minor": 2
}
