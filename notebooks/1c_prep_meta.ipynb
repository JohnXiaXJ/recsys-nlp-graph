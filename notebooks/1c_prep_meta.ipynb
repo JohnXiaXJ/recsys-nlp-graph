{
 "cells": [
  {
   "cell_type": "code",
   "execution_count": 2,
   "metadata": {},
   "outputs": [],
   "source": [
    "import sys\n",
    "import os\n",
    "\n",
    "sys.path.append(os.path.dirname(os.getcwd()))"
   ]
  },
  {
   "cell_type": "code",
   "execution_count": 3,
   "metadata": {},
   "outputs": [],
   "source": [
    "import pandas as pd\n",
    "\n",
    "from src.utils.logger import logger"
   ]
  },
  {
   "cell_type": "code",
   "execution_count": 4,
   "metadata": {},
   "outputs": [],
   "source": [
    "dataset = 'electronics'"
   ]
  },
  {
   "cell_type": "code",
   "execution_count": 8,
   "metadata": {},
   "outputs": [
    {
     "name": "stderr",
     "output_type": "stream",
     "text": [
      "2019-12-05 12:31:14,869 - DF shape: (498196, 9)\n"
     ]
    }
   ],
   "source": [
    "df = pd.read_csv('../data/{}.csv'.format(dataset), error_bad_lines=False, warn_bad_lines=True, \n",
    "                 dtype={'title': 'str', 'brand': 'str'})\n",
    "logger.info('DF shape: {}'.format(df.shape))"
   ]
  },
  {
   "cell_type": "code",
   "execution_count": 9,
   "metadata": {},
   "outputs": [
    {
     "data": {
      "text/plain": [
       "Unknown             3402\n",
       "Sony                2164\n",
       "HP                  2156\n",
       "Neewer              2005\n",
       "Generic             1865\n",
       "                    ... \n",
       "Rite In The Rain       1\n",
       "VIVITAR                1\n",
       "Pengaz                 1\n",
       "MyStudio               1\n",
       "MARC JACOBS            1\n",
       "Name: brand, Length: 9993, dtype: int64"
      ]
     },
     "execution_count": 9,
     "metadata": {},
     "output_type": "execute_result"
    }
   ],
   "source": [
    "df.brand.value_counts()"
   ]
  },
  {
   "cell_type": "code",
   "execution_count": 9,
   "metadata": {},
   "outputs": [],
   "source": [
    "META_COLS = ['asin', 'categories', 'title', 'description', 'price']"
   ]
  },
  {
   "cell_type": "code",
   "execution_count": 13,
   "metadata": {},
   "outputs": [],
   "source": [
    "df = df[META_COLS].copy()"
   ]
  },
  {
   "cell_type": "code",
   "execution_count": 14,
   "metadata": {},
   "outputs": [],
   "source": [
    "df['categories'] = df['categories'].apply(eval)"
   ]
  },
  {
   "cell_type": "code",
   "execution_count": 17,
   "metadata": {},
   "outputs": [],
   "source": [
    "# Get first category\n",
    "df['categories'] = df['categories'].apply(lambda x: x[0])"
   ]
  },
  {
   "cell_type": "code",
   "execution_count": 20,
   "metadata": {},
   "outputs": [],
   "source": [
    "def get_category_lvl(category_list, lvl=0):\n",
    "    try:\n",
    "        return category_list[lvl]\n",
    "    except IndexError:\n",
    "        return 'NA_VALUE'"
   ]
  },
  {
   "cell_type": "code",
   "execution_count": 25,
   "metadata": {},
   "outputs": [],
   "source": [
    "df['category_lvl_1'] = df['categories'].apply(get_category_lvl, args=(0, ))\n",
    "df['category_lvl_2'] = df['categories'].apply(get_category_lvl, args=(1, ))\n",
    "df['category_lvl_3'] = df['categories'].apply(get_category_lvl, args=(2, ))\n",
    "df['category_lvl_4'] = df['categories'].apply(get_category_lvl, args=(3, ))"
   ]
  },
  {
   "cell_type": "code",
   "execution_count": 26,
   "metadata": {},
   "outputs": [
    {
     "data": {
      "text/html": [
       "<div>\n",
       "<style scoped>\n",
       "    .dataframe tbody tr th:only-of-type {\n",
       "        vertical-align: middle;\n",
       "    }\n",
       "\n",
       "    .dataframe tbody tr th {\n",
       "        vertical-align: top;\n",
       "    }\n",
       "\n",
       "    .dataframe thead th {\n",
       "        text-align: right;\n",
       "    }\n",
       "</style>\n",
       "<table border=\"1\" class=\"dataframe\">\n",
       "  <thead>\n",
       "    <tr style=\"text-align: right;\">\n",
       "      <th></th>\n",
       "      <th>asin</th>\n",
       "      <th>categories</th>\n",
       "      <th>title</th>\n",
       "      <th>description</th>\n",
       "      <th>price</th>\n",
       "      <th>category_lvl_1</th>\n",
       "      <th>category_lvl_2</th>\n",
       "      <th>category_lvl_3</th>\n",
       "      <th>category_lvl_4</th>\n",
       "    </tr>\n",
       "  </thead>\n",
       "  <tbody>\n",
       "    <tr>\n",
       "      <th>0</th>\n",
       "      <td>0001048791</td>\n",
       "      <td>[Books]</td>\n",
       "      <td>The Crucible: Performed by Stuart Pankin, Jero...</td>\n",
       "      <td>NaN</td>\n",
       "      <td>NaN</td>\n",
       "      <td>Books</td>\n",
       "      <td>NA_VALUE</td>\n",
       "      <td>NA_VALUE</td>\n",
       "      <td>NA_VALUE</td>\n",
       "    </tr>\n",
       "    <tr>\n",
       "      <th>1</th>\n",
       "      <td>0001048775</td>\n",
       "      <td>[Books]</td>\n",
       "      <td>Measure for Measure: Complete &amp;amp; Unabridged</td>\n",
       "      <td>William Shakespeare is widely regarded as the ...</td>\n",
       "      <td>NaN</td>\n",
       "      <td>Books</td>\n",
       "      <td>NA_VALUE</td>\n",
       "      <td>NA_VALUE</td>\n",
       "      <td>NA_VALUE</td>\n",
       "    </tr>\n",
       "    <tr>\n",
       "      <th>2</th>\n",
       "      <td>0001048236</td>\n",
       "      <td>[Books]</td>\n",
       "      <td>The Sherlock Holmes Audio Collection</td>\n",
       "      <td>&amp;#34;One thing is certain, Sherlockians, put a...</td>\n",
       "      <td>9.26</td>\n",
       "      <td>Books</td>\n",
       "      <td>NA_VALUE</td>\n",
       "      <td>NA_VALUE</td>\n",
       "      <td>NA_VALUE</td>\n",
       "    </tr>\n",
       "    <tr>\n",
       "      <th>3</th>\n",
       "      <td>0000401048</td>\n",
       "      <td>[Books]</td>\n",
       "      <td>The rogue of publishers' row;: Confessions of ...</td>\n",
       "      <td>NaN</td>\n",
       "      <td>NaN</td>\n",
       "      <td>Books</td>\n",
       "      <td>NA_VALUE</td>\n",
       "      <td>NA_VALUE</td>\n",
       "      <td>NA_VALUE</td>\n",
       "    </tr>\n",
       "    <tr>\n",
       "      <th>4</th>\n",
       "      <td>0001019880</td>\n",
       "      <td>[Books]</td>\n",
       "      <td>Classic Soul Winner's New Testament Bible</td>\n",
       "      <td>NaN</td>\n",
       "      <td>5.39</td>\n",
       "      <td>Books</td>\n",
       "      <td>NA_VALUE</td>\n",
       "      <td>NA_VALUE</td>\n",
       "      <td>NA_VALUE</td>\n",
       "    </tr>\n",
       "    <tr>\n",
       "      <th>...</th>\n",
       "      <td>...</td>\n",
       "      <td>...</td>\n",
       "      <td>...</td>\n",
       "      <td>...</td>\n",
       "      <td>...</td>\n",
       "      <td>...</td>\n",
       "      <td>...</td>\n",
       "      <td>...</td>\n",
       "      <td>...</td>\n",
       "    </tr>\n",
       "    <tr>\n",
       "      <th>2370580</th>\n",
       "      <td>B00M111QCM</td>\n",
       "      <td>[Books, Business &amp; Money, Industries &amp; Profess...</td>\n",
       "      <td>NaN</td>\n",
       "      <td>NaN</td>\n",
       "      <td>NaN</td>\n",
       "      <td>Books</td>\n",
       "      <td>Business &amp; Money</td>\n",
       "      <td>Industries &amp; Professions</td>\n",
       "      <td>Human Resources &amp; Personnel Management</td>\n",
       "    </tr>\n",
       "    <tr>\n",
       "      <th>2370581</th>\n",
       "      <td>B00M0AEPXG</td>\n",
       "      <td>[Books, Politics &amp; Social Sciences, Women's St...</td>\n",
       "      <td>NaN</td>\n",
       "      <td>NaN</td>\n",
       "      <td>NaN</td>\n",
       "      <td>Books</td>\n",
       "      <td>Politics &amp; Social Sciences</td>\n",
       "      <td>Women's Studies</td>\n",
       "      <td>NA_VALUE</td>\n",
       "    </tr>\n",
       "    <tr>\n",
       "      <th>2370582</th>\n",
       "      <td>B00LZFHL7Y</td>\n",
       "      <td>[Books, Literature &amp; Fiction, Erotica]</td>\n",
       "      <td>NaN</td>\n",
       "      <td>NaN</td>\n",
       "      <td>0.99</td>\n",
       "      <td>Books</td>\n",
       "      <td>Literature &amp; Fiction</td>\n",
       "      <td>Erotica</td>\n",
       "      <td>NA_VALUE</td>\n",
       "    </tr>\n",
       "    <tr>\n",
       "      <th>2370583</th>\n",
       "      <td>B00LV8M74W</td>\n",
       "      <td>[Books, Literature &amp; Fiction, Genre Fiction, M...</td>\n",
       "      <td>NaN</td>\n",
       "      <td>NaN</td>\n",
       "      <td>3.99</td>\n",
       "      <td>Books</td>\n",
       "      <td>Literature &amp; Fiction</td>\n",
       "      <td>Genre Fiction</td>\n",
       "      <td>Medical</td>\n",
       "    </tr>\n",
       "    <tr>\n",
       "      <th>2370584</th>\n",
       "      <td>B00LV8STE4</td>\n",
       "      <td>[Books, Arts &amp; Photography, Music, Musical Gen...</td>\n",
       "      <td>NaN</td>\n",
       "      <td>NaN</td>\n",
       "      <td>NaN</td>\n",
       "      <td>Books</td>\n",
       "      <td>Arts &amp; Photography</td>\n",
       "      <td>Music</td>\n",
       "      <td>Musical Genres</td>\n",
       "    </tr>\n",
       "  </tbody>\n",
       "</table>\n",
       "<p>2370585 rows × 9 columns</p>\n",
       "</div>"
      ],
      "text/plain": [
       "               asin                                         categories  \\\n",
       "0        0001048791                                            [Books]   \n",
       "1        0001048775                                            [Books]   \n",
       "2        0001048236                                            [Books]   \n",
       "3        0000401048                                            [Books]   \n",
       "4        0001019880                                            [Books]   \n",
       "...             ...                                                ...   \n",
       "2370580  B00M111QCM  [Books, Business & Money, Industries & Profess...   \n",
       "2370581  B00M0AEPXG  [Books, Politics & Social Sciences, Women's St...   \n",
       "2370582  B00LZFHL7Y             [Books, Literature & Fiction, Erotica]   \n",
       "2370583  B00LV8M74W  [Books, Literature & Fiction, Genre Fiction, M...   \n",
       "2370584  B00LV8STE4  [Books, Arts & Photography, Music, Musical Gen...   \n",
       "\n",
       "                                                     title  \\\n",
       "0        The Crucible: Performed by Stuart Pankin, Jero...   \n",
       "1           Measure for Measure: Complete &amp; Unabridged   \n",
       "2                     The Sherlock Holmes Audio Collection   \n",
       "3        The rogue of publishers' row;: Confessions of ...   \n",
       "4                Classic Soul Winner's New Testament Bible   \n",
       "...                                                    ...   \n",
       "2370580                                                NaN   \n",
       "2370581                                                NaN   \n",
       "2370582                                                NaN   \n",
       "2370583                                                NaN   \n",
       "2370584                                                NaN   \n",
       "\n",
       "                                               description  price  \\\n",
       "0                                                      NaN    NaN   \n",
       "1        William Shakespeare is widely regarded as the ...    NaN   \n",
       "2        &#34;One thing is certain, Sherlockians, put a...   9.26   \n",
       "3                                                      NaN    NaN   \n",
       "4                                                      NaN   5.39   \n",
       "...                                                    ...    ...   \n",
       "2370580                                                NaN    NaN   \n",
       "2370581                                                NaN    NaN   \n",
       "2370582                                                NaN   0.99   \n",
       "2370583                                                NaN   3.99   \n",
       "2370584                                                NaN    NaN   \n",
       "\n",
       "        category_lvl_1              category_lvl_2            category_lvl_3  \\\n",
       "0                Books                    NA_VALUE                  NA_VALUE   \n",
       "1                Books                    NA_VALUE                  NA_VALUE   \n",
       "2                Books                    NA_VALUE                  NA_VALUE   \n",
       "3                Books                    NA_VALUE                  NA_VALUE   \n",
       "4                Books                    NA_VALUE                  NA_VALUE   \n",
       "...                ...                         ...                       ...   \n",
       "2370580          Books            Business & Money  Industries & Professions   \n",
       "2370581          Books  Politics & Social Sciences           Women's Studies   \n",
       "2370582          Books        Literature & Fiction                   Erotica   \n",
       "2370583          Books        Literature & Fiction             Genre Fiction   \n",
       "2370584          Books          Arts & Photography                     Music   \n",
       "\n",
       "                                 category_lvl_4  \n",
       "0                                      NA_VALUE  \n",
       "1                                      NA_VALUE  \n",
       "2                                      NA_VALUE  \n",
       "3                                      NA_VALUE  \n",
       "4                                      NA_VALUE  \n",
       "...                                         ...  \n",
       "2370580  Human Resources & Personnel Management  \n",
       "2370581                                NA_VALUE  \n",
       "2370582                                NA_VALUE  \n",
       "2370583                                 Medical  \n",
       "2370584                          Musical Genres  \n",
       "\n",
       "[2370585 rows x 9 columns]"
      ]
     },
     "execution_count": 26,
     "metadata": {},
     "output_type": "execute_result"
    }
   ],
   "source": [
    "df"
   ]
  },
  {
   "cell_type": "code",
   "execution_count": null,
   "metadata": {},
   "outputs": [],
   "source": []
  }
 ],
 "metadata": {
  "kernelspec": {
   "display_name": "recsys",
   "language": "python",
   "name": "recsys"
  },
  "language_info": {
   "codemirror_mode": {
    "name": "ipython",
    "version": 3
   },
   "file_extension": ".py",
   "mimetype": "text/x-python",
   "name": "python",
   "nbconvert_exporter": "python",
   "pygments_lexer": "ipython3",
   "version": "3.7.2"
  }
 },
 "nbformat": 4,
 "nbformat_minor": 2
}
