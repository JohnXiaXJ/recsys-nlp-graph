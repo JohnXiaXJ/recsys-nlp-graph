{
 "cells": [
  {
   "cell_type": "code",
   "execution_count": 1,
   "metadata": {},
   "outputs": [],
   "source": [
    "import sys\n",
    "import os\n",
    "\n",
    "sys.path.append(os.path.dirname(os.getcwd()))"
   ]
  },
  {
   "cell_type": "code",
   "execution_count": 2,
   "metadata": {},
   "outputs": [],
   "source": [
    "from collections import Counter\n",
    "import itertools\n",
    "import matplotlib.pyplot as plt\n",
    "\n",
    "import numpy as np\n",
    "import pandas as pd\n",
    "import torch\n",
    "import torch.nn as nn\n",
    "import torch.nn.functional as F\n",
    "from category_encoders import OrdinalEncoder\n",
    "\n",
    "from src.utils.logger import logger\n",
    "from src.utils.io_utils import load_model, save_model"
   ]
  },
  {
   "cell_type": "code",
   "execution_count": 3,
   "metadata": {},
   "outputs": [],
   "source": [
    "PARAMS = {'dim': 128,\n",
    "          'window': 5,\n",
    "          'min_count': 1,\n",
    "          'negative_samp': 5,\n",
    "          'epochs': 10,\n",
    "          'seed': 42}"
   ]
  },
  {
   "cell_type": "code",
   "execution_count": 4,
   "metadata": {},
   "outputs": [],
   "source": [
    "dataset = 'electronics'"
   ]
  },
  {
   "cell_type": "markdown",
   "metadata": {},
   "source": [
    "### Load data"
   ]
  },
  {
   "cell_type": "code",
   "execution_count": 5,
   "metadata": {},
   "outputs": [],
   "source": [
    "sequences = np.load('../data/{}_sequences.npy'.format(dataset))\n",
    "# sequences = sequences.tolist()"
   ]
  },
  {
   "cell_type": "code",
   "execution_count": 6,
   "metadata": {},
   "outputs": [],
   "source": [
    "val = pd.read_csv('../data/{}_edges_val.csv'.format(dataset))"
   ]
  },
  {
   "cell_type": "code",
   "execution_count": 7,
   "metadata": {},
   "outputs": [],
   "source": [
    "meta = pd.read_csv('../data/{}_meta.csv'.format(dataset), dtype={'asin': 'object'})\n",
    "meta.drop_duplicates(subset='asin', inplace=True)"
   ]
  },
  {
   "cell_type": "code",
   "execution_count": 9,
   "metadata": {},
   "outputs": [
    {
     "name": "stderr",
     "output_type": "stream",
     "text": [
      "2019-12-19 11:31:45,672 - Model loaded from: ../results/word2id_torch_emb_elec (Size: 57402775 bytes)\n"
     ]
    },
    {
     "data": {
      "text/plain": [
       "418749"
      ]
     },
     "execution_count": 9,
     "metadata": {},
     "output_type": "execute_result"
    }
   ],
   "source": [
    "word2id = load_model('../results/word2id_torch_emb_elec')\n",
    "len(word2id)"
   ]
  },
  {
   "cell_type": "code",
   "execution_count": 10,
   "metadata": {},
   "outputs": [
    {
     "name": "stderr",
     "output_type": "stream",
     "text": [
      "2019-12-19 11:31:48,106 - No. of rows in meta before filter by word2id: 498196\n",
      "2019-12-19 11:31:48,471 - No. of rows in meta after filter by word2id: 162023\n"
     ]
    }
   ],
   "source": [
    "logger.info('No. of rows in meta before filter by word2id: {}'.format(meta.shape[0]))\n",
    "meta = meta[meta['asin'].isin(word2id.keys())].copy()\n",
    "logger.info('No. of rows in meta after filter by word2id: {}'.format(meta.shape[0]))"
   ]
  },
  {
   "cell_type": "code",
   "execution_count": 13,
   "metadata": {},
   "outputs": [
    {
     "data": {
      "text/plain": [
       "0.5139023471976201"
      ]
     },
     "execution_count": 13,
     "metadata": {},
     "output_type": "execute_result"
    }
   ],
   "source": [
    "83264/162023"
   ]
  },
  {
   "cell_type": "code",
   "execution_count": 19,
   "metadata": {},
   "outputs": [
    {
     "data": {
      "text/plain": [
       "2702"
      ]
     },
     "execution_count": 19,
     "metadata": {},
     "output_type": "execute_result"
    }
   ],
   "source": [
    "sum(meta['category_lvl_3'] == 'NA_VALUE')"
   ]
  },
  {
   "cell_type": "code",
   "execution_count": 20,
   "metadata": {},
   "outputs": [
    {
     "data": {
      "text/plain": [
       "0"
      ]
     },
     "execution_count": 20,
     "metadata": {},
     "output_type": "execute_result"
    }
   ],
   "source": [
    "sum(meta['category_lvl_2'] == 'NA_VALUE')"
   ]
  },
  {
   "cell_type": "code",
   "execution_count": 12,
   "metadata": {},
   "outputs": [
    {
     "data": {
      "text/plain": [
       "asin                  0\n",
       "description       17672\n",
       "categories            0\n",
       "title              1040\n",
       "price              3187\n",
       "related               0\n",
       "brand             83264\n",
       "category_lvl_1        0\n",
       "category_lvl_2        0\n",
       "category_lvl_3        0\n",
       "category_lvl_4        0\n",
       "dtype: int64"
      ]
     },
     "execution_count": 12,
     "metadata": {},
     "output_type": "execute_result"
    }
   ],
   "source": [
    "meta.isnull().sum()"
   ]
  },
  {
   "cell_type": "code",
   "execution_count": 10,
   "metadata": {},
   "outputs": [
    {
     "data": {
      "text/plain": [
       "electronics                  160688\n",
       "cell phones & accessories      1320\n",
       "automotive                        9\n",
       "arts, crafts & sewing             2\n",
       "beauty                            2\n",
       "baby products                     1\n",
       "clothing, shoes & jewelry         1\n",
       "Name: category_lvl_1, dtype: int64"
      ]
     },
     "execution_count": 10,
     "metadata": {},
     "output_type": "execute_result"
    }
   ],
   "source": [
    "meta['category_lvl_1'].value_counts()"
   ]
  },
  {
   "cell_type": "code",
   "execution_count": 11,
   "metadata": {},
   "outputs": [
    {
     "data": {
      "text/plain": [
       "computers & accessories      70535\n",
       "camera & photo               35203\n",
       "accessories & supplies       24699\n",
       "car & vehicle electronics    10471\n",
       "portable audio & video        9163\n",
       "Name: category_lvl_2, dtype: int64"
      ]
     },
     "execution_count": 11,
     "metadata": {},
     "output_type": "execute_result"
    }
   ],
   "source": [
    "meta['category_lvl_2'].value_counts().head()"
   ]
  },
  {
   "cell_type": "code",
   "execution_count": 12,
   "metadata": {},
   "outputs": [
    {
     "data": {
      "text/plain": [
       "audio & video accessories                18314\n",
       "cables & accessories                     18293\n",
       "accessories                              17191\n",
       "touch screen tablet accessories          16531\n",
       "laptop & netbook computer accessories    14315\n",
       "Name: category_lvl_3, dtype: int64"
      ]
     },
     "execution_count": 12,
     "metadata": {},
     "output_type": "execute_result"
    }
   ],
   "source": [
    "meta['category_lvl_3'].value_counts().head()"
   ]
  },
  {
   "cell_type": "code",
   "execution_count": 13,
   "metadata": {},
   "outputs": [
    {
     "data": {
      "text/plain": [
       "sony         1338\n",
       "unknown      1265\n",
       "generic      1139\n",
       "dell          964\n",
       "monoprice     953\n",
       "Name: brand, dtype: int64"
      ]
     },
     "execution_count": 13,
     "metadata": {},
     "output_type": "execute_result"
    }
   ],
   "source": [
    "meta['brand'].value_counts().head()"
   ]
  },
  {
   "cell_type": "markdown",
   "metadata": {},
   "source": [
    "### Create features from meta"
   ]
  },
  {
   "cell_type": "code",
   "execution_count": 14,
   "metadata": {},
   "outputs": [
    {
     "name": "stderr",
     "output_type": "stream",
     "text": [
      "/Users/eugeneyan/recsys/venv/lib/python3.7/site-packages/ipykernel_launcher.py:3: MatplotlibDeprecationWarning: \n",
      "The 'normed' kwarg was deprecated in Matplotlib 2.1 and will be removed in 3.1. Use 'density' instead.\n",
      "  This is separate from the ipykernel package so we can avoid doing imports until\n",
      "/Users/eugeneyan/recsys/venv/lib/python3.7/site-packages/numpy/lib/histograms.py:829: RuntimeWarning: invalid value encountered in greater_equal\n",
      "  keep = (tmp_a >= first_edge)\n",
      "/Users/eugeneyan/recsys/venv/lib/python3.7/site-packages/numpy/lib/histograms.py:830: RuntimeWarning: invalid value encountered in less_equal\n",
      "  keep &= (tmp_a <= last_edge)\n"
     ]
    },
    {
     "data": {
      "text/plain": [
       "(0, 500)"
      ]
     },
     "execution_count": 14,
     "metadata": {},
     "output_type": "execute_result"
    },
    {
     "data": {
      "image/png": "[encoded data removed]",
      "text/plain": [
       "<Figure size 1080x360 with 1 Axes>"
      ]
     },
     "metadata": {
      "needs_background": "light"
     },
     "output_type": "display_data"
    }
   ],
   "source": [
    "plt.figure(figsize=(15, 5))\n",
    "plt.grid()\n",
    "_ = plt.hist(meta['price'], bins=200, cumulative=True, normed=True)\n",
    "plt.xlim((0, 500))"
   ]
  },
  {
   "cell_type": "code",
   "execution_count": 15,
   "metadata": {},
   "outputs": [],
   "source": [
    "def round_up(num, divisor=5):\n",
    "    return ((num + divisor-1) // divisor) * divisor"
   ]
  },
  {
   "cell_type": "code",
   "execution_count": 16,
   "metadata": {},
   "outputs": [],
   "source": [
    "def bin_price(price):\n",
    "    if price < 25:\n",
    "        return price\n",
    "    elif 25 < price < 50:\n",
    "        return round_up(price, divisor=5)\n",
    "    elif 50 < price < 500:\n",
    "        return round_up(price, divisor=10)\n",
    "    else:\n",
    "        return 500"
   ]
  },
  {
   "cell_type": "code",
   "execution_count": 17,
   "metadata": {},
   "outputs": [],
   "source": [
    "def prep_price(price_col):\n",
    "    price = np.round(price_col)\n",
    "    price.fillna(-1, inplace=True)\n",
    "    price = price.astype(int)\n",
    "    price = price.apply(bin_price)\n",
    "    price = price + 1\n",
    "    \n",
    "    return price"
   ]
  },
  {
   "cell_type": "code",
   "execution_count": 18,
   "metadata": {},
   "outputs": [],
   "source": [
    "meta['price'] = prep_price(meta['price'])"
   ]
  },
  {
   "cell_type": "code",
   "execution_count": 19,
   "metadata": {},
   "outputs": [],
   "source": [
    "# Only keep books\n",
    "meta = meta[meta['category_lvl_1'] == dataset].copy()"
   ]
  },
  {
   "cell_type": "code",
   "execution_count": 20,
   "metadata": {},
   "outputs": [],
   "source": [
    "def prep_categorical(cat_col, min_threshold=100):\n",
    "    counts = cat_col.value_counts()\n",
    "    category_set = counts[counts > min_threshold].index\n",
    "    \n",
    "    return np.where(cat_col.isin(category_set), cat_col, 'MISC')"
   ]
  },
  {
   "cell_type": "code",
   "execution_count": 21,
   "metadata": {},
   "outputs": [],
   "source": [
    "def prep_meta(meta):\n",
    "    logger.info('No. of rows in meta before filter by word2id: {}'.format(meta.shape[0]))\n",
    "    meta = meta[meta['asin'].isin(word2id.keys())].copy()\n",
    "    logger.info('No. of rows in meta after filter by word2id: {}'.format(meta.shape[0]))\n",
    "    \n",
    "    meta['price'] = prep_price(meta['price'])\n",
    "    meta['category_lvl_2'] = prep_categorical(meta['category_lvl_2'])\n",
    "    meta['category_lvl_3'] = prep_categorical(meta['category_lvl_3'])\n",
    "    meta['category_lvl_4'] = prep_categorical(meta['category_lvl_4'])\n",
    "    meta['brand'] = prep_categorical(meta['brand'])\n",
    "    \n",
    "    return meta"
   ]
  },
  {
   "cell_type": "code",
   "execution_count": 22,
   "metadata": {},
   "outputs": [
    {
     "name": "stderr",
     "output_type": "stream",
     "text": [
      "2019-12-05 18:00:22,557 - No. of rows in meta before filter by word2id: 160688\n",
      "2019-12-05 18:00:22,817 - No. of rows in meta after filter by word2id: 160688\n"
     ]
    }
   ],
   "source": [
    "meta = prep_meta(meta)"
   ]
  },
  {
   "cell_type": "code",
   "execution_count": 23,
   "metadata": {},
   "outputs": [
    {
     "data": {
      "text/plain": [
       "electronics    160688\n",
       "Name: category_lvl_1, dtype: int64"
      ]
     },
     "execution_count": 23,
     "metadata": {},
     "output_type": "execute_result"
    }
   ],
   "source": [
    "meta['category_lvl_1'].value_counts()"
   ]
  },
  {
   "cell_type": "code",
   "execution_count": 24,
   "metadata": {},
   "outputs": [
    {
     "data": {
      "text/plain": [
       "computers & accessories      70535\n",
       "camera & photo               35203\n",
       "accessories & supplies       24699\n",
       "car & vehicle electronics    10471\n",
       "portable audio & video        9163\n",
       "Name: category_lvl_2, dtype: int64"
      ]
     },
     "execution_count": 24,
     "metadata": {},
     "output_type": "execute_result"
    }
   ],
   "source": [
    "meta['category_lvl_2'].value_counts().head()"
   ]
  },
  {
   "cell_type": "code",
   "execution_count": 25,
   "metadata": {},
   "outputs": [
    {
     "data": {
      "text/plain": [
       "audio & video accessories                18314\n",
       "cables & accessories                     18293\n",
       "accessories                              17191\n",
       "touch screen tablet accessories          16531\n",
       "laptop & netbook computer accessories    14315\n",
       "Name: category_lvl_3, dtype: int64"
      ]
     },
     "execution_count": 25,
     "metadata": {},
     "output_type": "execute_result"
    }
   ],
   "source": [
    "meta['category_lvl_3'].value_counts().head()"
   ]
  },
  {
   "cell_type": "code",
   "execution_count": 26,
   "metadata": {},
   "outputs": [
    {
     "data": {
      "text/plain": [
       "NA_VALUE                  16265\n",
       "cases & sleeves           11481\n",
       "cables & interconnects    10589\n",
       "mp3 player accessories     5847\n",
       "batteries & chargers       5804\n",
       "Name: category_lvl_4, dtype: int64"
      ]
     },
     "execution_count": 26,
     "metadata": {},
     "output_type": "execute_result"
    }
   ],
   "source": [
    "meta['category_lvl_4'].value_counts().head()"
   ]
  },
  {
   "cell_type": "code",
   "execution_count": 27,
   "metadata": {},
   "outputs": [
    {
     "data": {
      "text/plain": [
       "MISC       123011\n",
       "sony         1336\n",
       "unknown      1259\n",
       "generic      1119\n",
       "dell          964\n",
       "Name: brand, dtype: int64"
      ]
     },
     "execution_count": 27,
     "metadata": {},
     "output_type": "execute_result"
    }
   ],
   "source": [
    "meta['brand'].value_counts().head()"
   ]
  },
  {
   "cell_type": "markdown",
   "metadata": {},
   "source": [
    "### Convert meta to dict"
   ]
  },
  {
   "cell_type": "code",
   "execution_count": 29,
   "metadata": {},
   "outputs": [],
   "source": [
    "CAT_COLS = ['price', 'category_lvl_2', 'category_lvl_3', 'category_lvl_4', 'brand']\n",
    "encoder = OrdinalEncoder(cols=CAT_COLS)\n",
    "meta = encoder.fit_transform(meta)"
   ]
  },
  {
   "cell_type": "code",
   "execution_count": 36,
   "metadata": {},
   "outputs": [
    {
     "data": {
      "text/plain": [
       "price              75\n",
       "category_lvl_2     13\n",
       "category_lvl_3     61\n",
       "category_lvl_4    149\n",
       "brand             131\n",
       "dtype: int64"
      ]
     },
     "execution_count": 36,
     "metadata": {},
     "output_type": "execute_result"
    }
   ],
   "source": [
    "meta[CAT_COLS].max() + 1"
   ]
  },
  {
   "cell_type": "code",
   "execution_count": null,
   "metadata": {},
   "outputs": [],
   "source": []
  },
  {
   "cell_type": "code",
   "execution_count": null,
   "metadata": {},
   "outputs": [],
   "source": [
    "def get_dict_values(meta):\n",
    "    return [meta['price'], meta['category_lvl_2'], meta['category_lvl_3'], meta['category_lvl_4'], meta['brand']]"
   ]
  },
  {
   "cell_type": "code",
   "execution_count": null,
   "metadata": {},
   "outputs": [],
   "source": [
    "def convert_meta_to_dict(meta):\n",
    "    meta_cols = ['asin', 'price', 'category_lvl_2', 'category_lvl_3', 'category_lvl_4', 'brand']\n",
    "    meta = meta[meta_cols].copy()\n",
    "    \n",
    "    # Encode to int\n",
    "    CAT_COLS = ['price', 'category_lvl_2', 'category_lvl_3', 'category_lvl_4', 'brand']\n",
    "    encoder = OrdinalEncoder(cols=CAT_COLS)\n",
    "    meta = encoder.fit_transform(meta)\n",
    "    save_model(encoder, '../model/encoder')\n",
    "    \n",
    "    meta['values'] = meta.apply(get_dict_values, axis=1)\n",
    "    meta_dict = meta.set_index('asin')['values'].to_dict()\n",
    "    meta_dict = {word2id[k]: v for k, v in meta_dict.items()}\n",
    "    \n",
    "    meta_counts_dict = meta[CAT_COLS].nunique().to_dict()\n",
    "    \n",
    "    return meta_dict, meta_counts_dict"
   ]
  },
  {
   "cell_type": "code",
   "execution_count": null,
   "metadata": {},
   "outputs": [],
   "source": [
    "meta_dict, meta_counts_dict = convert_meta_to_dict(meta)"
   ]
  },
  {
   "cell_type": "code",
   "execution_count": null,
   "metadata": {},
   "outputs": [],
   "source": [
    "meta_counts_dict"
   ]
  },
  {
   "cell_type": "code",
   "execution_count": null,
   "metadata": {},
   "outputs": [],
   "source": [
    "def get_word_freq(sequences):\n",
    "    # Flatten list\n",
    "    seq_flat = list(itertools.chain.from_iterable(sequences))\n",
    "    \n",
    "    # Get word frequency\n",
    "    word_freq = Counter(seq_flat)\n",
    "    \n",
    "    return word_freq"
   ]
  },
  {
   "cell_type": "code",
   "execution_count": null,
   "metadata": {},
   "outputs": [],
   "source": [
    "word_freq = get_word_freq(sequences)"
   ]
  },
  {
   "cell_type": "code",
   "execution_count": null,
   "metadata": {},
   "outputs": [],
   "source": [
    "def get_mapping_dicts(word_freq):\n",
    "    word2id = dict()\n",
    "    id2word = dict()\n",
    "\n",
    "    wid = 0\n",
    "    for w, c in word_freq.items():\n",
    "        word2id[w] = wid\n",
    "        id2word[wid] = w\n",
    "        wid += 1\n",
    "        \n",
    "    return word2id, id2word"
   ]
  },
  {
   "cell_type": "code",
   "execution_count": null,
   "metadata": {},
   "outputs": [],
   "source": [
    "word2id, id2word = get_mapping_dicts(word_freq)"
   ]
  },
  {
   "cell_type": "code",
   "execution_count": null,
   "metadata": {},
   "outputs": [],
   "source": [
    "len(word2id)"
   ]
  },
  {
   "cell_type": "markdown",
   "metadata": {},
   "source": [
    "### Add validation data into word2id"
   ]
  },
  {
   "cell_type": "code",
   "execution_count": null,
   "metadata": {},
   "outputs": [],
   "source": [
    "val_product_set = set(val['product1'].values).union(set(val['product2'].values))"
   ]
  },
  {
   "cell_type": "code",
   "execution_count": null,
   "metadata": {},
   "outputs": [],
   "source": [
    "len(val_product_set)"
   ]
  },
  {
   "cell_type": "code",
   "execution_count": null,
   "metadata": {},
   "outputs": [],
   "source": [
    "wid = max(word2id.values()) + 1\n",
    "for w in val_product_set:\n",
    "    if w not in word2id:\n",
    "        word2id[w] = wid\n",
    "        id2word[wid] = w\n",
    "        wid += 1"
   ]
  },
  {
   "cell_type": "code",
   "execution_count": null,
   "metadata": {},
   "outputs": [],
   "source": [
    "len(word2id)"
   ]
  },
  {
   "cell_type": "code",
   "execution_count": null,
   "metadata": {},
   "outputs": [],
   "source": [
    "def convert_sequence_to_id(sequences, word2id):\n",
    "    return np.vectorize(word2id.get)(sequences)"
   ]
  },
  {
   "cell_type": "code",
   "execution_count": null,
   "metadata": {},
   "outputs": [],
   "source": [
    "sequences = convert_sequence_to_id(sequences, word2id)"
   ]
  },
  {
   "cell_type": "code",
   "execution_count": null,
   "metadata": {},
   "outputs": [],
   "source": [
    "sequences"
   ]
  },
  {
   "cell_type": "code",
   "execution_count": null,
   "metadata": {},
   "outputs": [],
   "source": [
    "def convert_word_freq_to_id(word_freq, word2id):\n",
    "    return {word2id[k]: v for k, v in word_freq.items()}"
   ]
  },
  {
   "cell_type": "code",
   "execution_count": null,
   "metadata": {},
   "outputs": [],
   "source": [
    "word_freq = convert_word_freq_to_id(word_freq, word2id)"
   ]
  },
  {
   "cell_type": "code",
   "execution_count": null,
   "metadata": {},
   "outputs": [],
   "source": [
    "def get_discard_probs(sequences, word_freq, sample=0.001):\n",
    "    \n",
    "    # Convert to array\n",
    "    word_freq = np.array(list(word_freq.items()), dtype=np.float64)\n",
    "    \n",
    "    # Convert to probabilities\n",
    "    word_freq[:, 1] = word_freq[:, 1] / word_freq[:, 1].sum()\n",
    "    \n",
    "    # Perform subsampling\n",
    "    # http://mccormickml.com/2017/01/11/word2vec-tutorial-part-2-negative-sampling/\n",
    "    word_freq[:, 1] = (np.sqrt(word_freq[:, 1]/sample) + 1)*(sample/word_freq[:, 1])\n",
    "    \n",
    "    # Get dict\n",
    "    discard_probs = {int(k):v for k, v in word_freq.tolist()}\n",
    "    \n",
    "    return discard_probs"
   ]
  },
  {
   "cell_type": "code",
   "execution_count": null,
   "metadata": {},
   "outputs": [],
   "source": [
    "discard_probs = get_discard_probs(sequences, word_freq)"
   ]
  },
  {
   "cell_type": "code",
   "execution_count": null,
   "metadata": {},
   "outputs": [],
   "source": [
    "discard_probs[9]"
   ]
  },
  {
   "cell_type": "code",
   "execution_count": null,
   "metadata": {},
   "outputs": [],
   "source": [
    "def get_negative_sample_table(sequences, word_freq, power=0.75):\n",
    "    sample_table_size = 1e6\n",
    "    \n",
    "    # Convert to array\n",
    "    word_freq = np.array(list(word_freq.items()), dtype=np.float64)\n",
    "    \n",
    "    # Adjust by power \n",
    "    word_freq[:, 1] = word_freq[:, 1] ** power\n",
    "    \n",
    "    # Get probabilities\n",
    "    word_freq_sum = word_freq[:, 1].sum()\n",
    "    word_freq[:, 1] = word_freq[:, 1] / word_freq_sum\n",
    "    \n",
    "    # Multiply probabilities by sample table size\n",
    "    word_freq[:, 1] = np.round(word_freq[:, 1] * sample_table_size)\n",
    "    \n",
    "    # Convert to int\n",
    "    word_freq = word_freq.astype(int).tolist()\n",
    "    \n",
    "    # Create sample table\n",
    "    sample_table = [[tup[0]] * tup[1] for tup in word_freq]\n",
    "    sample_table = np.array(list(itertools.chain.from_iterable(sample_table)))\n",
    "    np.random.shuffle(sample_table)\n",
    "    \n",
    "    return sample_table"
   ]
  },
  {
   "cell_type": "code",
   "execution_count": null,
   "metadata": {},
   "outputs": [],
   "source": [
    "neg_table = get_negative_sample_table(sequences, word_freq)"
   ]
  },
  {
   "cell_type": "code",
   "execution_count": null,
   "metadata": {},
   "outputs": [],
   "source": [
    "def get_negative_samples(sample_size=5):\n",
    "    negative_idx = 0\n",
    "    # Get a batch from the shuffled table\n",
    "    neg_sample = neg_table[negative_idx:negative_idx + sample_size]\n",
    "    \n",
    "    # Update negative index\n",
    "    negative_idx = (negative_idx + sample_size) % len(neg_table)\n",
    "    \n",
    "    # Check if batch insufficient\n",
    "    if len(neg_sample) != sample_size:\n",
    "        neg_sample = np.concatenate((neg_sample, neg_samples[:negative_idx]))\n",
    "        \n",
    "    return neg_sample"
   ]
  },
  {
   "cell_type": "code",
   "execution_count": null,
   "metadata": {},
   "outputs": [],
   "source": [
    "neg_samples = get_negative_samples()"
   ]
  },
  {
   "cell_type": "markdown",
   "metadata": {},
   "source": [
    "### Get pairs (with subsampling)"
   ]
  },
  {
   "cell_type": "code",
   "execution_count": null,
   "metadata": {},
   "outputs": [],
   "source": [
    "sequences"
   ]
  },
  {
   "cell_type": "code",
   "execution_count": null,
   "metadata": {},
   "outputs": [],
   "source": [
    "sequence = sequences[1]\n",
    "sequence"
   ]
  },
  {
   "cell_type": "code",
   "execution_count": null,
   "metadata": {},
   "outputs": [],
   "source": [
    "# Works on per sequence\n",
    "def get_pairs(idx, window=5):\n",
    "    pairs = []\n",
    "    sequence = sequences[idx]\n",
    "    \n",
    "    for center_idx, center in enumerate(sequence):\n",
    "        for i in range(-window, window+1):\n",
    "            context_idx = center_idx + i\n",
    "            if context_idx > 0 and context_idx < len(sequence) and center != sequence[context_idx] and np.random.rand() < discard_probs[sequence[context_idx]]:\n",
    "                context = sequence[context_idx]\n",
    "                # pairs.append((center, context))\n",
    "                center_meta = meta_dict.get(center, [0, 0, 0, 0, 0])\n",
    "                context_meta = meta_dict.get(context, [0, 0, 0, 0, 0])\n",
    "                pairs.append(([center] + center_meta, [context] + context_meta))\n",
    "            \n",
    "    return pairs"
   ]
  },
  {
   "cell_type": "code",
   "execution_count": null,
   "metadata": {},
   "outputs": [],
   "source": [
    "get_pairs(1)"
   ]
  },
  {
   "cell_type": "code",
   "execution_count": null,
   "metadata": {},
   "outputs": [],
   "source": [
    "def get_negative_samples(context, sample_size=5):\n",
    "    negative_idx = 0\n",
    "    while True:\n",
    "        # Get a batch from the shuffled table\n",
    "        neg_sample = neg_table[negative_idx:negative_idx + sample_size]\n",
    "\n",
    "        # Update negative index\n",
    "        negative_idx = (negative_idx + sample_size) % len(neg_table)\n",
    "\n",
    "        # Check if batch insufficient\n",
    "        if len(neg_sample) != sample_size:\n",
    "            neg_sample = np.concatenate((neg_sample, neg_samples[:negative_idx]))\n",
    "        \n",
    "        if not context in neg_sample:\n",
    "            return [[samp] + meta_dict.get(samp, [0, 0, 0, 0, 0]) for samp in neg_sample]"
   ]
  },
  {
   "cell_type": "code",
   "execution_count": null,
   "metadata": {},
   "outputs": [],
   "source": [
    "sequences[1]"
   ]
  },
  {
   "cell_type": "code",
   "execution_count": null,
   "metadata": {},
   "outputs": [],
   "source": [
    "pairs = get_pairs(1)\n",
    "pairs[0]"
   ]
  },
  {
   "cell_type": "code",
   "execution_count": null,
   "metadata": {},
   "outputs": [],
   "source": [
    "x_samp = get_negative_samples(26078)"
   ]
  },
  {
   "cell_type": "code",
   "execution_count": null,
   "metadata": {},
   "outputs": [],
   "source": [
    "x_samp"
   ]
  },
  {
   "cell_type": "code",
   "execution_count": null,
   "metadata": {},
   "outputs": [],
   "source": []
  },
  {
   "cell_type": "code",
   "execution_count": null,
   "metadata": {},
   "outputs": [],
   "source": []
  },
  {
   "cell_type": "code",
   "execution_count": null,
   "metadata": {},
   "outputs": [],
   "source": [
    "neg_samples = []\n",
    "for center, center_meta, context, context_meta, in pairs:\n",
    "    neg_samples.append(get_negative_samples(context))\n",
    "\n",
    "neg_samples"
   ]
  },
  {
   "cell_type": "code",
   "execution_count": null,
   "metadata": {},
   "outputs": [],
   "source": [
    "# # Works on batch\n",
    "# def get_pairs(sequences, window=5):\n",
    "#     pairs = []\n",
    "#     window = PARAMS['window']\n",
    "\n",
    "#     for sequence in sequences:\n",
    "#         for center_idx, node in enumerate(sequence):\n",
    "#             for i in range(-window, window+1):\n",
    "#                 context_idx = center_idx + i\n",
    "#                 if context_idx > 0 and context_idx < len(sequence) and node != sequence[context_idx] and np.random.rand() < discard_probs[sequence[context_idx]]:\n",
    "#                     pairs.append((node, sequence[context_idx]))\n",
    "                    \n",
    "#     return pairs"
   ]
  },
  {
   "cell_type": "code",
   "execution_count": null,
   "metadata": {},
   "outputs": [],
   "source": [
    "# pairs = get_pairs(sequences, PARAMS['window'])\n",
    "# logger.info('Len of pairs: {:,}'.format(len(pairs)))"
   ]
  },
  {
   "cell_type": "markdown",
   "metadata": {},
   "source": [
    "### Try sequence class"
   ]
  },
  {
   "cell_type": "code",
   "execution_count": null,
   "metadata": {},
   "outputs": [],
   "source": [
    "from src.ml.data_loader_with_meta import Sequences, SequencesDataset\n",
    "from torch.utils.data import DataLoader"
   ]
  },
  {
   "cell_type": "code",
   "execution_count": null,
   "metadata": {},
   "outputs": [],
   "source": [
    "sequences = Sequences('../data/{}_sequences_samp.npy'.format(dataset), \n",
    "                      '../data/{}_edges_val_samp.csv'.format(dataset),\n",
    "                      '../data/{}_meta.csv'.format(dataset))"
   ]
  },
  {
   "cell_type": "code",
   "execution_count": null,
   "metadata": {},
   "outputs": [],
   "source": [
    "sequences.meta_dict"
   ]
  },
  {
   "cell_type": "code",
   "execution_count": null,
   "metadata": {},
   "outputs": [],
   "source": [
    "pairs = sequences.get_pairs(0)\n",
    "pairs"
   ]
  },
  {
   "cell_type": "code",
   "execution_count": null,
   "metadata": {},
   "outputs": [],
   "source": [
    "neg_samples = []\n",
    "for center, context in pairs:\n",
    "    neg_samples.append(sequences.get_negative_samples(context))\n",
    "neg_samples[:5]"
   ]
  },
  {
   "cell_type": "code",
   "execution_count": null,
   "metadata": {},
   "outputs": [],
   "source": [
    "seq_dset = SequencesDataset(sequences)"
   ]
  },
  {
   "cell_type": "code",
   "execution_count": null,
   "metadata": {},
   "outputs": [],
   "source": [
    "for i, batch in enumerate(seq_dset):\n",
    "    logger.info(batch)\n",
    "    if i > 3:\n",
    "        break"
   ]
  },
  {
   "cell_type": "code",
   "execution_count": null,
   "metadata": {},
   "outputs": [],
   "source": [
    "center = [pair[0] for pair in batch[0]]\n",
    "context = [pair[1] for pair in batch[0]]\n",
    "neg_context = batch[1]"
   ]
  },
  {
   "cell_type": "code",
   "execution_count": null,
   "metadata": {},
   "outputs": [],
   "source": [
    "seq_dloader = DataLoader(dataset=seq_dset, batch_size=2, shuffle=False, collate_fn=seq_dset.collate)"
   ]
  },
  {
   "cell_type": "code",
   "execution_count": null,
   "metadata": {},
   "outputs": [],
   "source": [
    "for i, batches in enumerate(seq_dloader):\n",
    "    centers, contexts, neg_contexts = batches\n",
    "    if i == 0:\n",
    "        break"
   ]
  },
  {
   "cell_type": "code",
   "execution_count": null,
   "metadata": {},
   "outputs": [],
   "source": [
    "batches[0]"
   ]
  },
  {
   "cell_type": "code",
   "execution_count": null,
   "metadata": {},
   "outputs": [],
   "source": [
    "batches[1]"
   ]
  },
  {
   "cell_type": "code",
   "execution_count": null,
   "metadata": {
    "scrolled": true
   },
   "outputs": [],
   "source": [
    "batches[2]"
   ]
  },
  {
   "cell_type": "markdown",
   "metadata": {},
   "source": [
    "### Init skipgram"
   ]
  },
  {
   "cell_type": "code",
   "execution_count": null,
   "metadata": {},
   "outputs": [],
   "source": [
    "sequences.emb_size"
   ]
  },
  {
   "cell_type": "code",
   "execution_count": null,
   "metadata": {},
   "outputs": [],
   "source": [
    "for "
   ]
  },
  {
   "cell_type": "code",
   "execution_count": null,
   "metadata": {},
   "outputs": [],
   "source": []
  }
 ],
 "metadata": {
  "kernelspec": {
   "display_name": "recsys",
   "language": "python",
   "name": "recsys"
  },
  "language_info": {
   "codemirror_mode": {
    "name": "ipython",
    "version": 3
   },
   "file_extension": ".py",
   "mimetype": "text/x-python",
   "name": "python",
   "nbconvert_exporter": "python",
   "pygments_lexer": "ipython3",
   "version": "3.7.2"
  }
 },
 "nbformat": 4,
 "nbformat_minor": 2
}
