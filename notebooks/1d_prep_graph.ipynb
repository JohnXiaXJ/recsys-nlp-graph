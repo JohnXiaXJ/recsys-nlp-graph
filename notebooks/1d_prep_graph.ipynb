{
 "cells": [
  {
   "cell_type": "code",
   "execution_count": 1,
   "metadata": {},
   "outputs": [],
   "source": [
    "import sys\n",
    "import os\n",
    "\n",
    "sys.path.append(os.path.dirname(os.getcwd()))"
   ]
  },
  {
   "cell_type": "code",
   "execution_count": 2,
   "metadata": {},
   "outputs": [
    {
     "ename": "ModuleNotFoundError",
     "evalue": "No module named 'src.prep.prep_edgelist'",
     "output_type": "error",
     "traceback": [
      "\u001b[0;31m---------------------------------------------------------------------------\u001b[0m",
      "\u001b[0;31mModuleNotFoundError\u001b[0m                       Traceback (most recent call last)",
      "\u001b[0;32m<ipython-input-2-40cff3f7e9fd>\u001b[0m in \u001b[0;36m<module>\u001b[0;34m\u001b[0m\n\u001b[1;32m      8\u001b[0m \u001b[0;32mfrom\u001b[0m \u001b[0msrc\u001b[0m\u001b[0;34m.\u001b[0m\u001b[0mutils\u001b[0m\u001b[0;34m.\u001b[0m\u001b[0mlogger\u001b[0m \u001b[0;32mimport\u001b[0m \u001b[0mlogger\u001b[0m\u001b[0;34m\u001b[0m\u001b[0;34m\u001b[0m\u001b[0m\n\u001b[1;32m      9\u001b[0m \u001b[0;32mfrom\u001b[0m \u001b[0msrc\u001b[0m\u001b[0;34m.\u001b[0m\u001b[0mutils\u001b[0m\u001b[0;34m.\u001b[0m\u001b[0mio_utils\u001b[0m \u001b[0;32mimport\u001b[0m \u001b[0msave_model\u001b[0m\u001b[0;34m,\u001b[0m \u001b[0mload_model\u001b[0m\u001b[0;34m\u001b[0m\u001b[0;34m\u001b[0m\u001b[0m\n\u001b[0;32m---> 10\u001b[0;31m \u001b[0;32mfrom\u001b[0m \u001b[0msrc\u001b[0m\u001b[0;34m.\u001b[0m\u001b[0mprep\u001b[0m\u001b[0;34m.\u001b[0m\u001b[0mprep_edgelist\u001b[0m \u001b[0;32mimport\u001b[0m \u001b[0mcreate_product_pair\u001b[0m\u001b[0;34m,\u001b[0m \u001b[0mget_relationship_weights\u001b[0m\u001b[0;34m,\u001b[0m \u001b[0msplit_product_pair\u001b[0m\u001b[0;34m\u001b[0m\u001b[0;34m\u001b[0m\u001b[0m\n\u001b[0m",
      "\u001b[0;31mModuleNotFoundError\u001b[0m: No module named 'src.prep.prep_edgelist'"
     ]
    }
   ],
   "source": [
    "import random\n",
    "import numpy as np\n",
    "import scipy as sp\n",
    "import pandas as pd\n",
    "import networkx\n",
    "from collections import defaultdict\n",
    "\n",
    "from src.utils.logger import logger\n",
    "from src.utils.io_utils import save_model, load_model\n",
    "from src.prep.prep_edgelist import create_product_pair, get_relationship_weights, split_product_pair"
   ]
  },
  {
   "cell_type": "code",
   "execution_count": null,
   "metadata": {},
   "outputs": [],
   "source": [
    "N_NODES = 5\n",
    "SAMPLES_PER_NODE = 10\n",
    "SEQUENCE_LEN = 10"
   ]
  },
  {
   "cell_type": "code",
   "execution_count": null,
   "metadata": {},
   "outputs": [],
   "source": [
    "G = networkx.gnp_random_graph(5, 0.5)\n",
    "G.add_edge(1, 2, weight=7)"
   ]
  },
  {
   "cell_type": "code",
   "execution_count": null,
   "metadata": {},
   "outputs": [],
   "source": [
    "G.edges"
   ]
  },
  {
   "cell_type": "code",
   "execution_count": null,
   "metadata": {},
   "outputs": [],
   "source": [
    "G.nodes"
   ]
  },
  {
   "cell_type": "code",
   "execution_count": null,
   "metadata": {},
   "outputs": [],
   "source": [
    "A = networkx.adj_matrix(G)"
   ]
  },
  {
   "cell_type": "code",
   "execution_count": null,
   "metadata": {},
   "outputs": [],
   "source": [
    "A = A.todense()"
   ]
  },
  {
   "cell_type": "code",
   "execution_count": null,
   "metadata": {},
   "outputs": [],
   "source": [
    "A = np.array(A, dtype=np.float64)"
   ]
  },
  {
   "cell_type": "code",
   "execution_count": null,
   "metadata": {},
   "outputs": [],
   "source": [
    "A"
   ]
  },
  {
   "cell_type": "code",
   "execution_count": null,
   "metadata": {},
   "outputs": [],
   "source": [
    "np.sum(A, axis=1)"
   ]
  },
  {
   "cell_type": "code",
   "execution_count": null,
   "metadata": {},
   "outputs": [],
   "source": [
    "D = np.diag(np.sum(A, axis=0))\n",
    "D"
   ]
  },
  {
   "cell_type": "code",
   "execution_count": null,
   "metadata": {
    "scrolled": true
   },
   "outputs": [],
   "source": [
    "T = np.dot(np.linalg.inv(D), A)\n",
    "T"
   ]
  },
  {
   "cell_type": "code",
   "execution_count": null,
   "metadata": {},
   "outputs": [],
   "source": [
    "T[0]"
   ]
  },
  {
   "cell_type": "code",
   "execution_count": null,
   "metadata": {},
   "outputs": [],
   "source": [
    "networkx.write_weighted_edgelist(G, 'test.edgelist')"
   ]
  },
  {
   "cell_type": "markdown",
   "metadata": {},
   "source": [
    "### Create graph"
   ]
  },
  {
   "cell_type": "code",
   "execution_count": 3,
   "metadata": {},
   "outputs": [],
   "source": [
    "# Weight for each relationship\n",
    "BOUGHT_TOGETHER_WEIGHT = 1.2\n",
    "ALSO_BOUGHT_WEIGHT = 1\n",
    "ALSO_VIEWED_WEIGHT = 0.5"
   ]
  },
  {
   "cell_type": "code",
   "execution_count": 56,
   "metadata": {},
   "outputs": [
    {
     "name": "stderr",
     "output_type": "stream",
     "text": [
      "2019-11-11 17:45:03,647 - Nodes and edges shape: (53783446, 3)\n"
     ]
    }
   ],
   "source": [
    "df = pd.read_csv('../data/books_nodes_and_edges.csv')\n",
    "logger.info('Nodes and edges shape: {}'.format(df.shape))"
   ]
  },
  {
   "cell_type": "markdown",
   "metadata": {},
   "source": [
    "#### Sampling for development"
   ]
  },
  {
   "cell_type": "code",
   "execution_count": 57,
   "metadata": {},
   "outputs": [],
   "source": [
    "sample_idx = np.random.choice(df.shape[0], size=100000, replace=False)"
   ]
  },
  {
   "cell_type": "code",
   "execution_count": 58,
   "metadata": {},
   "outputs": [
    {
     "name": "stderr",
     "output_type": "stream",
     "text": [
      "2019-11-11 17:45:08,561 - Relationship distribution: \n",
      "also_bought        93761\n",
      "also_viewed         4736\n",
      "bought_together     1503\n",
      "Name: relationship, dtype: int64\n"
     ]
    }
   ],
   "source": [
    "df = df.iloc[sample_idx]\n",
    "logger.info('Relationship distribution: \\n{}'.format(df['relationship'].value_counts()))"
   ]
  },
  {
   "cell_type": "markdown",
   "metadata": {},
   "source": [
    "#### End sampling"
   ]
  },
  {
   "cell_type": "code",
   "execution_count": 59,
   "metadata": {},
   "outputs": [],
   "source": [
    "x = df[['asin', 'related']].values"
   ]
  },
  {
   "cell_type": "code",
   "execution_count": 60,
   "metadata": {},
   "outputs": [
    {
     "data": {
      "text/plain": [
       "array([['B00AK3MY8I', '1401604730'],\n",
       "       ['B009XLZIUE', 'B00AJQ2YUO'],\n",
       "       ['2090338490', '2218065916'],\n",
       "       ...,\n",
       "       ['B00FDZK4MG', 'B00F3HJFBA'],\n",
       "       ['1571103333', '0805845143'],\n",
       "       ['1490936653', '1500159050']], dtype=object)"
      ]
     },
     "execution_count": 60,
     "metadata": {},
     "output_type": "execute_result"
    }
   ],
   "source": [
    "x"
   ]
  },
  {
   "cell_type": "code",
   "execution_count": 61,
   "metadata": {},
   "outputs": [],
   "source": [
    "x.sort(axis=1)"
   ]
  },
  {
   "cell_type": "code",
   "execution_count": 62,
   "metadata": {},
   "outputs": [],
   "source": [
    "df['product_pair'] = ['|'.join(arr) for arr in x]"
   ]
  },
  {
   "cell_type": "markdown",
   "metadata": {},
   "source": [
    "### Update weights based on manual input"
   ]
  },
  {
   "cell_type": "code",
   "execution_count": 63,
   "metadata": {},
   "outputs": [],
   "source": [
    "df['weight'] = 0\n",
    "df.loc[df['relationship'] == 'bought_together', 'weight'] += BOUGHT_TOGETHER_WEIGHT\n",
    "df.loc[df['relationship'] == 'also_bought', 'weight'] += ALSO_BOUGHT_WEIGHT\n",
    "df.loc[df['relationship'] == 'also_viewed', 'weight'] += ALSO_VIEWED_WEIGHT"
   ]
  },
  {
   "cell_type": "code",
   "execution_count": 64,
   "metadata": {},
   "outputs": [],
   "source": [
    "df_agg = df.groupby('product_pair').agg({'weight': 'sum'}).reset_index()"
   ]
  },
  {
   "cell_type": "code",
   "execution_count": 65,
   "metadata": {},
   "outputs": [],
   "source": [
    "def split_product_pair(product_pair):\n",
    "    result = product_pair.split('|')\n",
    "    return result[0], result[1]"
   ]
  },
  {
   "cell_type": "code",
   "execution_count": 66,
   "metadata": {},
   "outputs": [],
   "source": [
    "df_agg['product1'], df_agg['product2'] = zip(*df_agg['product_pair'].apply(split_product_pair))"
   ]
  },
  {
   "cell_type": "code",
   "execution_count": 67,
   "metadata": {},
   "outputs": [],
   "source": [
    "df_agg = df_agg[['product1', 'product2', 'weight']]"
   ]
  },
  {
   "cell_type": "code",
   "execution_count": 68,
   "metadata": {},
   "outputs": [
    {
     "data": {
      "text/plain": [
       "(99960, 3)"
      ]
     },
     "execution_count": 68,
     "metadata": {},
     "output_type": "execute_result"
    }
   ],
   "source": [
    "df_agg.shape"
   ]
  },
  {
   "cell_type": "code",
   "execution_count": 69,
   "metadata": {},
   "outputs": [],
   "source": [
    "df_agg.to_csv('../data/books_edges.edgelist', sep=' ', index=False, header=False)"
   ]
  },
  {
   "cell_type": "markdown",
   "metadata": {},
   "source": [
    "### Check"
   ]
  },
  {
   "cell_type": "code",
   "execution_count": 3,
   "metadata": {},
   "outputs": [],
   "source": [
    "df = pd.read_csv('../data/books_edges_train.csv')"
   ]
  },
  {
   "cell_type": "code",
   "execution_count": 4,
   "metadata": {},
   "outputs": [
    {
     "data": {
      "text/html": [
       "<div>\n",
       "<style scoped>\n",
       "    .dataframe tbody tr th:only-of-type {\n",
       "        vertical-align: middle;\n",
       "    }\n",
       "\n",
       "    .dataframe tbody tr th {\n",
       "        vertical-align: top;\n",
       "    }\n",
       "\n",
       "    .dataframe thead th {\n",
       "        text-align: right;\n",
       "    }\n",
       "</style>\n",
       "<table border=\"1\" class=\"dataframe\">\n",
       "  <thead>\n",
       "    <tr style=\"text-align: right;\">\n",
       "      <th></th>\n",
       "      <th>Unnamed: 0</th>\n",
       "      <th>product1</th>\n",
       "      <th>product2</th>\n",
       "      <th>weight</th>\n",
       "    </tr>\n",
       "  </thead>\n",
       "  <tbody>\n",
       "    <tr>\n",
       "      <th>0</th>\n",
       "      <td>0</td>\n",
       "      <td>0000013714</td>\n",
       "      <td>0002877813</td>\n",
       "      <td>2.0</td>\n",
       "    </tr>\n",
       "    <tr>\n",
       "      <th>1</th>\n",
       "      <td>1</td>\n",
       "      <td>0000013714</td>\n",
       "      <td>0005064295</td>\n",
       "      <td>3.2</td>\n",
       "    </tr>\n",
       "    <tr>\n",
       "      <th>2</th>\n",
       "      <td>2</td>\n",
       "      <td>0000013714</td>\n",
       "      <td>0005064309</td>\n",
       "      <td>2.0</td>\n",
       "    </tr>\n",
       "    <tr>\n",
       "      <th>3</th>\n",
       "      <td>3</td>\n",
       "      <td>0000013714</td>\n",
       "      <td>0005064341</td>\n",
       "      <td>3.2</td>\n",
       "    </tr>\n",
       "    <tr>\n",
       "      <th>4</th>\n",
       "      <td>4</td>\n",
       "      <td>0000013714</td>\n",
       "      <td>0005080789</td>\n",
       "      <td>4.4</td>\n",
       "    </tr>\n",
       "    <tr>\n",
       "      <th>...</th>\n",
       "      <td>...</td>\n",
       "      <td>...</td>\n",
       "      <td>...</td>\n",
       "      <td>...</td>\n",
       "    </tr>\n",
       "    <tr>\n",
       "      <th>21277474</th>\n",
       "      <td>26596843</td>\n",
       "      <td>B00L3BZ410</td>\n",
       "      <td>B00L3D35KU</td>\n",
       "      <td>1.0</td>\n",
       "    </tr>\n",
       "    <tr>\n",
       "      <th>21277475</th>\n",
       "      <td>26596844</td>\n",
       "      <td>B00L3BZ410</td>\n",
       "      <td>B00LH1APNI</td>\n",
       "      <td>2.0</td>\n",
       "    </tr>\n",
       "    <tr>\n",
       "      <th>21277476</th>\n",
       "      <td>26596845</td>\n",
       "      <td>B00L6GYHUQ</td>\n",
       "      <td>B00L6H1XIE</td>\n",
       "      <td>1.0</td>\n",
       "    </tr>\n",
       "    <tr>\n",
       "      <th>21277477</th>\n",
       "      <td>26596846</td>\n",
       "      <td>B00L6GYYCC</td>\n",
       "      <td>B00L6H1XIE</td>\n",
       "      <td>1.0</td>\n",
       "    </tr>\n",
       "    <tr>\n",
       "      <th>21277478</th>\n",
       "      <td>26596847</td>\n",
       "      <td>B00LH1APNI</td>\n",
       "      <td>B00LN7LSJG</td>\n",
       "      <td>1.0</td>\n",
       "    </tr>\n",
       "  </tbody>\n",
       "</table>\n",
       "<p>21277479 rows × 4 columns</p>\n",
       "</div>"
      ],
      "text/plain": [
       "          Unnamed: 0    product1    product2  weight\n",
       "0                  0  0000013714  0002877813     2.0\n",
       "1                  1  0000013714  0005064295     3.2\n",
       "2                  2  0000013714  0005064309     2.0\n",
       "3                  3  0000013714  0005064341     3.2\n",
       "4                  4  0000013714  0005080789     4.4\n",
       "...              ...         ...         ...     ...\n",
       "21277474    26596843  B00L3BZ410  B00L3D35KU     1.0\n",
       "21277475    26596844  B00L3BZ410  B00LH1APNI     2.0\n",
       "21277476    26596845  B00L6GYHUQ  B00L6H1XIE     1.0\n",
       "21277477    26596846  B00L6GYYCC  B00L6H1XIE     1.0\n",
       "21277478    26596847  B00LH1APNI  B00LN7LSJG     1.0\n",
       "\n",
       "[21277479 rows x 4 columns]"
      ]
     },
     "execution_count": 4,
     "metadata": {},
     "output_type": "execute_result"
    }
   ],
   "source": [
    "df"
   ]
  },
  {
   "cell_type": "code",
   "execution_count": null,
   "metadata": {},
   "outputs": [],
   "source": []
  },
  {
   "cell_type": "markdown",
   "metadata": {},
   "source": [
    "### Load graph"
   ]
  },
  {
   "cell_type": "code",
   "execution_count": 70,
   "metadata": {},
   "outputs": [],
   "source": [
    "G = networkx.read_weighted_edgelist('../data/books_edges.edgelist')"
   ]
  },
  {
   "cell_type": "code",
   "execution_count": 71,
   "metadata": {},
   "outputs": [
    {
     "name": "stderr",
     "output_type": "stream",
     "text": [
      "2019-11-11 17:45:10,405 - No of nodes (170,847) and edges (99,960)\n"
     ]
    }
   ],
   "source": [
    "logger.info('No of nodes ({:,}) and edges ({:,})'.format(G.number_of_nodes(), G.number_of_edges()))"
   ]
  },
  {
   "cell_type": "code",
   "execution_count": 72,
   "metadata": {},
   "outputs": [],
   "source": [
    "node_dict = {i: key for i, key in enumerate(G.nodes.keys())}"
   ]
  },
  {
   "cell_type": "markdown",
   "metadata": {},
   "source": [
    "### Create transition matrix"
   ]
  },
  {
   "cell_type": "code",
   "execution_count": 73,
   "metadata": {},
   "outputs": [],
   "source": [
    "adjacency_mat = networkx.adj_matrix(G)"
   ]
  },
  {
   "cell_type": "code",
   "execution_count": 74,
   "metadata": {},
   "outputs": [
    {
     "data": {
      "text/plain": [
       "(170847, 170847)"
      ]
     },
     "execution_count": 74,
     "metadata": {},
     "output_type": "execute_result"
    }
   ],
   "source": [
    "adjacency_mat.shape"
   ]
  },
  {
   "cell_type": "code",
   "execution_count": 75,
   "metadata": {},
   "outputs": [
    {
     "data": {
      "text/plain": [
       "<170847x170847 sparse matrix of type '<class 'numpy.float64'>'\n",
       "\twith 199920 stored elements in Compressed Sparse Row format>"
      ]
     },
     "execution_count": 75,
     "metadata": {},
     "output_type": "execute_result"
    }
   ],
   "source": [
    "adjacency_mat"
   ]
  },
  {
   "cell_type": "code",
   "execution_count": 76,
   "metadata": {},
   "outputs": [],
   "source": [
    "degree_vector = sp.sparse.csr_matrix(1/np.sum(adjacency_mat, axis=0))"
   ]
  },
  {
   "cell_type": "code",
   "execution_count": 77,
   "metadata": {},
   "outputs": [
    {
     "data": {
      "text/plain": [
       "<1x170847 sparse matrix of type '<class 'numpy.float64'>'\n",
       "\twith 170847 stored elements in Compressed Sparse Row format>"
      ]
     },
     "execution_count": 77,
     "metadata": {},
     "output_type": "execute_result"
    }
   ],
   "source": [
    "degree_vector"
   ]
  },
  {
   "cell_type": "code",
   "execution_count": 78,
   "metadata": {},
   "outputs": [],
   "source": [
    "transition_matrix = adjacency_mat.multiply(degree_vector).T  # Need to transpose so each row probability sum to 1"
   ]
  },
  {
   "cell_type": "markdown",
   "metadata": {},
   "source": [
    "### Create transition dict"
   ]
  },
  {
   "cell_type": "code",
   "execution_count": 27,
   "metadata": {},
   "outputs": [],
   "source": [
    "transition_dict = defaultdict(lambda: defaultdict(list))"
   ]
  },
  {
   "cell_type": "code",
   "execution_count": 28,
   "metadata": {},
   "outputs": [],
   "source": [
    "rows, cols = transition_matrix.nonzero()"
   ]
  },
  {
   "cell_type": "code",
   "execution_count": 29,
   "metadata": {},
   "outputs": [],
   "source": [
    "for row, col in zip(rows, cols):\n",
    "    transition_dict[row]['product'].append(col)\n",
    "    transition_dict[row]['probability'].append(transition_matrix[row, col])"
   ]
  },
  {
   "cell_type": "code",
   "execution_count": 50,
   "metadata": {},
   "outputs": [],
   "source": [
    "def run_defaultdict():\n",
    "    transition_dict = defaultdict(lambda: defaultdict(list))\n",
    "    rows, cols = transition_matrix.nonzero()\n",
    "    \n",
    "    for row, col in zip(rows, cols):\n",
    "        transition_dict[row]['product'].append(col)\n",
    "        transition_dict[row]['probability'].append(transition_matrix[row, col])"
   ]
  },
  {
   "cell_type": "code",
   "execution_count": 51,
   "metadata": {},
   "outputs": [],
   "source": [
    "def run_setdefault():\n",
    "    transition_dict = defaultdict(dict)\n",
    "    rows, cols = transition_matrix.nonzero()\n",
    "    \n",
    "    prev_row = -1\n",
    "    for row, col in zip(rows, cols):\n",
    "        if row != prev_row:\n",
    "            transition_dict[row].setdefault('product', [])\n",
    "            transition_dict[row].setdefault('probability', [])\n",
    "\n",
    "        transition_dict[row]['product'].append(col)\n",
    "        transition_dict[row]['probability'].append(transition_matrix[row, col])"
   ]
  },
  {
   "cell_type": "code",
   "execution_count": 47,
   "metadata": {},
   "outputs": [],
   "source": [
    "transition_dict = defaultdict(dict)"
   ]
  },
  {
   "cell_type": "code",
   "execution_count": 48,
   "metadata": {},
   "outputs": [],
   "source": [
    "rows, cols = transition_matrix.nonzero()"
   ]
  },
  {
   "cell_type": "code",
   "execution_count": 49,
   "metadata": {},
   "outputs": [],
   "source": [
    "prev_row = -1\n",
    "for row, col in zip(rows, cols):\n",
    "    if row != prev_row:\n",
    "        transition_dict[row].setdefault('product', [])\n",
    "        transition_dict[row].setdefault('probability', [])\n",
    "        \n",
    "    transition_dict[row]['product'].append(col)\n",
    "    transition_dict[row]['probability'].append(transition_matrix[row, col])"
   ]
  },
  {
   "cell_type": "code",
   "execution_count": 81,
   "metadata": {},
   "outputs": [],
   "source": [
    "def run_defaultdict():\n",
    "    transition_dict = defaultdict(lambda: defaultdict(list))\n",
    "    rows, cols = transition_matrix.nonzero()\n",
    "    \n",
    "    for row, col in zip(rows, cols):\n",
    "        transition_dict[row]['product'].append(col)\n",
    "        transition_dict[row]['probability'].append(transition_matrix[row, col])\n",
    "        \n",
    "    return transition_dict"
   ]
  },
  {
   "cell_type": "code",
   "execution_count": 114,
   "metadata": {},
   "outputs": [],
   "source": [
    "def run_setdefault():\n",
    "    transition_dict = {}\n",
    "    rows, cols = transition_matrix.nonzero()\n",
    "    \n",
    "    prev_row = -1\n",
    "    for row, col in zip(rows, cols):\n",
    "        if row != prev_row:\n",
    "            transition_dict.setdefault(row, {})\n",
    "            transition_dict[row].setdefault('product', [])\n",
    "            transition_dict[row].setdefault('probability', [])\n",
    "\n",
    "        transition_dict[row]['product'].append(col)\n",
    "        transition_dict[row]['probability'].append(transition_matrix[row, col])\n",
    "        prev_row = row\n",
    "        \n",
    "    return transition_dict"
   ]
  },
  {
   "cell_type": "code",
   "execution_count": 83,
   "metadata": {},
   "outputs": [
    {
     "name": "stdout",
     "output_type": "stream",
     "text": [
      "4.01 s ± 86.8 ms per loop (mean ± std. dev. of 7 runs, 1 loop each)\n"
     ]
    }
   ],
   "source": [
    "%timeit run_defaultdict()"
   ]
  },
  {
   "cell_type": "code",
   "execution_count": 115,
   "metadata": {},
   "outputs": [
    {
     "name": "stdout",
     "output_type": "stream",
     "text": [
      "3.88 s ± 55.4 ms per loop (mean ± std. dev. of 7 runs, 1 loop each)\n"
     ]
    }
   ],
   "source": [
    "%timeit run_setdefault()"
   ]
  },
  {
   "cell_type": "code",
   "execution_count": 116,
   "metadata": {},
   "outputs": [],
   "source": [
    "transition_dict = run_setdefault()"
   ]
  },
  {
   "cell_type": "code",
   "execution_count": 99,
   "metadata": {},
   "outputs": [
    {
     "data": {
      "text/html": [
       "<div>\n",
       "<style scoped>\n",
       "    .dataframe tbody tr th:only-of-type {\n",
       "        vertical-align: middle;\n",
       "    }\n",
       "\n",
       "    .dataframe tbody tr th {\n",
       "        vertical-align: top;\n",
       "    }\n",
       "\n",
       "    .dataframe thead th {\n",
       "        text-align: right;\n",
       "    }\n",
       "</style>\n",
       "<table border=\"1\" class=\"dataframe\">\n",
       "  <thead>\n",
       "    <tr style=\"text-align: right;\">\n",
       "      <th></th>\n",
       "      <th>product1</th>\n",
       "      <th>product2</th>\n",
       "      <th>weight</th>\n",
       "    </tr>\n",
       "  </thead>\n",
       "  <tbody>\n",
       "    <tr>\n",
       "      <th>12</th>\n",
       "      <td>000481259X</td>\n",
       "      <td>0471076333</td>\n",
       "      <td>1.0</td>\n",
       "    </tr>\n",
       "    <tr>\n",
       "      <th>25587</th>\n",
       "      <td>0471076333</td>\n",
       "      <td>0781760038</td>\n",
       "      <td>1.0</td>\n",
       "    </tr>\n",
       "  </tbody>\n",
       "</table>\n",
       "</div>"
      ],
      "text/plain": [
       "         product1    product2  weight\n",
       "12     000481259X  0471076333     1.0\n",
       "25587  0471076333  0781760038     1.0"
      ]
     },
     "execution_count": 99,
     "metadata": {},
     "output_type": "execute_result"
    }
   ],
   "source": [
    "idx = 25\n",
    "df_agg[(df_agg['product1'] == node_dict[idx]) | (df_agg['product2'] == node_dict[idx])]"
   ]
  },
  {
   "cell_type": "markdown",
   "metadata": {},
   "source": [
    "### Random walk sampling"
   ]
  },
  {
   "cell_type": "code",
   "execution_count": 121,
   "metadata": {},
   "outputs": [],
   "source": [
    "N_NODES = len(node_dict)\n",
    "SAMPLES_PER_NODE = 5\n",
    "SEQUENCE_LEN = 5"
   ]
  },
  {
   "cell_type": "code",
   "execution_count": 122,
   "metadata": {},
   "outputs": [
    {
     "data": {
      "text/plain": [
       "170847"
      ]
     },
     "execution_count": 122,
     "metadata": {},
     "output_type": "execute_result"
    }
   ],
   "source": [
    "len(node_dict)"
   ]
  },
  {
   "cell_type": "code",
   "execution_count": 123,
   "metadata": {},
   "outputs": [
    {
     "name": "stderr",
     "output_type": "stream",
     "text": [
      "2019-11-11 17:58:48,941 - Samples shape: (854235, 5)\n"
     ]
    }
   ],
   "source": [
    "sample_array = np.zeros((N_NODES * SAMPLES_PER_NODE, SEQUENCE_LEN), dtype=int)\n",
    "logger.info('Samples shape: {}'.format(sample_array.shape))"
   ]
  },
  {
   "cell_type": "code",
   "execution_count": 124,
   "metadata": {},
   "outputs": [],
   "source": [
    "# def np_rand():\n",
    "#     for node_idx in range(N_NODES):\n",
    "#         for sample_idx in range(SAMPLES_PER_NODE):\n",
    "#             node = node_idx\n",
    "#             for seq_idx in range(SEQUENCE_LEN):\n",
    "#                 sample_array[node_idx*SAMPLES_PER_NODE + sample_idx, seq_idx] = node\n",
    "#                 node = np.random.choice(a=transition_dict[node]['product'], p=transition_dict[node]['probability'])"
   ]
  },
  {
   "cell_type": "code",
   "execution_count": 125,
   "metadata": {},
   "outputs": [],
   "source": [
    "# Much much faster\n",
    "# np.random.choice: 10.4 s ± 95.1 ms per loop (mean ± std. dev. of 7 runs, 1 loop each)\n",
    "# random.choices: 1.65 s ± 33.1 ms per loop (mean ± std. dev. of 7 runs, 1 loop each)\n",
    "def get_sample_array():\n",
    "    sample_array = np.zeros((N_NODES * SAMPLES_PER_NODE, SEQUENCE_LEN), dtype=int)\n",
    "    logger.info('Samples shape: {}'.format(sample_array.shape))\n",
    "\n",
    "    for node_idx in range(N_NODES):\n",
    "        if node_idx % 50000 == 0:\n",
    "            logger.info('Getting samples for node: {:,}/{:,}'.format(node_idx, N_NODES))\n",
    "        for sample_idx in range(SAMPLES_PER_NODE):\n",
    "            node = node_idx\n",
    "            for seq_idx in range(SEQUENCE_LEN):\n",
    "                sample_array[node_idx*SAMPLES_PER_NODE + sample_idx, seq_idx] = node\n",
    "                node = random.choices(population=transition_dict[node]['product'], weights=transition_dict[node]['probability'], k=1)[0]\n",
    "                \n",
    "    return sample_array"
   ]
  },
  {
   "cell_type": "code",
   "execution_count": 126,
   "metadata": {},
   "outputs": [
    {
     "name": "stderr",
     "output_type": "stream",
     "text": [
      "2019-11-11 17:58:50,353 - Samples shape: (854235, 5)\n",
      "2019-11-11 17:58:50,354 - Getting samples for node: 0/170,847\n",
      "2019-11-11 17:58:54,586 - Getting samples for node: 50,000/170,847\n",
      "2019-11-11 17:58:58,945 - Getting samples for node: 100,000/170,847\n",
      "2019-11-11 17:59:03,487 - Getting samples for node: 150,000/170,847\n"
     ]
    }
   ],
   "source": [
    "sample_array = get_sample_array()"
   ]
  },
  {
   "cell_type": "code",
   "execution_count": 36,
   "metadata": {},
   "outputs": [],
   "source": [
    "np.save('../data/books_sequences.npy', sample_array)"
   ]
  },
  {
   "cell_type": "code",
   "execution_count": 37,
   "metadata": {},
   "outputs": [
    {
     "name": "stderr",
     "output_type": "stream",
     "text": [
      "2019-11-11 17:29:36,832 - Model saved to ../data/books_node_dict.tar.gz\n"
     ]
    }
   ],
   "source": [
    "save_model(node_dict, '../data/books_node_dict.tar.gz')"
   ]
  },
  {
   "cell_type": "code",
   "execution_count": 100,
   "metadata": {},
   "outputs": [
    {
     "name": "stderr",
     "output_type": "stream",
     "text": [
      "2019-11-11 17:50:18,294 - Model saved to ../data/books_transition_dict.tar.gz\n"
     ]
    }
   ],
   "source": [
    "save_model(transition_dict, '../data/books_transition_dict.tar.gz')"
   ]
  },
  {
   "cell_type": "code",
   "execution_count": null,
   "metadata": {},
   "outputs": [],
   "source": [
    "sample_array"
   ]
  },
  {
   "cell_type": "markdown",
   "metadata": {},
   "source": [
    "### Checks"
   ]
  },
  {
   "cell_type": "code",
   "execution_count": 118,
   "metadata": {},
   "outputs": [],
   "source": [
    "check_arr = np.load('../data/books_sequences.npy')"
   ]
  },
  {
   "cell_type": "code",
   "execution_count": 120,
   "metadata": {},
   "outputs": [
    {
     "data": {
      "text/plain": [
       "array([[     0,      1,      0, ...,      1,      0,      1],\n",
       "       [     0,      1,      0, ...,      1,      0,      1],\n",
       "       [     0,      1,      0, ...,      1,      0,      1],\n",
       "       ...,\n",
       "       [170846, 170845, 170846, ..., 170845, 170846, 170845],\n",
       "       [170846, 170845, 170846, ..., 170845, 170846, 170845],\n",
       "       [170846, 170845, 170846, ..., 170845, 170846, 170845]])"
      ]
     },
     "execution_count": 120,
     "metadata": {},
     "output_type": "execute_result"
    }
   ],
   "source": [
    "check_arr"
   ]
  },
  {
   "cell_type": "code",
   "execution_count": 128,
   "metadata": {},
   "outputs": [
    {
     "name": "stderr",
     "output_type": "stream",
     "text": [
      "/Users/eugeneyan/recsys/venv/lib/python3.7/site-packages/ipykernel_launcher.py:1: DeprecationWarning: elementwise comparison failed; this will raise an error in the future.\n",
      "  \"\"\"Entry point for launching an IPython kernel.\n"
     ]
    },
    {
     "ename": "AttributeError",
     "evalue": "'bool' object has no attribute 'sum'",
     "output_type": "error",
     "traceback": [
      "\u001b[0;31m---------------------------------------------------------------------------\u001b[0m",
      "\u001b[0;31mAttributeError\u001b[0m                            Traceback (most recent call last)",
      "\u001b[0;32m<ipython-input-128-224b5dce02a8>\u001b[0m in \u001b[0;36m<module>\u001b[0;34m\u001b[0m\n\u001b[0;32m----> 1\u001b[0;31m \u001b[0;34m(\u001b[0m\u001b[0mcheck_arr\u001b[0m \u001b[0;34m==\u001b[0m \u001b[0msample_array\u001b[0m\u001b[0;34m)\u001b[0m\u001b[0;34m.\u001b[0m\u001b[0msum\u001b[0m\u001b[0;34m(\u001b[0m\u001b[0;34m)\u001b[0m\u001b[0;34m\u001b[0m\u001b[0;34m\u001b[0m\u001b[0m\n\u001b[0m",
      "\u001b[0;31mAttributeError\u001b[0m: 'bool' object has no attribute 'sum'"
     ]
    }
   ],
   "source": [
    "(check_arr == sample_array).sum()"
   ]
  },
  {
   "cell_type": "code",
   "execution_count": 130,
   "metadata": {},
   "outputs": [
    {
     "data": {
      "text/plain": [
       "4271175"
      ]
     },
     "execution_count": 130,
     "metadata": {},
     "output_type": "execute_result"
    }
   ],
   "source": [
    "sample_array.shape[0] * sample_array.shape[1]"
   ]
  },
  {
   "cell_type": "code",
   "execution_count": 131,
   "metadata": {},
   "outputs": [
    {
     "name": "stderr",
     "output_type": "stream",
     "text": [
      "2019-11-11 18:00:19,768 - Model loaded from: ../data/books_node_dict.tar.gz (Size: 20106661 bytes)\n"
     ]
    }
   ],
   "source": [
    "node_check = load_model('../data/books_node_dict.tar.gz')"
   ]
  },
  {
   "cell_type": "code",
   "execution_count": 134,
   "metadata": {},
   "outputs": [
    {
     "data": {
      "text/plain": [
       "170847"
      ]
     },
     "execution_count": 134,
     "metadata": {},
     "output_type": "execute_result"
    }
   ],
   "source": [
    "len(node_check)"
   ]
  },
  {
   "cell_type": "code",
   "execution_count": 140,
   "metadata": {},
   "outputs": [
    {
     "name": "stderr",
     "output_type": "stream",
     "text": [
      "2019-11-11 18:01:45,490 - Model loaded from: ../data/books_transition_dict.tar.gz (Size: 96295336 bytes)\n"
     ]
    }
   ],
   "source": [
    "transition_check = load_model('../data/books_transition_dict.tar.gz')"
   ]
  },
  {
   "cell_type": "code",
   "execution_count": 138,
   "metadata": {},
   "outputs": [],
   "source": [
    "transition_check = None"
   ]
  },
  {
   "cell_type": "code",
   "execution_count": 141,
   "metadata": {},
   "outputs": [
    {
     "data": {
      "text/plain": [
       "{0: {'product': [1], 'probability': [1.0]},\n",
       " 1: {'product': [0], 'probability': [1.0]},\n",
       " 2: {'product': [3], 'probability': [1.0]},\n",
       " 3: {'product': [2], 'probability': [1.0]},\n",
       " 4: {'product': [5], 'probability': [1.0]},\n",
       " 5: {'product': [4], 'probability': [1.0]},\n",
       " 6: {'product': [7], 'probability': [1.0]},\n",
       " 7: {'product': [6], 'probability': [1.0]},\n",
       " 8: {'product': [9], 'probability': [1.0]},\n",
       " 9: {'product': [8], 'probability': [1.0]},\n",
       " 10: {'product': [11], 'probability': [1.0]},\n",
       " 11: {'product': [10, 12879],\n",
       "  'probability': [0.3333333333333333, 0.6666666666666666]},\n",
       " 12: {'product': [13], 'probability': [1.0]},\n",
       " 13: {'product': [12], 'probability': [1.0]},\n",
       " 14: {'product': [15], 'probability': [1.0]},\n",
       " 15: {'product': [14], 'probability': [1.0]},\n",
       " 16: {'product': [17], 'probability': [1.0]},\n",
       " 17: {'product': [16], 'probability': [1.0]},\n",
       " 18: {'product': [19], 'probability': [1.0]},\n",
       " 19: {'product': [18], 'probability': [1.0]},\n",
       " 20: {'product': [21], 'probability': [1.0]},\n",
       " 21: {'product': [20], 'probability': [1.0]},\n",
       " 22: {'product': [23], 'probability': [1.0]},\n",
       " 23: {'product': [22], 'probability': [1.0]},\n",
       " 24: {'product': [25, 26, 27],\n",
       "  'probability': [0.3333333333333333, 0.3333333333333333, 0.3333333333333333]},\n",
       " 25: {'product': [24, 45304], 'probability': [0.5, 0.5]},\n",
       " 26: {'product': [24, 9001], 'probability': [0.5, 0.5]},\n",
       " 27: {'product': [24], 'probability': [1.0]},\n",
       " 28: {'product': [29], 'probability': [1.0]},\n",
       " 29: {'product': [28], 'probability': [1.0]},\n",
       " 30: {'product': [31], 'probability': [1.0]},\n",
       " 31: {'product': [30], 'probability': [1.0]},\n",
       " 32: {'product': [33], 'probability': [1.0]},\n",
       " 33: {'product': [32], 'probability': [1.0]},\n",
       " 34: {'product': [35], 'probability': [1.0]},\n",
       " 35: {'product': [34, 4680], 'probability': [0.5, 0.5]},\n",
       " 36: {'product': [37], 'probability': [1.0]},\n",
       " 37: {'product': [36], 'probability': [1.0]},\n",
       " 38: {'product': [39], 'probability': [1.0]},\n",
       " 39: {'product': [38], 'probability': [1.0]},\n",
       " 40: {'product': [41], 'probability': [1.0]},\n",
       " 41: {'product': [40], 'probability': [1.0]},\n",
       " 42: {'product': [43], 'probability': [1.0]},\n",
       " 43: {'product': [42], 'probability': [1.0]},\n",
       " 44: {'product': [45], 'probability': [1.0]},\n",
       " 45: {'product': [44], 'probability': [1.0]},\n",
       " 46: {'product': [47], 'probability': [1.0]},\n",
       " 47: {'product': [46], 'probability': [1.0]},\n",
       " 48: {'product': [49], 'probability': [1.0]},\n",
       " 49: {'product': [48], 'probability': [1.0]},\n",
       " 50: {'product': [51], 'probability': [1.0]},\n",
       " 51: {'product': [50], 'probability': [1.0]},\n",
       " 52: {'product': [53], 'probability': [1.0]},\n",
       " 53: {'product': [52], 'probability': [1.0]},\n",
       " 54: {'product': [55], 'probability': [1.0]},\n",
       " 55: {'product': [54], 'probability': [1.0]},\n",
       " 56: {'product': [57], 'probability': [1.0]},\n",
       " 57: {'product': [56, 40010], 'probability': [0.5, 0.5]},\n",
       " 58: {'product': [59], 'probability': [1.0]},\n",
       " 59: {'product': [58], 'probability': [1.0]},\n",
       " 60: {'product': [61], 'probability': [1.0]},\n",
       " 61: {'product': [60], 'probability': [1.0]},\n",
       " 62: {'product': [63], 'probability': [1.0]},\n",
       " 63: {'product': [62], 'probability': [1.0]},\n",
       " 64: {'product': [65], 'probability': [1.0]},\n",
       " 65: {'product': [64], 'probability': [1.0]},\n",
       " 66: {'product': [67], 'probability': [1.0]},\n",
       " 67: {'product': [66], 'probability': [1.0]},\n",
       " 68: {'product': [69], 'probability': [1.0]},\n",
       " 69: {'product': [68], 'probability': [1.0]},\n",
       " 70: {'product': [71], 'probability': [1.0]},\n",
       " 71: {'product': [70], 'probability': [1.0]},\n",
       " 72: {'product': [73], 'probability': [1.0]},\n",
       " 73: {'product': [72, 17209, 17210], 'probability': [0.3125, 0.3125, 0.375]},\n",
       " 74: {'product': [75], 'probability': [1.0]},\n",
       " 75: {'product': [74], 'probability': [1.0]},\n",
       " 76: {'product': [77], 'probability': [1.0]},\n",
       " 77: {'product': [76], 'probability': [1.0]},\n",
       " 78: {'product': [79], 'probability': [1.0]},\n",
       " 79: {'product': [78, 37179], 'probability': [0.5, 0.5]},\n",
       " 80: {'product': [81], 'probability': [1.0]},\n",
       " 81: {'product': [80], 'probability': [1.0]},\n",
       " 82: {'product': [83], 'probability': [1.0]},\n",
       " 83: {'product': [82], 'probability': [1.0]},\n",
       " 84: {'product': [85], 'probability': [1.0]},\n",
       " 85: {'product': [84], 'probability': [1.0]},\n",
       " 86: {'product': [87], 'probability': [1.0]},\n",
       " 87: {'product': [86], 'probability': [1.0]},\n",
       " 88: {'product': [89], 'probability': [1.0]},\n",
       " 89: {'product': [88], 'probability': [1.0]},\n",
       " 90: {'product': [91, 92], 'probability': [0.5, 0.5]},\n",
       " 91: {'product': [90], 'probability': [1.0]},\n",
       " 92: {'product': [90], 'probability': [1.0]},\n",
       " 93: {'product': [94], 'probability': [1.0]},\n",
       " 94: {'product': [93], 'probability': [1.0]},\n",
       " 95: {'product': [96], 'probability': [1.0]},\n",
       " 96: {'product': [95], 'probability': [1.0]},\n",
       " 97: {'product': [98], 'probability': [1.0]},\n",
       " 98: {'product': [97], 'probability': [1.0]},\n",
       " 99: {'product': [100], 'probability': [1.0]},\n",
       " 100: {'product': [99, 14652],\n",
       "  'probability': [0.3333333333333333, 0.6666666666666666]},\n",
       " 101: {'product': [102], 'probability': [1.0]},\n",
       " 102: {'product': [101], 'probability': [1.0]},\n",
       " 103: {'product': [104, 105], 'probability': [0.5, 0.5]},\n",
       " 104: {'product': [103], 'probability': [1.0]},\n",
       " 105: {'product': [103, 82486, 82510],\n",
       "  'probability': [0.3333333333333333, 0.3333333333333333, 0.3333333333333333]},\n",
       " 106: {'product': [107, 108], 'probability': [0.5, 0.5]},\n",
       " 107: {'product': [106], 'probability': [1.0]},\n",
       " 108: {'product': [106], 'probability': [1.0]},\n",
       " 109: {'product': [110], 'probability': [1.0]},\n",
       " 110: {'product': [109, 69918], 'probability': [0.5, 0.5]},\n",
       " 111: {'product': [112], 'probability': [1.0]},\n",
       " 112: {'product': [111], 'probability': [1.0]},\n",
       " 113: {'product': [114], 'probability': [1.0]},\n",
       " 114: {'product': [113, 60098, 102885],\n",
       "  'probability': [0.3333333333333333, 0.3333333333333333, 0.3333333333333333]},\n",
       " 115: {'product': [116], 'probability': [1.0]},\n",
       " 116: {'product': [115], 'probability': [1.0]},\n",
       " 117: {'product': [118], 'probability': [1.0]},\n",
       " 118: {'product': [117], 'probability': [1.0]},\n",
       " 119: {'product': [120], 'probability': [1.0]},\n",
       " 120: {'product': [119], 'probability': [1.0]},\n",
       " 121: {'product': [122], 'probability': [1.0]},\n",
       " 122: {'product': [121], 'probability': [1.0]},\n",
       " 123: {'product': [124], 'probability': [1.0]},\n",
       " 124: {'product': [123], 'probability': [1.0]},\n",
       " 125: {'product': [126], 'probability': [1.0]},\n",
       " 126: {'product': [125], 'probability': [1.0]},\n",
       " 127: {'product': [128], 'probability': [1.0]},\n",
       " 128: {'product': [127], 'probability': [1.0]},\n",
       " 129: {'product': [130], 'probability': [1.0]},\n",
       " 130: {'product': [129], 'probability': [1.0]},\n",
       " 131: {'product': [132], 'probability': [1.0]},\n",
       " 132: {'product': [131, 38373, 38583], 'probability': [0.4, 0.2, 0.4]},\n",
       " 133: {'product': [134], 'probability': [1.0]},\n",
       " 134: {'product': [133], 'probability': [1.0]},\n",
       " 135: {'product': [136], 'probability': [1.0]},\n",
       " 136: {'product': [135], 'probability': [1.0]},\n",
       " 137: {'product': [138], 'probability': [1.0]},\n",
       " 138: {'product': [137, 25248, 40063],\n",
       "  'probability': [0.3333333333333333, 0.3333333333333333, 0.3333333333333333]},\n",
       " 139: {'product': [140], 'probability': [1.0]},\n",
       " 140: {'product': [139, 44152, 52949],\n",
       "  'probability': [0.3333333333333333, 0.3333333333333333, 0.3333333333333333]},\n",
       " 141: {'product': [142], 'probability': [1.0]},\n",
       " 142: {'product': [141], 'probability': [1.0]},\n",
       " 143: {'product': [144], 'probability': [1.0]},\n",
       " 144: {'product': [143, 87483, 87484],\n",
       "  'probability': [0.3333333333333333, 0.3333333333333333, 0.3333333333333333]},\n",
       " 145: {'product': [146], 'probability': [1.0]},\n",
       " 146: {'product': [145], 'probability': [1.0]},\n",
       " 147: {'product': [148], 'probability': [1.0]},\n",
       " 148: {'product': [147, 25067], 'probability': [0.5, 0.5]},\n",
       " 149: {'product': [150], 'probability': [1.0]},\n",
       " 150: {'product': [149], 'probability': [1.0]},\n",
       " 151: {'product': [152], 'probability': [1.0]},\n",
       " 152: {'product': [151], 'probability': [1.0]},\n",
       " 153: {'product': [154], 'probability': [1.0]},\n",
       " 154: {'product': [153, 17092],\n",
       "  'probability': [0.3333333333333333, 0.6666666666666666]},\n",
       " 155: {'product': [156], 'probability': [1.0]},\n",
       " 156: {'product': [155], 'probability': [1.0]},\n",
       " 157: {'product': [158, 159], 'probability': [0.5, 0.5]},\n",
       " 158: {'product': [157], 'probability': [1.0]},\n",
       " 159: {'product': [157], 'probability': [1.0]},\n",
       " 160: {'product': [161], 'probability': [1.0]},\n",
       " 161: {'product': [160], 'probability': [1.0]},\n",
       " 162: {'product': [163], 'probability': [1.0]},\n",
       " 163: {'product': [162], 'probability': [1.0]},\n",
       " 164: {'product': [165], 'probability': [1.0]},\n",
       " 165: {'product': [164], 'probability': [1.0]},\n",
       " 166: {'product': [167], 'probability': [1.0]},\n",
       " 167: {'product': [166], 'probability': [1.0]},\n",
       " 168: {'product': [169], 'probability': [1.0]},\n",
       " 169: {'product': [168, 1525],\n",
       "  'probability': [0.7058823529411765, 0.29411764705882354]},\n",
       " 170: {'product': [171], 'probability': [1.0]},\n",
       " 171: {'product': [170, 3425, 99657],\n",
       "  'probability': [0.3333333333333333, 0.3333333333333333, 0.3333333333333333]},\n",
       " 172: {'product': [173], 'probability': [1.0]},\n",
       " 173: {'product': [172, 2113], 'probability': [0.5, 0.5]},\n",
       " 174: {'product': [175, 176], 'probability': [0.5, 0.5]},\n",
       " 175: {'product': [174], 'probability': [1.0]},\n",
       " 176: {'product': [174], 'probability': [1.0]},\n",
       " 177: {'product': [178], 'probability': [1.0]},\n",
       " 178: {'product': [177], 'probability': [1.0]},\n",
       " 179: {'product': [180], 'probability': [1.0]},\n",
       " 180: {'product': [179], 'probability': [1.0]},\n",
       " 181: {'product': [182], 'probability': [1.0]},\n",
       " 182: {'product': [181], 'probability': [1.0]},\n",
       " 183: {'product': [184], 'probability': [1.0]},\n",
       " 184: {'product': [183], 'probability': [1.0]},\n",
       " 185: {'product': [186], 'probability': [1.0]},\n",
       " 186: {'product': [185], 'probability': [1.0]},\n",
       " 187: {'product': [188], 'probability': [1.0]},\n",
       " 188: {'product': [187, 51574, 68835, 94324],\n",
       "  'probability': [0.25, 0.25, 0.25, 0.25]},\n",
       " 189: {'product': [190], 'probability': [1.0]},\n",
       " 190: {'product': [189, 20069, 46802, 46803],\n",
       "  'probability': [0.25, 0.25, 0.25, 0.25]},\n",
       " 191: {'product': [192], 'probability': [1.0]},\n",
       " 192: {'product': [191], 'probability': [1.0]},\n",
       " 193: {'product': [194], 'probability': [1.0]},\n",
       " 194: {'product': [193, 97839], 'probability': [0.5, 0.5]},\n",
       " 195: {'product': [196], 'probability': [1.0]},\n",
       " 196: {'product': [195], 'probability': [1.0]},\n",
       " 197: {'product': [198], 'probability': [1.0]},\n",
       " 198: {'product': [197], 'probability': [1.0]},\n",
       " 199: {'product': [200], 'probability': [1.0]},\n",
       " 200: {'product': [199, 34837], 'probability': [0.5, 0.5]},\n",
       " 201: {'product': [202], 'probability': [1.0]},\n",
       " 202: {'product': [201], 'probability': [1.0]},\n",
       " 203: {'product': [204], 'probability': [1.0]},\n",
       " 204: {'product': [203], 'probability': [1.0]},\n",
       " 205: {'product': [206], 'probability': [1.0]},\n",
       " 206: {'product': [205], 'probability': [1.0]},\n",
       " 207: {'product': [208], 'probability': [1.0]},\n",
       " 208: {'product': [207, 38011], 'probability': [0.5, 0.5]},\n",
       " 209: {'product': [210], 'probability': [1.0]},\n",
       " 210: {'product': [209], 'probability': [1.0]},\n",
       " 211: {'product': [212], 'probability': [1.0]},\n",
       " 212: {'product': [211], 'probability': [1.0]},\n",
       " 213: {'product': [214], 'probability': [1.0]},\n",
       " 214: {'product': [213, 22164], 'probability': [0.5, 0.5]},\n",
       " 215: {'product': [216], 'probability': [1.0]},\n",
       " 216: {'product': [215], 'probability': [1.0]},\n",
       " 217: {'product': [218], 'probability': [1.0]},\n",
       " 218: {'product': [217, 5237, 5238],\n",
       "  'probability': [0.3333333333333333, 0.3333333333333333, 0.3333333333333333]},\n",
       " 219: {'product': [220], 'probability': [1.0]},\n",
       " 220: {'product': [219, 15477], 'probability': [0.5, 0.5]},\n",
       " 221: {'product': [222], 'probability': [1.0]},\n",
       " 222: {'product': [221], 'probability': [1.0]},\n",
       " 223: {'product': [224], 'probability': [1.0]},\n",
       " 224: {'product': [223], 'probability': [1.0]},\n",
       " 225: {'product': [226], 'probability': [1.0]},\n",
       " 226: {'product': [225], 'probability': [1.0]},\n",
       " 227: {'product': [228, 229], 'probability': [0.5, 0.5]},\n",
       " 228: {'product': [227], 'probability': [1.0]},\n",
       " 229: {'product': [227], 'probability': [1.0]},\n",
       " 230: {'product': [231], 'probability': [1.0]},\n",
       " 231: {'product': [230], 'probability': [1.0]},\n",
       " 232: {'product': [233], 'probability': [1.0]},\n",
       " 233: {'product': [232, 91059], 'probability': [0.5, 0.5]},\n",
       " 234: {'product': [235], 'probability': [1.0]},\n",
       " 235: {'product': [234], 'probability': [1.0]},\n",
       " 236: {'product': [237], 'probability': [1.0]},\n",
       " 237: {'product': [236], 'probability': [1.0]},\n",
       " 238: {'product': [239], 'probability': [1.0]},\n",
       " 239: {'product': [238], 'probability': [1.0]},\n",
       " 240: {'product': [241], 'probability': [1.0]},\n",
       " 241: {'product': [240], 'probability': [1.0]},\n",
       " 242: {'product': [243], 'probability': [1.0]},\n",
       " 243: {'product': [242], 'probability': [1.0]},\n",
       " 244: {'product': [245], 'probability': [1.0]},\n",
       " 245: {'product': [244], 'probability': [1.0]},\n",
       " 246: {'product': [247], 'probability': [1.0]},\n",
       " 247: {'product': [246], 'probability': [1.0]},\n",
       " 248: {'product': [249], 'probability': [1.0]},\n",
       " 249: {'product': [248], 'probability': [1.0]},\n",
       " 250: {'product': [251], 'probability': [1.0]},\n",
       " 251: {'product': [250], 'probability': [1.0]},\n",
       " 252: {'product': [253], 'probability': [1.0]},\n",
       " 253: {'product': [252], 'probability': [1.0]},\n",
       " 254: {'product': [255], 'probability': [1.0]},\n",
       " 255: {'product': [254], 'probability': [1.0]},\n",
       " 256: {'product': [257], 'probability': [1.0]},\n",
       " 257: {'product': [256], 'probability': [1.0]},\n",
       " 258: {'product': [259], 'probability': [1.0]},\n",
       " 259: {'product': [258], 'probability': [1.0]},\n",
       " 260: {'product': [261], 'probability': [1.0]},\n",
       " 261: {'product': [260], 'probability': [1.0]},\n",
       " 262: {'product': [263], 'probability': [1.0]},\n",
       " 263: {'product': [262], 'probability': [1.0]},\n",
       " 264: {'product': [265], 'probability': [1.0]},\n",
       " 265: {'product': [264], 'probability': [1.0]},\n",
       " 266: {'product': [267], 'probability': [1.0]},\n",
       " 267: {'product': [266], 'probability': [1.0]},\n",
       " 268: {'product': [269], 'probability': [1.0]},\n",
       " 269: {'product': [268, 91291],\n",
       "  'probability': [0.3333333333333333, 0.6666666666666666]},\n",
       " 270: {'product': [271], 'probability': [1.0]},\n",
       " 271: {'product': [270], 'probability': [1.0]},\n",
       " 272: {'product': [273], 'probability': [1.0]},\n",
       " 273: {'product': [272, 60070, 106399],\n",
       "  'probability': [0.3333333333333333, 0.3333333333333333, 0.3333333333333333]},\n",
       " 274: {'product': [275], 'probability': [1.0]},\n",
       " 275: {'product': [274, 105404, 109740],\n",
       "  'probability': [0.3333333333333333, 0.3333333333333333, 0.3333333333333333]},\n",
       " 276: {'product': [277], 'probability': [1.0]},\n",
       " 277: {'product': [276], 'probability': [1.0]},\n",
       " 278: {'product': [279], 'probability': [1.0]},\n",
       " 279: {'product': [278], 'probability': [1.0]},\n",
       " 280: {'product': [281], 'probability': [1.0]},\n",
       " 281: {'product': [280], 'probability': [1.0]},\n",
       " 282: {'product': [283], 'probability': [1.0]},\n",
       " 283: {'product': [282], 'probability': [1.0]},\n",
       " 284: {'product': [285], 'probability': [1.0]},\n",
       " 285: {'product': [284], 'probability': [1.0]},\n",
       " 286: {'product': [287], 'probability': [1.0]},\n",
       " 287: {'product': [286, 8706], 'probability': [0.5, 0.5]},\n",
       " 288: {'product': [289], 'probability': [1.0]},\n",
       " 289: {'product': [288], 'probability': [1.0]},\n",
       " 290: {'product': [291], 'probability': [1.0]},\n",
       " 291: {'product': [290], 'probability': [1.0]},\n",
       " 292: {'product': [293], 'probability': [1.0]},\n",
       " 293: {'product': [292], 'probability': [1.0]},\n",
       " 294: {'product': [295, 296], 'probability': [0.5, 0.5]},\n",
       " 295: {'product': [294, 113803], 'probability': [0.5, 0.5]},\n",
       " 296: {'product': [294, 112720, 115116, 115819],\n",
       "  'probability': [0.25, 0.25, 0.25, 0.25]},\n",
       " 297: {'product': [298], 'probability': [1.0]},\n",
       " 298: {'product': [297, 27132],\n",
       "  'probability': [0.6666666666666666, 0.3333333333333333]},\n",
       " 299: {'product': [300], 'probability': [1.0]},\n",
       " 300: {'product': [299, 74549, 111581],\n",
       "  'probability': [0.3333333333333333, 0.3333333333333333, 0.3333333333333333]},\n",
       " 301: {'product': [302], 'probability': [1.0]},\n",
       " 302: {'product': [301], 'probability': [1.0]},\n",
       " 303: {'product': [304], 'probability': [1.0]},\n",
       " 304: {'product': [303], 'probability': [1.0]},\n",
       " 305: {'product': [306], 'probability': [1.0]},\n",
       " 306: {'product': [305], 'probability': [1.0]},\n",
       " 307: {'product': [308], 'probability': [1.0]},\n",
       " 308: {'product': [307], 'probability': [1.0]},\n",
       " 309: {'product': [310], 'probability': [1.0]},\n",
       " 310: {'product': [309], 'probability': [1.0]},\n",
       " 311: {'product': [312], 'probability': [1.0]},\n",
       " 312: {'product': [311], 'probability': [1.0]},\n",
       " 313: {'product': [314], 'probability': [1.0]},\n",
       " 314: {'product': [313], 'probability': [1.0]},\n",
       " 315: {'product': [316], 'probability': [1.0]},\n",
       " 316: {'product': [315], 'probability': [1.0]},\n",
       " 317: {'product': [318], 'probability': [1.0]},\n",
       " 318: {'product': [317], 'probability': [1.0]},\n",
       " 319: {'product': [320], 'probability': [1.0]},\n",
       " 320: {'product': [319, 36348, 50968, 82681],\n",
       "  'probability': [0.2857142857142857,\n",
       "   0.2857142857142857,\n",
       "   0.14285714285714285,\n",
       "   0.2857142857142857]},\n",
       " 321: {'product': [322], 'probability': [1.0]},\n",
       " 322: {'product': [321], 'probability': [1.0]},\n",
       " 323: {'product': [324], 'probability': [1.0]},\n",
       " 324: {'product': [323], 'probability': [1.0]},\n",
       " 325: {'product': [326], 'probability': [1.0]},\n",
       " 326: {'product': [325, 348], 'probability': [0.5, 0.5]},\n",
       " 327: {'product': [328], 'probability': [1.0]},\n",
       " 328: {'product': [327], 'probability': [1.0]},\n",
       " 329: {'product': [330, 331], 'probability': [0.5, 0.5]},\n",
       " 330: {'product': [329], 'probability': [1.0]},\n",
       " 331: {'product': [329], 'probability': [1.0]},\n",
       " 332: {'product': [333], 'probability': [1.0]},\n",
       " 333: {'product': [332], 'probability': [1.0]},\n",
       " 334: {'product': [335], 'probability': [1.0]},\n",
       " 335: {'product': [334, 65024], 'probability': [0.5, 0.5]},\n",
       " 336: {'product': [337], 'probability': [1.0]},\n",
       " 337: {'product': [336], 'probability': [1.0]},\n",
       " 338: {'product': [339], 'probability': [1.0]},\n",
       " 339: {'product': [338], 'probability': [1.0]},\n",
       " 340: {'product': [341], 'probability': [1.0]},\n",
       " 341: {'product': [340], 'probability': [1.0]},\n",
       " 342: {'product': [343], 'probability': [1.0]},\n",
       " 343: {'product': [342], 'probability': [1.0]},\n",
       " 344: {'product': [345], 'probability': [1.0]},\n",
       " 345: {'product': [344, 29521], 'probability': [0.5, 0.5]},\n",
       " 346: {'product': [347], 'probability': [1.0]},\n",
       " 347: {'product': [346], 'probability': [1.0]},\n",
       " 348: {'product': [326], 'probability': [1.0]},\n",
       " 349: {'product': [350], 'probability': [1.0]},\n",
       " 350: {'product': [349], 'probability': [1.0]},\n",
       " 351: {'product': [352], 'probability': [1.0]},\n",
       " 352: {'product': [351], 'probability': [1.0]},\n",
       " 353: {'product': [354], 'probability': [1.0]},\n",
       " 354: {'product': [353, 367], 'probability': [0.5, 0.5]},\n",
       " 355: {'product': [356], 'probability': [1.0]},\n",
       " 356: {'product': [355, 446], 'probability': [0.5, 0.5]},\n",
       " 357: {'product': [358], 'probability': [1.0]},\n",
       " 358: {'product': [357], 'probability': [1.0]},\n",
       " 359: {'product': [360], 'probability': [1.0]},\n",
       " 360: {'product': [359], 'probability': [1.0]},\n",
       " 361: {'product': [362], 'probability': [1.0]},\n",
       " 362: {'product': [361], 'probability': [1.0]},\n",
       " 363: {'product': [364], 'probability': [1.0]},\n",
       " 364: {'product': [363], 'probability': [1.0]},\n",
       " 365: {'product': [366], 'probability': [1.0]},\n",
       " 366: {'product': [365], 'probability': [1.0]},\n",
       " 367: {'product': [354], 'probability': [1.0]},\n",
       " 368: {'product': [369], 'probability': [1.0]},\n",
       " 369: {'product': [368], 'probability': [1.0]},\n",
       " 370: {'product': [371], 'probability': [1.0]},\n",
       " 371: {'product': [370], 'probability': [1.0]},\n",
       " 372: {'product': [373, 374], 'probability': [0.5, 0.5]},\n",
       " 373: {'product': [372, 9615, 61623, 66784],\n",
       "  'probability': [0.25, 0.25, 0.25, 0.25]},\n",
       " 374: {'product': [372], 'probability': [1.0]},\n",
       " 375: {'product': [376], 'probability': [1.0]},\n",
       " 376: {'product': [375], 'probability': [1.0]},\n",
       " 377: {'product': [378], 'probability': [1.0]},\n",
       " 378: {'product': [377], 'probability': [1.0]},\n",
       " 379: {'product': [380], 'probability': [1.0]},\n",
       " 380: {'product': [379], 'probability': [1.0]},\n",
       " 381: {'product': [382], 'probability': [1.0]},\n",
       " 382: {'product': [381, 13570], 'probability': [0.5, 0.5]},\n",
       " 383: {'product': [384], 'probability': [1.0]},\n",
       " 384: {'product': [383], 'probability': [1.0]},\n",
       " 385: {'product': [386], 'probability': [1.0]},\n",
       " 386: {'product': [385, 19420], 'probability': [0.5, 0.5]},\n",
       " 387: {'product': [388], 'probability': [1.0]},\n",
       " 388: {'product': [387], 'probability': [1.0]},\n",
       " 389: {'product': [390], 'probability': [1.0]},\n",
       " 390: {'product': [389], 'probability': [1.0]},\n",
       " 391: {'product': [392], 'probability': [1.0]},\n",
       " 392: {'product': [391, 23875], 'probability': [0.5, 0.5]},\n",
       " 393: {'product': [394], 'probability': [1.0]},\n",
       " 394: {'product': [393], 'probability': [1.0]},\n",
       " 395: {'product': [396], 'probability': [1.0]},\n",
       " 396: {'product': [395], 'probability': [1.0]},\n",
       " 397: {'product': [398], 'probability': [1.0]},\n",
       " 398: {'product': [397, 10531], 'probability': [0.5, 0.5]},\n",
       " 399: {'product': [400], 'probability': [1.0]},\n",
       " 400: {'product': [399], 'probability': [1.0]},\n",
       " 401: {'product': [402], 'probability': [1.0]},\n",
       " 402: {'product': [401], 'probability': [1.0]},\n",
       " 403: {'product': [404], 'probability': [1.0]},\n",
       " 404: {'product': [403], 'probability': [1.0]},\n",
       " 405: {'product': [406], 'probability': [1.0]},\n",
       " 406: {'product': [405], 'probability': [1.0]},\n",
       " 407: {'product': [408], 'probability': [1.0]},\n",
       " 408: {'product': [407], 'probability': [1.0]},\n",
       " 409: {'product': [410], 'probability': [1.0]},\n",
       " 410: {'product': [409, 75033], 'probability': [0.5, 0.5]},\n",
       " 411: {'product': [412], 'probability': [1.0]},\n",
       " 412: {'product': [411, 107947], 'probability': [0.5, 0.5]},\n",
       " 413: {'product': [414], 'probability': [1.0]},\n",
       " 414: {'product': [413], 'probability': [1.0]},\n",
       " 415: {'product': [416], 'probability': [1.0]},\n",
       " 416: {'product': [415], 'probability': [1.0]},\n",
       " 417: {'product': [418, 419], 'probability': [0.5, 0.5]},\n",
       " 418: {'product': [417], 'probability': [1.0]},\n",
       " 419: {'product': [417], 'probability': [1.0]},\n",
       " 420: {'product': [421], 'probability': [1.0]},\n",
       " 421: {'product': [420, 18041, 79454, 79455],\n",
       "  'probability': [0.25, 0.25, 0.25, 0.25]},\n",
       " 422: {'product': [423], 'probability': [1.0]},\n",
       " 423: {'product': [422], 'probability': [1.0]},\n",
       " 424: {'product': [425], 'probability': [1.0]},\n",
       " 425: {'product': [424, 98696], 'probability': [0.5, 0.5]},\n",
       " 426: {'product': [427], 'probability': [1.0]},\n",
       " 427: {'product': [426], 'probability': [1.0]},\n",
       " 428: {'product': [429], 'probability': [1.0]},\n",
       " 429: {'product': [428], 'probability': [1.0]},\n",
       " 430: {'product': [431], 'probability': [1.0]},\n",
       " 431: {'product': [430], 'probability': [1.0]},\n",
       " 432: {'product': [433], 'probability': [1.0]},\n",
       " 433: {'product': [432], 'probability': [1.0]},\n",
       " 434: {'product': [435], 'probability': [1.0]},\n",
       " 435: {'product': [434], 'probability': [1.0]},\n",
       " 436: {'product': [437], 'probability': [1.0]},\n",
       " 437: {'product': [436, 80715], 'probability': [0.5, 0.5]},\n",
       " 438: {'product': [439], 'probability': [1.0]},\n",
       " 439: {'product': [438], 'probability': [1.0]},\n",
       " 440: {'product': [441], 'probability': [1.0]},\n",
       " 441: {'product': [440], 'probability': [1.0]},\n",
       " 442: {'product': [443], 'probability': [1.0]},\n",
       " 443: {'product': [442], 'probability': [1.0]},\n",
       " 444: {'product': [445], 'probability': [1.0]},\n",
       " 445: {'product': [444], 'probability': [1.0]},\n",
       " 446: {'product': [356], 'probability': [1.0]},\n",
       " 447: {'product': [448, 449],\n",
       "  'probability': [0.3333333333333333, 0.6666666666666666]},\n",
       " 448: {'product': [447], 'probability': [1.0]},\n",
       " 449: {'product': [447], 'probability': [1.0]},\n",
       " 450: {'product': [451], 'probability': [1.0]},\n",
       " 451: {'product': [450], 'probability': [1.0]},\n",
       " 452: {'product': [453], 'probability': [1.0]},\n",
       " 453: {'product': [452], 'probability': [1.0]},\n",
       " 454: {'product': [455], 'probability': [1.0]},\n",
       " 455: {'product': [454, 11776], 'probability': [0.5, 0.5]},\n",
       " 456: {'product': [457], 'probability': [1.0]},\n",
       " 457: {'product': [456], 'probability': [1.0]},\n",
       " 458: {'product': [459, 460], 'probability': [0.5, 0.5]},\n",
       " 459: {'product': [458], 'probability': [1.0]},\n",
       " 460: {'product': [458], 'probability': [1.0]},\n",
       " 461: {'product': [462], 'probability': [1.0]},\n",
       " 462: {'product': [461], 'probability': [1.0]},\n",
       " 463: {'product': [464], 'probability': [1.0]},\n",
       " 464: {'product': [463], 'probability': [1.0]},\n",
       " 465: {'product': [466], 'probability': [1.0]},\n",
       " 466: {'product': [465], 'probability': [1.0]},\n",
       " 467: {'product': [468], 'probability': [1.0]},\n",
       " 468: {'product': [467], 'probability': [1.0]},\n",
       " 469: {'product': [470], 'probability': [1.0]},\n",
       " 470: {'product': [469], 'probability': [1.0]},\n",
       " 471: {'product': [472], 'probability': [1.0]},\n",
       " 472: {'product': [471], 'probability': [1.0]},\n",
       " 473: {'product': [474], 'probability': [1.0]},\n",
       " 474: {'product': [473], 'probability': [1.0]},\n",
       " 475: {'product': [476], 'probability': [1.0]},\n",
       " 476: {'product': [475], 'probability': [1.0]},\n",
       " 477: {'product': [478], 'probability': [1.0]},\n",
       " 478: {'product': [477], 'probability': [1.0]},\n",
       " 479: {'product': [480, 481], 'probability': [0.5, 0.5]},\n",
       " 480: {'product': [479, 27114], 'probability': [0.5, 0.5]},\n",
       " 481: {'product': [479], 'probability': [1.0]},\n",
       " 482: {'product': [483], 'probability': [1.0]},\n",
       " 483: {'product': [482], 'probability': [1.0]},\n",
       " 484: {'product': [485], 'probability': [1.0]},\n",
       " 485: {'product': [484], 'probability': [1.0]},\n",
       " 486: {'product': [487], 'probability': [1.0]},\n",
       " 487: {'product': [486], 'probability': [1.0]},\n",
       " 488: {'product': [489], 'probability': [1.0]},\n",
       " 489: {'product': [488], 'probability': [1.0]},\n",
       " 490: {'product': [491], 'probability': [1.0]},\n",
       " 491: {'product': [490, 6003], 'probability': [0.5, 0.5]},\n",
       " 492: {'product': [493, 494], 'probability': [0.5, 0.5]},\n",
       " 493: {'product': [492], 'probability': [1.0]},\n",
       " 494: {'product': [492], 'probability': [1.0]},\n",
       " 495: {'product': [496], 'probability': [1.0]},\n",
       " 496: {'product': [495, 23186, 24654, 80383],\n",
       "  'probability': [0.27027027027027023,\n",
       "   0.3243243243243243,\n",
       "   0.27027027027027023,\n",
       "   0.13513513513513511]},\n",
       " 497: {'product': [498], 'probability': [1.0]},\n",
       " 498: {'product': [497], 'probability': [1.0]},\n",
       " 499: {'product': [500], 'probability': [1.0]},\n",
       " 500: {'product': [499], 'probability': [1.0]},\n",
       " 501: {'product': [502], 'probability': [1.0]},\n",
       " 502: {'product': [501], 'probability': [1.0]},\n",
       " 503: {'product': [504], 'probability': [1.0]},\n",
       " 504: {'product': [503], 'probability': [1.0]},\n",
       " 505: {'product': [506], 'probability': [1.0]},\n",
       " 506: {'product': [505], 'probability': [1.0]},\n",
       " 507: {'product': [508, 509], 'probability': [0.5, 0.5]},\n",
       " 508: {'product': [507, 61087], 'probability': [0.5, 0.5]},\n",
       " 509: {'product': [507, 2287], 'probability': [0.5, 0.5]},\n",
       " 510: {'product': [511], 'probability': [1.0]},\n",
       " 511: {'product': [510], 'probability': [1.0]},\n",
       " 512: {'product': [513], 'probability': [1.0]},\n",
       " 513: {'product': [512, 111356, 112326],\n",
       "  'probability': [0.3333333333333333, 0.3333333333333333, 0.3333333333333333]},\n",
       " 514: {'product': [515], 'probability': [1.0]},\n",
       " 515: {'product': [514], 'probability': [1.0]},\n",
       " 516: {'product': [517], 'probability': [1.0]},\n",
       " 517: {'product': [516], 'probability': [1.0]},\n",
       " 518: {'product': [519], 'probability': [1.0]},\n",
       " 519: {'product': [518], 'probability': [1.0]},\n",
       " 520: {'product': [521], 'probability': [1.0]},\n",
       " 521: {'product': [520], 'probability': [1.0]},\n",
       " 522: {'product': [523], 'probability': [1.0]},\n",
       " 523: {'product': [522, 44683, 90381],\n",
       "  'probability': [0.3333333333333333, 0.3333333333333333, 0.3333333333333333]},\n",
       " 524: {'product': [525], 'probability': [1.0]},\n",
       " 525: {'product': [524], 'probability': [1.0]},\n",
       " 526: {'product': [527], 'probability': [1.0]},\n",
       " 527: {'product': [526], 'probability': [1.0]},\n",
       " 528: {'product': [529], 'probability': [1.0]},\n",
       " 529: {'product': [528], 'probability': [1.0]},\n",
       " 530: {'product': [531, 532], 'probability': [0.5, 0.5]},\n",
       " 531: {'product': [530, 77237],\n",
       "  'probability': [0.45454545454545453, 0.5454545454545454]},\n",
       " 532: {'product': [530], 'probability': [1.0]},\n",
       " 533: {'product': [534], 'probability': [1.0]},\n",
       " 534: {'product': [533], 'probability': [1.0]},\n",
       " 535: {'product': [536], 'probability': [1.0]},\n",
       " 536: {'product': [535], 'probability': [1.0]},\n",
       " 537: {'product': [538], 'probability': [1.0]},\n",
       " 538: {'product': [537, 7355, 7356],\n",
       "  'probability': [0.3333333333333333, 0.3333333333333333, 0.3333333333333333]},\n",
       " 539: {'product': [540], 'probability': [1.0]},\n",
       " 540: {'product': [539, 45022], 'probability': [0.5, 0.5]},\n",
       " 541: {'product': [542], 'probability': [1.0]},\n",
       " 542: {'product': [541], 'probability': [1.0]},\n",
       " 543: {'product': [544], 'probability': [1.0]},\n",
       " 544: {'product': [543], 'probability': [1.0]},\n",
       " 545: {'product': [546], 'probability': [1.0]},\n",
       " 546: {'product': [545], 'probability': [1.0]},\n",
       " 547: {'product': [548], 'probability': [1.0]},\n",
       " 548: {'product': [547], 'probability': [1.0]},\n",
       " 549: {'product': [550], 'probability': [1.0]},\n",
       " 550: {'product': [549], 'probability': [1.0]},\n",
       " 551: {'product': [552], 'probability': [1.0]},\n",
       " 552: {'product': [551, 22407], 'probability': [0.5, 0.5]},\n",
       " 553: {'product': [554], 'probability': [1.0]},\n",
       " 554: {'product': [553], 'probability': [1.0]},\n",
       " 555: {'product': [556], 'probability': [1.0]},\n",
       " 556: {'product': [555], 'probability': [1.0]},\n",
       " 557: {'product': [558], 'probability': [1.0]},\n",
       " 558: {'product': [557], 'probability': [1.0]},\n",
       " 559: {'product': [560, 561], 'probability': [0.5, 0.5]},\n",
       " 560: {'product': [559], 'probability': [1.0]},\n",
       " 561: {'product': [559, 84745], 'probability': [0.5, 0.5]},\n",
       " 562: {'product': [563], 'probability': [1.0]},\n",
       " 563: {'product': [562], 'probability': [1.0]},\n",
       " 564: {'product': [565], 'probability': [1.0]},\n",
       " 565: {'product': [564], 'probability': [1.0]},\n",
       " 566: {'product': [567], 'probability': [1.0]},\n",
       " 567: {'product': [566], 'probability': [1.0]},\n",
       " 568: {'product': [569], 'probability': [1.0]},\n",
       " 569: {'product': [568], 'probability': [1.0]},\n",
       " 570: {'product': [571], 'probability': [1.0]},\n",
       " 571: {'product': [570, 36819], 'probability': [0.5, 0.5]},\n",
       " 572: {'product': [573], 'probability': [1.0]},\n",
       " 573: {'product': [572], 'probability': [1.0]},\n",
       " 574: {'product': [575], 'probability': [1.0]},\n",
       " 575: {'product': [574], 'probability': [1.0]},\n",
       " 576: {'product': [577], 'probability': [1.0]},\n",
       " 577: {'product': [576, 96670], 'probability': [0.5, 0.5]},\n",
       " 578: {'product': [579], 'probability': [1.0]},\n",
       " 579: {'product': [578], 'probability': [1.0]},\n",
       " 580: {'product': [581], 'probability': [1.0]},\n",
       " 581: {'product': [580], 'probability': [1.0]},\n",
       " 582: {'product': [583], 'probability': [1.0]},\n",
       " 583: {'product': [582], 'probability': [1.0]},\n",
       " 584: {'product': [585, 586], 'probability': [0.5, 0.5]},\n",
       " 585: {'product': [584], 'probability': [1.0]},\n",
       " 586: {'product': [584], 'probability': [1.0]},\n",
       " 587: {'product': [588], 'probability': [1.0]},\n",
       " 588: {'product': [587], 'probability': [1.0]},\n",
       " 589: {'product': [590], 'probability': [1.0]},\n",
       " 590: {'product': [589], 'probability': [1.0]},\n",
       " 591: {'product': [592], 'probability': [1.0]},\n",
       " 592: {'product': [591], 'probability': [1.0]},\n",
       " 593: {'product': [594], 'probability': [1.0]},\n",
       " 594: {'product': [593], 'probability': [1.0]},\n",
       " 595: {'product': [596], 'probability': [1.0]},\n",
       " 596: {'product': [595], 'probability': [1.0]},\n",
       " 597: {'product': [598], 'probability': [1.0]},\n",
       " 598: {'product': [597], 'probability': [1.0]},\n",
       " 599: {'product': [600], 'probability': [1.0]},\n",
       " 600: {'product': [599, 56407], 'probability': [0.5, 0.5]},\n",
       " 601: {'product': [602, 603], 'probability': [0.5, 0.5]},\n",
       " 602: {'product': [601, 18699], 'probability': [0.5, 0.5]},\n",
       " 603: {'product': [601], 'probability': [1.0]},\n",
       " 604: {'product': [605], 'probability': [1.0]},\n",
       " 605: {'product': [604], 'probability': [1.0]},\n",
       " 606: {'product': [607], 'probability': [1.0]},\n",
       " 607: {'product': [606], 'probability': [1.0]},\n",
       " 608: {'product': [609], 'probability': [1.0]},\n",
       " 609: {'product': [608], 'probability': [1.0]},\n",
       " 610: {'product': [611], 'probability': [1.0]},\n",
       " 611: {'product': [610, 10456, 34904],\n",
       "  'probability': [0.3333333333333333, 0.3333333333333333, 0.3333333333333333]},\n",
       " 612: {'product': [613], 'probability': [1.0]},\n",
       " 613: {'product': [612, 20315], 'probability': [0.5, 0.5]},\n",
       " 614: {'product': [615], 'probability': [1.0]},\n",
       " 615: {'product': [614], 'probability': [1.0]},\n",
       " 616: {'product': [617], 'probability': [1.0]},\n",
       " 617: {'product': [616], 'probability': [1.0]},\n",
       " 618: {'product': [619], 'probability': [1.0]},\n",
       " 619: {'product': [618], 'probability': [1.0]},\n",
       " 620: {'product': [621], 'probability': [1.0]},\n",
       " 621: {'product': [620], 'probability': [1.0]},\n",
       " 622: {'product': [623], 'probability': [1.0]},\n",
       " 623: {'product': [622], 'probability': [1.0]},\n",
       " 624: {'product': [625], 'probability': [1.0]},\n",
       " 625: {'product': [624], 'probability': [1.0]},\n",
       " 626: {'product': [627], 'probability': [1.0]},\n",
       " 627: {'product': [626], 'probability': [1.0]},\n",
       " 628: {'product': [629], 'probability': [1.0]},\n",
       " 629: {'product': [628], 'probability': [1.0]},\n",
       " 630: {'product': [631], 'probability': [1.0]},\n",
       " 631: {'product': [630], 'probability': [1.0]},\n",
       " 632: {'product': [633], 'probability': [1.0]},\n",
       " 633: {'product': [632], 'probability': [1.0]},\n",
       " 634: {'product': [635], 'probability': [1.0]},\n",
       " 635: {'product': [634], 'probability': [1.0]},\n",
       " 636: {'product': [637], 'probability': [1.0]},\n",
       " 637: {'product': [636], 'probability': [1.0]},\n",
       " 638: {'product': [639], 'probability': [1.0]},\n",
       " 639: {'product': [638], 'probability': [1.0]},\n",
       " 640: {'product': [641], 'probability': [1.0]},\n",
       " 641: {'product': [640], 'probability': [1.0]},\n",
       " 642: {'product': [643], 'probability': [1.0]},\n",
       " 643: {'product': [642], 'probability': [1.0]},\n",
       " 644: {'product': [645], 'probability': [1.0]},\n",
       " 645: {'product': [644], 'probability': [1.0]},\n",
       " 646: {'product': [647], 'probability': [1.0]},\n",
       " 647: {'product': [646], 'probability': [1.0]},\n",
       " 648: {'product': [649], 'probability': [1.0]},\n",
       " 649: {'product': [648], 'probability': [1.0]},\n",
       " 650: {'product': [651], 'probability': [1.0]},\n",
       " 651: {'product': [650], 'probability': [1.0]},\n",
       " 652: {'product': [653], 'probability': [1.0]},\n",
       " 653: {'product': [652], 'probability': [1.0]},\n",
       " 654: {'product': [655], 'probability': [1.0]},\n",
       " 655: {'product': [654], 'probability': [1.0]},\n",
       " 656: {'product': [657], 'probability': [1.0]},\n",
       " 657: {'product': [656], 'probability': [1.0]},\n",
       " 658: {'product': [659], 'probability': [1.0]},\n",
       " 659: {'product': [658], 'probability': [1.0]},\n",
       " 660: {'product': [661], 'probability': [1.0]},\n",
       " 661: {'product': [660], 'probability': [1.0]},\n",
       " 662: {'product': [663], 'probability': [1.0]},\n",
       " 663: {'product': [662], 'probability': [1.0]},\n",
       " 664: {'product': [665, 666], 'probability': [0.5, 0.5]},\n",
       " 665: {'product': [664], 'probability': [1.0]},\n",
       " 666: {'product': [664, 76498], 'probability': [0.5, 0.5]},\n",
       " 667: {'product': [668], 'probability': [1.0]},\n",
       " 668: {'product': [667], 'probability': [1.0]},\n",
       " 669: {'product': [670], 'probability': [1.0]},\n",
       " 670: {'product': [669], 'probability': [1.0]},\n",
       " 671: {'product': [672], 'probability': [1.0]},\n",
       " 672: {'product': [671], 'probability': [1.0]},\n",
       " 673: {'product': [674], 'probability': [1.0]},\n",
       " 674: {'product': [673], 'probability': [1.0]},\n",
       " 675: {'product': [676, 677], 'probability': [0.5, 0.5]},\n",
       " 676: {'product': [675, 821], 'probability': [0.5, 0.5]},\n",
       " 677: {'product': [675, 45105], 'probability': [0.5, 0.5]},\n",
       " 678: {'product': [679, 680], 'probability': [0.5, 0.5]},\n",
       " 679: {'product': [678], 'probability': [1.0]},\n",
       " 680: {'product': [678, 28126], 'probability': [0.5, 0.5]},\n",
       " 681: {'product': [682], 'probability': [1.0]},\n",
       " 682: {'product': [681], 'probability': [1.0]},\n",
       " 683: {'product': [684], 'probability': [1.0]},\n",
       " 684: {'product': [683], 'probability': [1.0]},\n",
       " 685: {'product': [686], 'probability': [1.0]},\n",
       " 686: {'product': [685], 'probability': [1.0]},\n",
       " 687: {'product': [688], 'probability': [1.0]},\n",
       " 688: {'product': [687], 'probability': [1.0]},\n",
       " 689: {'product': [690], 'probability': [1.0]},\n",
       " 690: {'product': [689], 'probability': [1.0]},\n",
       " 691: {'product': [692], 'probability': [1.0]},\n",
       " 692: {'product': [691], 'probability': [1.0]},\n",
       " 693: {'product': [694], 'probability': [1.0]},\n",
       " 694: {'product': [693], 'probability': [1.0]},\n",
       " 695: {'product': [696], 'probability': [1.0]},\n",
       " 696: {'product': [695], 'probability': [1.0]},\n",
       " 697: {'product': [698], 'probability': [1.0]},\n",
       " 698: {'product': [697, 9721], 'probability': [0.5, 0.5]},\n",
       " 699: {'product': [700], 'probability': [1.0]},\n",
       " 700: {'product': [699], 'probability': [1.0]},\n",
       " 701: {'product': [702], 'probability': [1.0]},\n",
       " 702: {'product': [701], 'probability': [1.0]},\n",
       " 703: {'product': [704], 'probability': [1.0]},\n",
       " 704: {'product': [703], 'probability': [1.0]},\n",
       " 705: {'product': [706], 'probability': [1.0]},\n",
       " 706: {'product': [705], 'probability': [1.0]},\n",
       " 707: {'product': [708], 'probability': [1.0]},\n",
       " 708: {'product': [707], 'probability': [1.0]},\n",
       " 709: {'product': [710], 'probability': [1.0]},\n",
       " 710: {'product': [709], 'probability': [1.0]},\n",
       " 711: {'product': [712], 'probability': [1.0]},\n",
       " 712: {'product': [711], 'probability': [1.0]},\n",
       " 713: {'product': [714], 'probability': [1.0]},\n",
       " 714: {'product': [713], 'probability': [1.0]},\n",
       " 715: {'product': [716], 'probability': [1.0]},\n",
       " 716: {'product': [715, 77898], 'probability': [0.5, 0.5]},\n",
       " 717: {'product': [718], 'probability': [1.0]},\n",
       " 718: {'product': [717], 'probability': [1.0]},\n",
       " 719: {'product': [720], 'probability': [1.0]},\n",
       " 720: {'product': [719], 'probability': [1.0]},\n",
       " 721: {'product': [722], 'probability': [1.0]},\n",
       " 722: {'product': [721], 'probability': [1.0]},\n",
       " 723: {'product': [724, 725], 'probability': [0.5, 0.5]},\n",
       " 724: {'product': [723], 'probability': [1.0]},\n",
       " 725: {'product': [723], 'probability': [1.0]},\n",
       " 726: {'product': [727], 'probability': [1.0]},\n",
       " 727: {'product': [726], 'probability': [1.0]},\n",
       " 728: {'product': [729], 'probability': [1.0]},\n",
       " 729: {'product': [728], 'probability': [1.0]},\n",
       " 730: {'product': [731, 732], 'probability': [0.5, 0.5]},\n",
       " 731: {'product': [730], 'probability': [1.0]},\n",
       " 732: {'product': [730], 'probability': [1.0]},\n",
       " 733: {'product': [734], 'probability': [1.0]},\n",
       " 734: {'product': [733], 'probability': [1.0]},\n",
       " 735: {'product': [736], 'probability': [1.0]},\n",
       " 736: {'product': [735], 'probability': [1.0]},\n",
       " 737: {'product': [738], 'probability': [1.0]},\n",
       " 738: {'product': [737], 'probability': [1.0]},\n",
       " 739: {'product': [740], 'probability': [1.0]},\n",
       " 740: {'product': [739], 'probability': [1.0]},\n",
       " 741: {'product': [742], 'probability': [1.0]},\n",
       " 742: {'product': [741, 9625], 'probability': [0.5, 0.5]},\n",
       " 743: {'product': [744], 'probability': [1.0]},\n",
       " 744: {'product': [743, 9691], 'probability': [0.5, 0.5]},\n",
       " 745: {'product': [746], 'probability': [1.0]},\n",
       " 746: {'product': [745], 'probability': [1.0]},\n",
       " 747: {'product': [748], 'probability': [1.0]},\n",
       " 748: {'product': [747], 'probability': [1.0]},\n",
       " 749: {'product': [750], 'probability': [1.0]},\n",
       " 750: {'product': [749], 'probability': [1.0]},\n",
       " 751: {'product': [752], 'probability': [1.0]},\n",
       " 752: {'product': [751], 'probability': [1.0]},\n",
       " 753: {'product': [754], 'probability': [1.0]},\n",
       " 754: {'product': [753], 'probability': [1.0]},\n",
       " 755: {'product': [756], 'probability': [1.0]},\n",
       " 756: {'product': [755], 'probability': [1.0]},\n",
       " 757: {'product': [758], 'probability': [1.0]},\n",
       " 758: {'product': [757], 'probability': [1.0]},\n",
       " 759: {'product': [760], 'probability': [1.0]},\n",
       " 760: {'product': [759], 'probability': [1.0]},\n",
       " 761: {'product': [762], 'probability': [1.0]},\n",
       " 762: {'product': [761, 8415], 'probability': [0.5, 0.5]},\n",
       " 763: {'product': [764], 'probability': [1.0]},\n",
       " 764: {'product': [763], 'probability': [1.0]},\n",
       " 765: {'product': [766, 767], 'probability': [0.5, 0.5]},\n",
       " 766: {'product': [765], 'probability': [1.0]},\n",
       " 767: {'product': [765, 65972], 'probability': [0.5, 0.5]},\n",
       " 768: {'product': [769], 'probability': [1.0]},\n",
       " 769: {'product': [768], 'probability': [1.0]},\n",
       " 770: {'product': [771], 'probability': [1.0]},\n",
       " 771: {'product': [770], 'probability': [1.0]},\n",
       " 772: {'product': [773], 'probability': [1.0]},\n",
       " 773: {'product': [772], 'probability': [1.0]},\n",
       " 774: {'product': [775], 'probability': [1.0]},\n",
       " 775: {'product': [774], 'probability': [1.0]},\n",
       " 776: {'product': [777], 'probability': [1.0]},\n",
       " 777: {'product': [776], 'probability': [1.0]},\n",
       " 778: {'product': [779], 'probability': [1.0]},\n",
       " 779: {'product': [778], 'probability': [1.0]},\n",
       " 780: {'product': [781], 'probability': [1.0]},\n",
       " 781: {'product': [780], 'probability': [1.0]},\n",
       " 782: {'product': [783], 'probability': [1.0]},\n",
       " 783: {'product': [782], 'probability': [1.0]},\n",
       " 784: {'product': [785], 'probability': [1.0]},\n",
       " 785: {'product': [784], 'probability': [1.0]},\n",
       " 786: {'product': [787], 'probability': [1.0]},\n",
       " 787: {'product': [786], 'probability': [1.0]},\n",
       " 788: {'product': [789], 'probability': [1.0]},\n",
       " 789: {'product': [788, 11137], 'probability': [0.5, 0.5]},\n",
       " 790: {'product': [791], 'probability': [1.0]},\n",
       " 791: {'product': [790], 'probability': [1.0]},\n",
       " 792: {'product': [793], 'probability': [1.0]},\n",
       " 793: {'product': [792], 'probability': [1.0]},\n",
       " 794: {'product': [795], 'probability': [1.0]},\n",
       " 795: {'product': [794], 'probability': [1.0]},\n",
       " 796: {'product': [797], 'probability': [1.0]},\n",
       " 797: {'product': [796], 'probability': [1.0]},\n",
       " 798: {'product': [799], 'probability': [1.0]},\n",
       " 799: {'product': [798], 'probability': [1.0]},\n",
       " 800: {'product': [801], 'probability': [1.0]},\n",
       " 801: {'product': [800], 'probability': [1.0]},\n",
       " 802: {'product': [803], 'probability': [1.0]},\n",
       " 803: {'product': [802], 'probability': [1.0]},\n",
       " 804: {'product': [805], 'probability': [1.0]},\n",
       " 805: {'product': [804], 'probability': [1.0]},\n",
       " 806: {'product': [807], 'probability': [1.0]},\n",
       " 807: {'product': [806], 'probability': [1.0]},\n",
       " 808: {'product': [809], 'probability': [1.0]},\n",
       " 809: {'product': [808, 68956], 'probability': [0.5, 0.5]},\n",
       " 810: {'product': [811], 'probability': [1.0]},\n",
       " 811: {'product': [810], 'probability': [1.0]},\n",
       " 812: {'product': [813], 'probability': [1.0]},\n",
       " 813: {'product': [812], 'probability': [1.0]},\n",
       " 814: {'product': [815], 'probability': [1.0]},\n",
       " 815: {'product': [814], 'probability': [1.0]},\n",
       " 816: {'product': [817], 'probability': [1.0]},\n",
       " 817: {'product': [816], 'probability': [1.0]},\n",
       " 818: {'product': [819], 'probability': [1.0]},\n",
       " 819: {'product': [818], 'probability': [1.0]},\n",
       " 820: {'product': [821, 822], 'probability': [0.5, 0.5]},\n",
       " 821: {'product': [676, 820], 'probability': [0.5, 0.5]},\n",
       " 822: {'product': [820], 'probability': [1.0]},\n",
       " 823: {'product': [824], 'probability': [1.0]},\n",
       " 824: {'product': [823], 'probability': [1.0]},\n",
       " 825: {'product': [826], 'probability': [1.0]},\n",
       " 826: {'product': [825], 'probability': [1.0]},\n",
       " 827: {'product': [828], 'probability': [1.0]},\n",
       " 828: {'product': [827], 'probability': [1.0]},\n",
       " 829: {'product': [830], 'probability': [1.0]},\n",
       " 830: {'product': [829], 'probability': [1.0]},\n",
       " 831: {'product': [832], 'probability': [1.0]},\n",
       " 832: {'product': [831, 54022], 'probability': [0.5, 0.5]},\n",
       " 833: {'product': [834], 'probability': [1.0]},\n",
       " 834: {'product': [833], 'probability': [1.0]},\n",
       " 835: {'product': [836], 'probability': [1.0]},\n",
       " 836: {'product': [835, 19481, 45708, 47420],\n",
       "  'probability': [0.25, 0.25, 0.25, 0.25]},\n",
       " 837: {'product': [838], 'probability': [1.0]},\n",
       " 838: {'product': [837], 'probability': [1.0]},\n",
       " 839: {'product': [840], 'probability': [1.0]},\n",
       " 840: {'product': [839], 'probability': [1.0]},\n",
       " 841: {'product': [842, 843], 'probability': [0.5, 0.5]},\n",
       " 842: {'product': [841], 'probability': [1.0]},\n",
       " 843: {'product': [841, 53820], 'probability': [0.5, 0.5]},\n",
       " 844: {'product': [845, 846], 'probability': [0.5, 0.5]},\n",
       " 845: {'product': [844], 'probability': [1.0]},\n",
       " 846: {'product': [844], 'probability': [1.0]},\n",
       " 847: {'product': [848], 'probability': [1.0]},\n",
       " 848: {'product': [847], 'probability': [1.0]},\n",
       " 849: {'product': [850], 'probability': [1.0]},\n",
       " 850: {'product': [849], 'probability': [1.0]},\n",
       " 851: {'product': [852], 'probability': [1.0]},\n",
       " 852: {'product': [851], 'probability': [1.0]},\n",
       " 853: {'product': [854], 'probability': [1.0]},\n",
       " 854: {'product': [853,\n",
       "   17023,\n",
       "   18966,\n",
       "   19091,\n",
       "   19603,\n",
       "   29933,\n",
       "   43767,\n",
       "   43894,\n",
       "   56117,\n",
       "   56118,\n",
       "   56119,\n",
       "   56120,\n",
       "   56121,\n",
       "   56122],\n",
       "  'probability': [0.03787878787878788,\n",
       "   0.07575757575757576,\n",
       "   0.07575757575757576,\n",
       "   0.03787878787878788,\n",
       "   0.07575757575757576,\n",
       "   0.07575757575757576,\n",
       "   0.07575757575757576,\n",
       "   0.07575757575757576,\n",
       "   0.07575757575757576,\n",
       "   0.07575757575757576,\n",
       "   0.07575757575757576,\n",
       "   0.07575757575757576,\n",
       "   0.09090909090909091,\n",
       "   0.07575757575757576]},\n",
       " 855: {'product': [856], 'probability': [1.0]},\n",
       " 856: {'product': [855], 'probability': [1.0]},\n",
       " 857: {'product': [858, 859], 'probability': [0.5, 0.5]},\n",
       " 858: {'product': [857], 'probability': [1.0]},\n",
       " 859: {'product': [857], 'probability': [1.0]},\n",
       " 860: {'product': [861], 'probability': [1.0]},\n",
       " 861: {'product': [860, 4919], 'probability': [0.5, 0.5]},\n",
       " 862: {'product': [863], 'probability': [1.0]},\n",
       " 863: {'product': [862], 'probability': [1.0]},\n",
       " 864: {'product': [865, 866], 'probability': [0.5, 0.5]},\n",
       " 865: {'product': [864], 'probability': [1.0]},\n",
       " 866: {'product': [864, 3417, 41655],\n",
       "  'probability': [0.3333333333333333, 0.3333333333333333, 0.3333333333333333]},\n",
       " 867: {'product': [868], 'probability': [1.0]},\n",
       " 868: {'product': [867], 'probability': [1.0]},\n",
       " 869: {'product': [870], 'probability': [1.0]},\n",
       " 870: {'product': [869], 'probability': [1.0]},\n",
       " 871: {'product': [872], 'probability': [1.0]},\n",
       " 872: {'product': [871], 'probability': [1.0]},\n",
       " 873: {'product': [874], 'probability': [1.0]},\n",
       " 874: {'product': [873], 'probability': [1.0]},\n",
       " 875: {'product': [876], 'probability': [1.0]},\n",
       " 876: {'product': [875], 'probability': [1.0]},\n",
       " 877: {'product': [878], 'probability': [1.0]},\n",
       " 878: {'product': [877], 'probability': [1.0]},\n",
       " 879: {'product': [880], 'probability': [1.0]},\n",
       " 880: {'product': [879], 'probability': [1.0]},\n",
       " 881: {'product': [882], 'probability': [1.0]},\n",
       " 882: {'product': [881], 'probability': [1.0]},\n",
       " 883: {'product': [884, 885], 'probability': [0.5, 0.5]},\n",
       " 884: {'product': [883], 'probability': [1.0]},\n",
       " 885: {'product': [883, 5626, 52746, 62759],\n",
       "  'probability': [0.2857142857142857,\n",
       "   0.2857142857142857,\n",
       "   0.14285714285714285,\n",
       "   0.2857142857142857]},\n",
       " 886: {'product': [887], 'probability': [1.0]},\n",
       " 887: {'product': [886], 'probability': [1.0]},\n",
       " 888: {'product': [889], 'probability': [1.0]},\n",
       " 889: {'product': [888, 12886, 14678, 30239],\n",
       "  'probability': [0.25, 0.25, 0.25, 0.25]},\n",
       " 890: {'product': [891], 'probability': [1.0]},\n",
       " 891: {'product': [890], 'probability': [1.0]},\n",
       " 892: {'product': [893, 894], 'probability': [0.5, 0.5]},\n",
       " 893: {'product': [892, 2282], 'probability': [0.5, 0.5]},\n",
       " 894: {'product': [892], 'probability': [1.0]},\n",
       " 895: {'product': [896], 'probability': [1.0]},\n",
       " 896: {'product': [895], 'probability': [1.0]},\n",
       " 897: {'product': [898], 'probability': [1.0]},\n",
       " 898: {'product': [897], 'probability': [1.0]},\n",
       " 899: {'product': [900, 901],\n",
       "  'probability': [0.5454545454545454, 0.45454545454545453]},\n",
       " 900: {'product': [899], 'probability': [1.0]},\n",
       " 901: {'product': [899], 'probability': [1.0]},\n",
       " 902: {'product': [903, 904], 'probability': [0.5, 0.5]},\n",
       " 903: {'product': [902], 'probability': [1.0]},\n",
       " 904: {'product': [902], 'probability': [1.0]},\n",
       " 905: {'product': [906], 'probability': [1.0]},\n",
       " 906: {'product': [905], 'probability': [1.0]},\n",
       " 907: {'product': [908], 'probability': [1.0]},\n",
       " 908: {'product': [907, 1729], 'probability': [0.5, 0.5]},\n",
       " 909: {'product': [910], 'probability': [1.0]},\n",
       " 910: {'product': [909], 'probability': [1.0]},\n",
       " 911: {'product': [912], 'probability': [1.0]},\n",
       " 912: {'product': [911], 'probability': [1.0]},\n",
       " 913: {'product': [914], 'probability': [1.0]},\n",
       " 914: {'product': [913], 'probability': [1.0]},\n",
       " 915: {'product': [916], 'probability': [1.0]},\n",
       " 916: {'product': [915, 43573, 43574],\n",
       "  'probability': [0.3333333333333333, 0.3333333333333333, 0.3333333333333333]},\n",
       " 917: {'product': [918], 'probability': [1.0]},\n",
       " 918: {'product': [917, 1937],\n",
       "  'probability': [0.5454545454545454, 0.45454545454545453]},\n",
       " 919: {'product': [920], 'probability': [1.0]},\n",
       " 920: {'product': [919], 'probability': [1.0]},\n",
       " 921: {'product': [922], 'probability': [1.0]},\n",
       " 922: {'product': [921], 'probability': [1.0]},\n",
       " 923: {'product': [924, 925], 'probability': [0.5, 0.5]},\n",
       " 924: {'product': [923, 53929], 'probability': [0.5, 0.5]},\n",
       " 925: {'product': [923, 40376], 'probability': [0.5, 0.5]},\n",
       " 926: {'product': [927], 'probability': [1.0]},\n",
       " 927: {'product': [926], 'probability': [1.0]},\n",
       " 928: {'product': [929], 'probability': [1.0]},\n",
       " 929: {'product': [928], 'probability': [1.0]},\n",
       " 930: {'product': [931], 'probability': [1.0]},\n",
       " 931: {'product': [930], 'probability': [1.0]},\n",
       " 932: {'product': [933], 'probability': [1.0]},\n",
       " 933: {'product': [932], 'probability': [1.0]},\n",
       " 934: {'product': [935], 'probability': [1.0]},\n",
       " 935: {'product': [934], 'probability': [1.0]},\n",
       " 936: {'product': [937], 'probability': [1.0]},\n",
       " 937: {'product': [936], 'probability': [1.0]},\n",
       " 938: {'product': [939], 'probability': [1.0]},\n",
       " 939: {'product': [938], 'probability': [1.0]},\n",
       " 940: {'product': [941], 'probability': [1.0]},\n",
       " 941: {'product': [940], 'probability': [1.0]},\n",
       " 942: {'product': [943], 'probability': [1.0]},\n",
       " 943: {'product': [942, 2803], 'probability': [0.5, 0.5]},\n",
       " 944: {'product': [945], 'probability': [1.0]},\n",
       " 945: {'product': [944], 'probability': [1.0]},\n",
       " 946: {'product': [947, 948, 949],\n",
       "  'probability': [0.3333333333333333, 0.3333333333333333, 0.3333333333333333]},\n",
       " 947: {'product': [946, 38883], 'probability': [0.5, 0.5]},\n",
       " 948: {'product': [946,\n",
       "   18612,\n",
       "   18767,\n",
       "   82331,\n",
       "   82332,\n",
       "   82333,\n",
       "   82334,\n",
       "   82335,\n",
       "   82336],\n",
       "  'probability': [0.1111111111111111,\n",
       "   0.1111111111111111,\n",
       "   0.1111111111111111,\n",
       "   0.1111111111111111,\n",
       "   0.1111111111111111,\n",
       "   0.1111111111111111,\n",
       "   0.1111111111111111,\n",
       "   0.1111111111111111,\n",
       "   0.1111111111111111]},\n",
       " 949: {'product': [946], 'probability': [1.0]},\n",
       " 950: {'product': [951, 952], 'probability': [0.5, 0.5]},\n",
       " 951: {'product': [950, 40946], 'probability': [0.5, 0.5]},\n",
       " 952: {'product': [950], 'probability': [1.0]},\n",
       " 953: {'product': [954], 'probability': [1.0]},\n",
       " 954: {'product': [953], 'probability': [1.0]},\n",
       " 955: {'product': [956], 'probability': [1.0]},\n",
       " 956: {'product': [955], 'probability': [1.0]},\n",
       " 957: {'product': [958], 'probability': [1.0]},\n",
       " 958: {'product': [957], 'probability': [1.0]},\n",
       " 959: {'product': [960], 'probability': [1.0]},\n",
       " 960: {'product': [959], 'probability': [1.0]},\n",
       " 961: {'product': [962], 'probability': [1.0]},\n",
       " 962: {'product': [961], 'probability': [1.0]},\n",
       " 963: {'product': [964], 'probability': [1.0]},\n",
       " 964: {'product': [963, 965], 'probability': [0.5, 0.5]},\n",
       " 965: {'product': [964], 'probability': [1.0]},\n",
       " 966: {'product': [967], 'probability': [1.0]},\n",
       " 967: {'product': [966], 'probability': [1.0]},\n",
       " 968: {'product': [969], 'probability': [1.0]},\n",
       " 969: {'product': [968], 'probability': [1.0]},\n",
       " 970: {'product': [971], 'probability': [1.0]},\n",
       " 971: {'product': [970, 38972], 'probability': [0.5, 0.5]},\n",
       " 972: {'product': [973], 'probability': [1.0]},\n",
       " 973: {'product': [972], 'probability': [1.0]},\n",
       " 974: {'product': [975], 'probability': [1.0]},\n",
       " 975: {'product': [974], 'probability': [1.0]},\n",
       " 976: {'product': [977], 'probability': [1.0]},\n",
       " 977: {'product': [976], 'probability': [1.0]},\n",
       " 978: {'product': [979], 'probability': [1.0]},\n",
       " 979: {'product': [978], 'probability': [1.0]},\n",
       " 980: {'product': [981], 'probability': [1.0]},\n",
       " 981: {'product': [980], 'probability': [1.0]},\n",
       " 982: {'product': [983], 'probability': [1.0]},\n",
       " 983: {'product': [982], 'probability': [1.0]},\n",
       " 984: {'product': [985], 'probability': [1.0]},\n",
       " 985: {'product': [984], 'probability': [1.0]},\n",
       " 986: {'product': [987], 'probability': [1.0]},\n",
       " 987: {'product': [986], 'probability': [1.0]},\n",
       " 988: {'product': [989, 990], 'probability': [0.5, 0.5]},\n",
       " 989: {'product': [988], 'probability': [1.0]},\n",
       " 990: {'product': [988], 'probability': [1.0]},\n",
       " 991: {'product': [992], 'probability': [1.0]},\n",
       " 992: {'product': [991], 'probability': [1.0]},\n",
       " 993: {'product': [994], 'probability': [1.0]},\n",
       " 994: {'product': [993, 45102], 'probability': [0.5, 0.5]},\n",
       " 995: {'product': [996], 'probability': [1.0]},\n",
       " 996: {'product': [995], 'probability': [1.0]},\n",
       " 997: {'product': [998], 'probability': [1.0]},\n",
       " 998: {'product': [997, 69661, 90069],\n",
       "  'probability': [0.37037037037037035,\n",
       "   0.4444444444444444,\n",
       "   0.18518518518518517]},\n",
       " 999: {'product': [1000, 1001], 'probability': [0.5, 0.5]},\n",
       " ...}"
      ]
     },
     "execution_count": 141,
     "metadata": {},
     "output_type": "execute_result"
    }
   ],
   "source": [
    "transition_check"
   ]
  },
  {
   "cell_type": "code",
   "execution_count": null,
   "metadata": {},
   "outputs": [],
   "source": []
  }
 ],
 "metadata": {
  "kernelspec": {
   "display_name": "recsys",
   "language": "python",
   "name": "recsys"
  },
  "language_info": {
   "codemirror_mode": {
    "name": "ipython",
    "version": 3
   },
   "file_extension": ".py",
   "mimetype": "text/x-python",
   "name": "python",
   "nbconvert_exporter": "python",
   "pygments_lexer": "ipython3",
   "version": "3.7.2"
  }
 },
 "nbformat": 4,
 "nbformat_minor": 2
}
