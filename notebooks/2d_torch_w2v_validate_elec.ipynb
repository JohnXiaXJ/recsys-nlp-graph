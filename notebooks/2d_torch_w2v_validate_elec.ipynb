{
 "cells": [
  {
   "cell_type": "code",
   "execution_count": 1,
   "metadata": {},
   "outputs": [],
   "source": [
    "import sys\n",
    "import os\n",
    "\n",
    "sys.path.append(os.path.dirname(os.getcwd()))"
   ]
  },
  {
   "cell_type": "code",
   "execution_count": 2,
   "metadata": {},
   "outputs": [],
   "source": [
    "import pandas as pd\n",
    "import numpy as np\n",
    "from scipy import spatial\n",
    "from sklearn.metrics.pairwise import cosine_similarity\n",
    "from sklearn.metrics import recall_score, precision_score, roc_auc_score, precision_recall_curve, roc_curve\n",
    "import matplotlib.pyplot as plt\n",
    "import torch\n",
    "import torch.nn.functional as F\n",
    "\n",
    "from src.utils.io_utils import load_model\n",
    "from src.utils.logger import logger\n",
    "from src.ml.skipgram import SkipGram"
   ]
  },
  {
   "cell_type": "code",
   "execution_count": 3,
   "metadata": {},
   "outputs": [],
   "source": [
    "dataset = 'electronics'"
   ]
  },
  {
   "cell_type": "markdown",
   "metadata": {},
   "source": [
    "### Load data and models"
   ]
  },
  {
   "cell_type": "code",
   "execution_count": 4,
   "metadata": {},
   "outputs": [],
   "source": [
    "val = pd.read_csv('../data/{}_edges_val.csv'.format(dataset), dtype={'product1': 'object', 'product2': 'object', 'edge':'int8'})"
   ]
  },
  {
   "cell_type": "code",
   "execution_count": 5,
   "metadata": {},
   "outputs": [
    {
     "data": {
      "text/html": [
       "<div>\n",
       "<style scoped>\n",
       "    .dataframe tbody tr th:only-of-type {\n",
       "        vertical-align: middle;\n",
       "    }\n",
       "\n",
       "    .dataframe tbody tr th {\n",
       "        vertical-align: top;\n",
       "    }\n",
       "\n",
       "    .dataframe thead th {\n",
       "        text-align: right;\n",
       "    }\n",
       "</style>\n",
       "<table border=\"1\" class=\"dataframe\">\n",
       "  <thead>\n",
       "    <tr style=\"text-align: right;\">\n",
       "      <th></th>\n",
       "      <th>product1</th>\n",
       "      <th>product2</th>\n",
       "      <th>edge</th>\n",
       "    </tr>\n",
       "  </thead>\n",
       "  <tbody>\n",
       "    <tr>\n",
       "      <th>0</th>\n",
       "      <td>b0002xhbys</td>\n",
       "      <td>b000mx5xpm</td>\n",
       "      <td>1</td>\n",
       "    </tr>\n",
       "    <tr>\n",
       "      <th>1</th>\n",
       "      <td>b000hdjt4s</td>\n",
       "      <td>b00glzuxnc</td>\n",
       "      <td>1</td>\n",
       "    </tr>\n",
       "    <tr>\n",
       "      <th>2</th>\n",
       "      <td>b0026k9l3o</td>\n",
       "      <td>b00855b5qa</td>\n",
       "      <td>1</td>\n",
       "    </tr>\n",
       "    <tr>\n",
       "      <th>3</th>\n",
       "      <td>b00009wc1t</td>\n",
       "      <td>b003fxkxk6</td>\n",
       "      <td>1</td>\n",
       "    </tr>\n",
       "    <tr>\n",
       "      <th>4</th>\n",
       "      <td>b004rxkwi6</td>\n",
       "      <td>b0089syu9c</td>\n",
       "      <td>1</td>\n",
       "    </tr>\n",
       "  </tbody>\n",
       "</table>\n",
       "</div>"
      ],
      "text/plain": [
       "     product1    product2  edge\n",
       "0  b0002xhbys  b000mx5xpm     1\n",
       "1  b000hdjt4s  b00glzuxnc     1\n",
       "2  b0026k9l3o  b00855b5qa     1\n",
       "3  b00009wc1t  b003fxkxk6     1\n",
       "4  b004rxkwi6  b0089syu9c     1"
      ]
     },
     "execution_count": 5,
     "metadata": {},
     "output_type": "execute_result"
    }
   ],
   "source": [
    "val.head()"
   ]
  },
  {
   "cell_type": "code",
   "execution_count": 6,
   "metadata": {},
   "outputs": [
    {
     "name": "stderr",
     "output_type": "stream",
     "text": [
      "2019-12-05 14:30:48,384 - Model loaded from: ../model/word2id (Size: 57402775 bytes)\n"
     ]
    }
   ],
   "source": [
    "word2id = load_model('../model/word2id')"
   ]
  },
  {
   "cell_type": "code",
   "execution_count": 7,
   "metadata": {},
   "outputs": [],
   "source": [
    "skipgram = SkipGram(len(word2id), 128)"
   ]
  },
  {
   "cell_type": "code",
   "execution_count": 8,
   "metadata": {},
   "outputs": [
    {
     "data": {
      "text/plain": [
       "<All keys matched successfully>"
      ]
     },
     "execution_count": 8,
     "metadata": {},
     "output_type": "execute_result"
    }
   ],
   "source": [
    "skipgram.load_state_dict(torch.load('../model/skipgram_epoch_0_2019-12-05-0630.pt', map_location=torch.device('cpu')))"
   ]
  },
  {
   "cell_type": "code",
   "execution_count": 9,
   "metadata": {},
   "outputs": [],
   "source": [
    "w2v = skipgram.center_embeddings.weight.cpu().data.numpy()"
   ]
  },
  {
   "cell_type": "markdown",
   "metadata": {},
   "source": [
    "### Get product vectors and calculate cosine similarity"
   ]
  },
  {
   "cell_type": "code",
   "execution_count": 10,
   "metadata": {},
   "outputs": [],
   "source": [
    "def get_product_id(x):\n",
    "    return word2id.get(x, -1)\n",
    "word2id_func = np.vectorize(get_product_id)"
   ]
  },
  {
   "cell_type": "code",
   "execution_count": 11,
   "metadata": {},
   "outputs": [],
   "source": [
    "val['product1id'] = word2id_func(val['product1'].values)\n",
    "val['product2id'] = word2id_func(val['product2'].values)\n",
    "val.drop(columns=['product1', 'product2'], inplace=True)"
   ]
  },
  {
   "cell_type": "code",
   "execution_count": 12,
   "metadata": {},
   "outputs": [],
   "source": [
    "# # Too memory intensive\n",
    "# val_without_emb = val[(val['product1_id'] == -1) | (val['product2_id'] == -1)].copy()\n",
    "# val = val[(val['product1_id'] > -1) & (val['product2_id'] > -1)].copy()  # With embedding\n",
    "\n",
    "# product1_emb = skipgram.get_center_emb(torch.LongTensor(val['product1_id'].values))\n",
    "# product2_emb = skipgram.get_center_emb(torch.LongTensor(val['product2_id'].values))\n",
    "\n",
    "# val['score'] = F.cosine_similarity(product1_emb, product2_emb)"
   ]
  },
  {
   "cell_type": "code",
   "execution_count": 13,
   "metadata": {},
   "outputs": [],
   "source": [
    "# Uses too much memory\n",
    "# def calculate_cosine_similarity4(val):\n",
    "#     product1id = val['product1id']\n",
    "#     product2id = val['product2id']\n",
    "    \n",
    "#     if (product1id == -1) or (product2id == -1):\n",
    "#         return 0.5\n",
    "#     else:\n",
    "#         product1_emb = skipgram.get_center_emb(torch.LongTensor(product1id)).detach().numpy()\n",
    "#         product2_emb = skipgram.get_center_emb(torch.LongTensor(product2id)).detach().numpy()\n",
    "#         return np.inner(product1_emb, product2_emb) / (np.linalg.norm(product1_emb) * np.linalg.norm(product2_emb))"
   ]
  },
  {
   "cell_type": "code",
   "execution_count": 14,
   "metadata": {},
   "outputs": [],
   "source": [
    "def calculate_cosine_similarity(val):\n",
    "    product1id = val['product1id']\n",
    "    product2id = val['product2id']\n",
    "    \n",
    "    if (product1id == -1) or (product2id == -1):\n",
    "        return 0.5\n",
    "    else:\n",
    "        return 1 - spatial.distance.cosine(w2v[val['product1id']], w2v[val['product2id']])"
   ]
  },
  {
   "cell_type": "code",
   "execution_count": 15,
   "metadata": {},
   "outputs": [],
   "source": [
    "def calculate_cosine_similarity2(val):\n",
    "    product1id = val['product1id']\n",
    "    product2id = val['product2id']\n",
    "    \n",
    "    if (product1id == -1) or (product2id == -1):\n",
    "        return 0.5\n",
    "    else:\n",
    "        return np.inner(w2v[product1id], w2v[product2id]) / (np.linalg.norm(w2v[product1id]) * np.linalg.norm(w2v[product2id]))"
   ]
  },
  {
   "cell_type": "code",
   "execution_count": 16,
   "metadata": {},
   "outputs": [],
   "source": [
    "def calculate_cosine_similarity3(val):\n",
    "    product1id = val['product1id']\n",
    "    product2id = val['product2id']\n",
    "    \n",
    "    return cosine_similarity([w2v[product1id]], [w2v[product2id]])"
   ]
  },
  {
   "cell_type": "code",
   "execution_count": 17,
   "metadata": {},
   "outputs": [],
   "source": [
    "# # This is correct implementation\n",
    "# def calculate_cosine_similarity2_vectorized(product1id, product2id):\n",
    "#     if (product1id == -1) or (product2id == -1):\n",
    "#         return -1 \n",
    "#     else:\n",
    "#         return np.inner(w2v[product1id], w2v[product2id]) / (np.linalg.norm(w2v[product1id]) * np.linalg.norm(w2v[product2id]))\n",
    "    \n",
    "# cos_sim_func = np.vectorize(calculate_cosine_similarity2_vectorized)"
   ]
  },
  {
   "cell_type": "code",
   "execution_count": 18,
   "metadata": {},
   "outputs": [],
   "source": [
    "# This is incorrect implementation but suggests that the last vector is a good approx for unseen vecs\n",
    "# Update: Added vectors for unseen products in skipgram so now this works\n",
    "def calculate_cosine_similarity2_vectorized(product1id, product2id):\n",
    "    return np.inner(w2v[product1id], w2v[product2id]) / (np.linalg.norm(w2v[product1id]) * np.linalg.norm(w2v[product2id]))\n",
    "    \n",
    "cos_sim_func = np.vectorize(calculate_cosine_similarity2_vectorized)"
   ]
  },
  {
   "cell_type": "code",
   "execution_count": 19,
   "metadata": {
    "scrolled": true
   },
   "outputs": [],
   "source": [
    "# %timeit val.head(100).apply(calculate_cosine_similarity, axis=1)"
   ]
  },
  {
   "cell_type": "code",
   "execution_count": 20,
   "metadata": {},
   "outputs": [],
   "source": [
    "# %timeit val.head(100).apply(calculate_cosine_similarity2, axis=1)"
   ]
  },
  {
   "cell_type": "code",
   "execution_count": 21,
   "metadata": {},
   "outputs": [],
   "source": [
    "# %timeit val.head(100).apply(calculate_cosine_similarity3, axis=1)"
   ]
  },
  {
   "cell_type": "code",
   "execution_count": 22,
   "metadata": {},
   "outputs": [],
   "source": [
    "# %timeit val.head(100).apply(calculate_cosine_similarity4, axis=1)"
   ]
  },
  {
   "cell_type": "code",
   "execution_count": 23,
   "metadata": {},
   "outputs": [
    {
     "name": "stdout",
     "output_type": "stream",
     "text": [
      "1.65 ms ± 48 µs per loop (mean ± std. dev. of 7 runs, 1000 loops each)\n"
     ]
    }
   ],
   "source": [
    "%timeit cos_sim_func(val.head(100)['product1id'].values, val.head(100)['product2id'].values)"
   ]
  },
  {
   "cell_type": "code",
   "execution_count": 24,
   "metadata": {},
   "outputs": [],
   "source": [
    "val['score'] = cos_sim_func(val['product1id'].values, val['product2id'].values)"
   ]
  },
  {
   "cell_type": "code",
   "execution_count": 25,
   "metadata": {},
   "outputs": [],
   "source": [
    "# val['score'] = np.where(val['score'] == 1, 0.5, val['score'])"
   ]
  },
  {
   "cell_type": "code",
   "execution_count": 26,
   "metadata": {},
   "outputs": [],
   "source": [
    "# Set score of unseen item pairs to median score of seen item pairs\n",
    "val_seen = val[val['score'] != -1]\n",
    "median_score = np.median(val_seen['score'])\n",
    "val['score'] = np.where(val['score'] == -1, median_score, val['score'])"
   ]
  },
  {
   "cell_type": "markdown",
   "metadata": {},
   "source": [
    "### Evaluate results"
   ]
  },
  {
   "cell_type": "code",
   "execution_count": 27,
   "metadata": {},
   "outputs": [
    {
     "name": "stderr",
     "output_type": "stream",
     "text": [
      "2019-12-05 14:32:03,051 - AUC-ROC: 0.9413298814929544\n"
     ]
    }
   ],
   "source": [
    "roc_score = roc_auc_score(val['edge'], val['score'])\n",
    "logger.info('AUC-ROC: {}'.format(roc_score))"
   ]
  },
  {
   "cell_type": "code",
   "execution_count": 28,
   "metadata": {},
   "outputs": [
    {
     "name": "stderr",
     "output_type": "stream",
     "text": [
      "2019-12-05 14:32:03,862 - AUC-ROC: 0.9413298814929544\n"
     ]
    }
   ],
   "source": [
    "roc_score_seen = roc_auc_score(val_seen['edge'], val_seen['score'])\n",
    "logger.info('AUC-ROC: {}'.format(roc_score_seen))"
   ]
  },
  {
   "cell_type": "code",
   "execution_count": 29,
   "metadata": {},
   "outputs": [
    {
     "data": {
      "text/plain": [
       "Text(0.5, 1.0, 'PyTorch Word2Vec - AUC-ROC: 0.9413')"
      ]
     },
     "execution_count": 29,
     "metadata": {},
     "output_type": "execute_result"
    },
    {
     "name": "stderr",
     "output_type": "stream",
     "text": [
      "/Users/eugeneyan/recsys/venv/lib/python3.7/site-packages/IPython/core/events.py:88: UserWarning: Creating legend with loc=\"best\" can be slow with large amounts of data.\n",
      "  func(*args, **kwargs)\n",
      "/Users/eugeneyan/recsys/venv/lib/python3.7/site-packages/IPython/core/pylabtools.py:128: UserWarning: Creating legend with loc=\"best\" can be slow with large amounts of data.\n",
      "  fig.canvas.print_figure(bytes_io, **kw)\n"
     ]
    },
    {
     "data": {
      "image/png": "[encoded data removed]",
      "text/plain": [
       "<Figure size 1080x360 with 1 Axes>"
      ]
     },
     "metadata": {
      "needs_background": "light"
     },
     "output_type": "display_data"
    }
   ],
   "source": [
    "precision, recall, thresholds = precision_recall_curve(val['edge'], val['score'])\n",
    "plt.figure(figsize=(15, 5))\n",
    "plt.grid()\n",
    "plt.plot(thresholds, precision[1:], color='r', label='Precision')\n",
    "plt.plot(thresholds, recall[1:], color='b', label='Recall')\n",
    "plt.gca().invert_xaxis()\n",
    "plt.legend()\n",
    "plt.xlabel('Cosine Similiarity threshold')\n",
    "plt.ylabel('Precision / Recall')\n",
    "plt.title('PyTorch Word2Vec - AUC-ROC: {:.4f}'.format(roc_score))"
   ]
  },
  {
   "cell_type": "code",
   "execution_count": 30,
   "metadata": {},
   "outputs": [
    {
     "data": {
      "text/plain": [
       "Text(0.5, 1.0, 'PyTorch Word2Vec (seen items only) - AUC-ROC: 0.9413')"
      ]
     },
     "execution_count": 30,
     "metadata": {},
     "output_type": "execute_result"
    },
    {
     "data": {
      "image/png": "[encoded data removed]",
      "text/plain": [
       "<Figure size 1080x360 with 1 Axes>"
      ]
     },
     "metadata": {
      "needs_background": "light"
     },
     "output_type": "display_data"
    }
   ],
   "source": [
    "precision, recall, thresholds = precision_recall_curve(val_seen['edge'], val_seen['score'])\n",
    "plt.figure(figsize=(15, 5))\n",
    "plt.grid()\n",
    "plt.plot(thresholds, precision[1:], color='r', label='Precision')\n",
    "plt.plot(thresholds, recall[1:], color='b', label='Recall')\n",
    "plt.gca().invert_xaxis()\n",
    "plt.legend()\n",
    "plt.xlabel('Cosine Similiarity threshold')\n",
    "plt.ylabel('Precision / Recall')\n",
    "plt.title('PyTorch Word2Vec (seen items only) - AUC-ROC: {:.4f}'.format(roc_score_seen))"
   ]
  },
  {
   "cell_type": "code",
   "execution_count": 31,
   "metadata": {},
   "outputs": [
    {
     "data": {
      "text/plain": [
       "Text(0.5, 1.0, 'ROC curve')"
      ]
     },
     "execution_count": 31,
     "metadata": {},
     "output_type": "execute_result"
    },
    {
     "data": {
      "image/png": "[encoded data removed]",
      "text/plain": [
       "<Figure size 504x504 with 1 Axes>"
      ]
     },
     "metadata": {
      "needs_background": "light"
     },
     "output_type": "display_data"
    }
   ],
   "source": [
    "fpr, tpr, roc_thresholds = roc_curve(val['edge'], val['score'])\n",
    "plt.figure(figsize=(7, 7))\n",
    "plt.grid()\n",
    "plt.plot(fpr, tpr, color='b')\n",
    "plt.title('ROC curve')"
   ]
  },
  {
   "cell_type": "code",
   "execution_count": 32,
   "metadata": {},
   "outputs": [
    {
     "data": {
      "text/plain": [
       "Text(0.5, 1.0, 'Precision-Recall Trade-off')"
      ]
     },
     "execution_count": 32,
     "metadata": {},
     "output_type": "execute_result"
    },
    {
     "data": {
      "image/png": "[encoded data removed]",
      "text/plain": [
       "<Figure size 504x504 with 1 Axes>"
      ]
     },
     "metadata": {
      "needs_background": "light"
     },
     "output_type": "display_data"
    }
   ],
   "source": [
    "plt.figure(figsize=(7, 7))\n",
    "plt.grid()\n",
    "plt.step(recall, precision, color='b', label='Precision-Recall Trade-off')\n",
    "plt.fill_between(recall, precision, alpha=0.1, color='b')\n",
    "\n",
    "plt.xlabel('Recall')\n",
    "plt.ylabel('Precision')\n",
    "plt.title('Precision-Recall Trade-off')"
   ]
  },
  {
   "cell_type": "code",
   "execution_count": null,
   "metadata": {},
   "outputs": [],
   "source": []
  }
 ],
 "metadata": {
  "kernelspec": {
   "display_name": "recsys",
   "language": "python",
   "name": "recsys"
  },
  "language_info": {
   "codemirror_mode": {
    "name": "ipython",
    "version": 3
   },
   "file_extension": ".py",
   "mimetype": "text/x-python",
   "name": "python",
   "nbconvert_exporter": "python",
   "pygments_lexer": "ipython3",
   "version": "3.7.2"
  }
 },
 "nbformat": 4,
 "nbformat_minor": 2
}
