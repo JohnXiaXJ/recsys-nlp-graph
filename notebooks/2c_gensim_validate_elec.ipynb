{
 "cells": [
  {
   "cell_type": "code",
   "execution_count": 3,
   "metadata": {},
   "outputs": [],
   "source": [
    "import sys\n",
    "import os\n",
    "\n",
    "sys.path.append(os.path.dirname(os.getcwd()))"
   ]
  },
  {
   "cell_type": "code",
   "execution_count": 4,
   "metadata": {},
   "outputs": [],
   "source": [
    "import pandas as pd\n",
    "from gensim.models import KeyedVectors\n",
    "from sklearn.metrics import recall_score, precision_score, roc_auc_score, precision_recall_curve, roc_curve\n",
    "import matplotlib.pyplot as plt\n",
    "\n",
    "import numpy as np\n",
    "\n",
    "from src.utils.io_utils import load_model\n",
    "from src.utils.logger import logger"
   ]
  },
  {
   "cell_type": "markdown",
   "metadata": {},
   "source": [
    "### Import validation data"
   ]
  },
  {
   "cell_type": "code",
   "execution_count": 5,
   "metadata": {},
   "outputs": [],
   "source": [
    "dataset = 'electronics'"
   ]
  },
  {
   "cell_type": "code",
   "execution_count": 7,
   "metadata": {},
   "outputs": [],
   "source": [
    "val = pd.read_csv('../data/{}_edges_val.csv'.format(dataset))"
   ]
  },
  {
   "cell_type": "code",
   "execution_count": 8,
   "metadata": {},
   "outputs": [
    {
     "data": {
      "text/html": [
       "<div>\n",
       "<style scoped>\n",
       "    .dataframe tbody tr th:only-of-type {\n",
       "        vertical-align: middle;\n",
       "    }\n",
       "\n",
       "    .dataframe tbody tr th {\n",
       "        vertical-align: top;\n",
       "    }\n",
       "\n",
       "    .dataframe thead th {\n",
       "        text-align: right;\n",
       "    }\n",
       "</style>\n",
       "<table border=\"1\" class=\"dataframe\">\n",
       "  <thead>\n",
       "    <tr style=\"text-align: right;\">\n",
       "      <th></th>\n",
       "      <th>product1</th>\n",
       "      <th>product2</th>\n",
       "      <th>edge</th>\n",
       "    </tr>\n",
       "  </thead>\n",
       "  <tbody>\n",
       "    <tr>\n",
       "      <th>0</th>\n",
       "      <td>b0002xhbys</td>\n",
       "      <td>b000mx5xpm</td>\n",
       "      <td>1</td>\n",
       "    </tr>\n",
       "    <tr>\n",
       "      <th>1</th>\n",
       "      <td>b000hdjt4s</td>\n",
       "      <td>b00glzuxnc</td>\n",
       "      <td>1</td>\n",
       "    </tr>\n",
       "    <tr>\n",
       "      <th>2</th>\n",
       "      <td>b0026k9l3o</td>\n",
       "      <td>b00855b5qa</td>\n",
       "      <td>1</td>\n",
       "    </tr>\n",
       "    <tr>\n",
       "      <th>3</th>\n",
       "      <td>b00009wc1t</td>\n",
       "      <td>b003fxkxk6</td>\n",
       "      <td>1</td>\n",
       "    </tr>\n",
       "    <tr>\n",
       "      <th>4</th>\n",
       "      <td>b004rxkwi6</td>\n",
       "      <td>b0089syu9c</td>\n",
       "      <td>1</td>\n",
       "    </tr>\n",
       "  </tbody>\n",
       "</table>\n",
       "</div>"
      ],
      "text/plain": [
       "     product1    product2  edge\n",
       "0  b0002xhbys  b000mx5xpm     1\n",
       "1  b000hdjt4s  b00glzuxnc     1\n",
       "2  b0026k9l3o  b00855b5qa     1\n",
       "3  b00009wc1t  b003fxkxk6     1\n",
       "4  b004rxkwi6  b0089syu9c     1"
      ]
     },
     "execution_count": 8,
     "metadata": {},
     "output_type": "execute_result"
    }
   ],
   "source": [
    "val.head()"
   ]
  },
  {
   "cell_type": "code",
   "execution_count": 9,
   "metadata": {},
   "outputs": [
    {
     "data": {
      "text/plain": [
       "1    1321736\n",
       "0    1321736\n",
       "Name: edge, dtype: int64"
      ]
     },
     "execution_count": 9,
     "metadata": {},
     "output_type": "execute_result"
    }
   ],
   "source": [
    "val['edge'].value_counts()"
   ]
  },
  {
   "cell_type": "markdown",
   "metadata": {},
   "source": [
    "### Import models"
   ]
  },
  {
   "cell_type": "code",
   "execution_count": 11,
   "metadata": {},
   "outputs": [],
   "source": [
    "kv = KeyedVectors.load('../model/gensim-w2v-2019-12-05-0622.kv')"
   ]
  },
  {
   "cell_type": "markdown",
   "metadata": {},
   "source": [
    "### Convert validation data to node IDs"
   ]
  },
  {
   "cell_type": "code",
   "execution_count": 12,
   "metadata": {},
   "outputs": [],
   "source": [
    "def get_node_id(product_id):\n",
    "    try:\n",
    "        return node_dict[product_id]\n",
    "    except KeyError:\n",
    "        return '-1'"
   ]
  },
  {
   "cell_type": "code",
   "execution_count": 13,
   "metadata": {},
   "outputs": [],
   "source": [
    "# val['product1_node_id'] = val['product1'].apply(get_node_id)\n",
    "# val['product2_node_id'] = val['product2'].apply(get_node_id)"
   ]
  },
  {
   "cell_type": "code",
   "execution_count": 14,
   "metadata": {},
   "outputs": [],
   "source": [
    "# val['products'] = list(zip(val['product1_node_id'], val['product2_node_id']))"
   ]
  },
  {
   "cell_type": "code",
   "execution_count": 15,
   "metadata": {},
   "outputs": [],
   "source": [
    "val['products'] = list(zip(val['product1'], val['product2']))"
   ]
  },
  {
   "cell_type": "markdown",
   "metadata": {},
   "source": [
    "### Get similarity scores"
   ]
  },
  {
   "cell_type": "code",
   "execution_count": 16,
   "metadata": {},
   "outputs": [],
   "source": [
    "def get_kv_similarity(products):\n",
    "    try:\n",
    "        return kv.similarity(products[0], products[1])\n",
    "    except KeyError:\n",
    "        return -1\n",
    "    \n",
    "get_kv_sim_func = np.vectorize(get_kv_similarity)"
   ]
  },
  {
   "cell_type": "code",
   "execution_count": 17,
   "metadata": {},
   "outputs": [
    {
     "name": "stdout",
     "output_type": "stream",
     "text": [
      "2.04 ms ± 30.8 µs per loop (mean ± std. dev. of 7 runs, 100 loops each)\n"
     ]
    }
   ],
   "source": [
    "%timeit val.head(100)['products'].apply(get_kv_similarity)"
   ]
  },
  {
   "cell_type": "code",
   "execution_count": 18,
   "metadata": {},
   "outputs": [
    {
     "name": "stdout",
     "output_type": "stream",
     "text": [
      "1.73 ms ± 84 µs per loop (mean ± std. dev. of 7 runs, 1000 loops each)\n"
     ]
    }
   ],
   "source": [
    "%timeit get_kv_sim_func(val.head(100)['products'].values)"
   ]
  },
  {
   "cell_type": "code",
   "execution_count": 19,
   "metadata": {},
   "outputs": [],
   "source": [
    "val['score'] = get_kv_sim_func(val['products'].values)"
   ]
  },
  {
   "cell_type": "code",
   "execution_count": 20,
   "metadata": {},
   "outputs": [
    {
     "data": {
      "text/plain": [
       "1    1321736\n",
       "0    1321736\n",
       "Name: edge, dtype: int64"
      ]
     },
     "execution_count": 20,
     "metadata": {},
     "output_type": "execute_result"
    }
   ],
   "source": [
    "val['edge'].value_counts()"
   ]
  },
  {
   "cell_type": "code",
   "execution_count": 21,
   "metadata": {},
   "outputs": [
    {
     "data": {
      "text/html": [
       "<div>\n",
       "<style scoped>\n",
       "    .dataframe tbody tr th:only-of-type {\n",
       "        vertical-align: middle;\n",
       "    }\n",
       "\n",
       "    .dataframe tbody tr th {\n",
       "        vertical-align: top;\n",
       "    }\n",
       "\n",
       "    .dataframe thead th {\n",
       "        text-align: right;\n",
       "    }\n",
       "</style>\n",
       "<table border=\"1\" class=\"dataframe\">\n",
       "  <thead>\n",
       "    <tr style=\"text-align: right;\">\n",
       "      <th></th>\n",
       "      <th>product1</th>\n",
       "      <th>product2</th>\n",
       "      <th>edge</th>\n",
       "      <th>products</th>\n",
       "      <th>score</th>\n",
       "    </tr>\n",
       "  </thead>\n",
       "  <tbody>\n",
       "    <tr>\n",
       "      <th>0</th>\n",
       "      <td>b0002xhbys</td>\n",
       "      <td>b000mx5xpm</td>\n",
       "      <td>1</td>\n",
       "      <td>(b0002xhbys, b000mx5xpm)</td>\n",
       "      <td>0.865089</td>\n",
       "    </tr>\n",
       "    <tr>\n",
       "      <th>1</th>\n",
       "      <td>b000hdjt4s</td>\n",
       "      <td>b00glzuxnc</td>\n",
       "      <td>1</td>\n",
       "      <td>(b000hdjt4s, b00glzuxnc)</td>\n",
       "      <td>0.815903</td>\n",
       "    </tr>\n",
       "    <tr>\n",
       "      <th>2</th>\n",
       "      <td>b0026k9l3o</td>\n",
       "      <td>b00855b5qa</td>\n",
       "      <td>1</td>\n",
       "      <td>(b0026k9l3o, b00855b5qa)</td>\n",
       "      <td>0.981518</td>\n",
       "    </tr>\n",
       "    <tr>\n",
       "      <th>3</th>\n",
       "      <td>b00009wc1t</td>\n",
       "      <td>b003fxkxk6</td>\n",
       "      <td>1</td>\n",
       "      <td>(b00009wc1t, b003fxkxk6)</td>\n",
       "      <td>0.801566</td>\n",
       "    </tr>\n",
       "    <tr>\n",
       "      <th>4</th>\n",
       "      <td>b004rxkwi6</td>\n",
       "      <td>b0089syu9c</td>\n",
       "      <td>1</td>\n",
       "      <td>(b004rxkwi6, b0089syu9c)</td>\n",
       "      <td>0.972263</td>\n",
       "    </tr>\n",
       "  </tbody>\n",
       "</table>\n",
       "</div>"
      ],
      "text/plain": [
       "     product1    product2  edge                  products     score\n",
       "0  b0002xhbys  b000mx5xpm     1  (b0002xhbys, b000mx5xpm)  0.865089\n",
       "1  b000hdjt4s  b00glzuxnc     1  (b000hdjt4s, b00glzuxnc)  0.815903\n",
       "2  b0026k9l3o  b00855b5qa     1  (b0026k9l3o, b00855b5qa)  0.981518\n",
       "3  b00009wc1t  b003fxkxk6     1  (b00009wc1t, b003fxkxk6)  0.801566\n",
       "4  b004rxkwi6  b0089syu9c     1  (b004rxkwi6, b0089syu9c)  0.972263"
      ]
     },
     "execution_count": 21,
     "metadata": {},
     "output_type": "execute_result"
    }
   ],
   "source": [
    "val.head()"
   ]
  },
  {
   "cell_type": "code",
   "execution_count": 22,
   "metadata": {},
   "outputs": [
    {
     "data": {
      "text/html": [
       "<div>\n",
       "<style scoped>\n",
       "    .dataframe tbody tr th:only-of-type {\n",
       "        vertical-align: middle;\n",
       "    }\n",
       "\n",
       "    .dataframe tbody tr th {\n",
       "        vertical-align: top;\n",
       "    }\n",
       "\n",
       "    .dataframe thead th {\n",
       "        text-align: right;\n",
       "    }\n",
       "</style>\n",
       "<table border=\"1\" class=\"dataframe\">\n",
       "  <thead>\n",
       "    <tr style=\"text-align: right;\">\n",
       "      <th></th>\n",
       "      <th>product1</th>\n",
       "      <th>product2</th>\n",
       "      <th>edge</th>\n",
       "      <th>products</th>\n",
       "      <th>score</th>\n",
       "    </tr>\n",
       "  </thead>\n",
       "  <tbody>\n",
       "    <tr>\n",
       "      <th>2643467</th>\n",
       "      <td>b00bwylgzq</td>\n",
       "      <td>b004i43mk4</td>\n",
       "      <td>0</td>\n",
       "      <td>(b00bwylgzq, b004i43mk4)</td>\n",
       "      <td>-1.000000</td>\n",
       "    </tr>\n",
       "    <tr>\n",
       "      <th>2643468</th>\n",
       "      <td>b000v1pavw</td>\n",
       "      <td>b008hs1ypw</td>\n",
       "      <td>0</td>\n",
       "      <td>(b000v1pavw, b008hs1ypw)</td>\n",
       "      <td>-0.008883</td>\n",
       "    </tr>\n",
       "    <tr>\n",
       "      <th>2643469</th>\n",
       "      <td>b006ifv0ku</td>\n",
       "      <td>b005ede8u6</td>\n",
       "      <td>0</td>\n",
       "      <td>(b006ifv0ku, b005ede8u6)</td>\n",
       "      <td>-1.000000</td>\n",
       "    </tr>\n",
       "    <tr>\n",
       "      <th>2643470</th>\n",
       "      <td>b007wo2yj2</td>\n",
       "      <td>b00dvthjmo</td>\n",
       "      <td>0</td>\n",
       "      <td>(b007wo2yj2, b00dvthjmo)</td>\n",
       "      <td>0.427947</td>\n",
       "    </tr>\n",
       "    <tr>\n",
       "      <th>2643471</th>\n",
       "      <td>b003v3c5z6</td>\n",
       "      <td>b00c68mzxe</td>\n",
       "      <td>0</td>\n",
       "      <td>(b003v3c5z6, b00c68mzxe)</td>\n",
       "      <td>0.827514</td>\n",
       "    </tr>\n",
       "  </tbody>\n",
       "</table>\n",
       "</div>"
      ],
      "text/plain": [
       "           product1    product2  edge                  products     score\n",
       "2643467  b00bwylgzq  b004i43mk4     0  (b00bwylgzq, b004i43mk4) -1.000000\n",
       "2643468  b000v1pavw  b008hs1ypw     0  (b000v1pavw, b008hs1ypw) -0.008883\n",
       "2643469  b006ifv0ku  b005ede8u6     0  (b006ifv0ku, b005ede8u6) -1.000000\n",
       "2643470  b007wo2yj2  b00dvthjmo     0  (b007wo2yj2, b00dvthjmo)  0.427947\n",
       "2643471  b003v3c5z6  b00c68mzxe     0  (b003v3c5z6, b00c68mzxe)  0.827514"
      ]
     },
     "execution_count": 22,
     "metadata": {},
     "output_type": "execute_result"
    }
   ],
   "source": [
    "val.tail()"
   ]
  },
  {
   "cell_type": "code",
   "execution_count": 23,
   "metadata": {},
   "outputs": [],
   "source": [
    "# Set score of unseen item pairs to median score of seen item pairs\n",
    "val_seen = val[val['score'] != -1]\n",
    "median_score = np.median(val_seen['score'])\n",
    "val['score'] = np.where(val['score'] == -1, median_score, val['score'])"
   ]
  },
  {
   "cell_type": "markdown",
   "metadata": {},
   "source": [
    "### Evaluate results"
   ]
  },
  {
   "cell_type": "code",
   "execution_count": 24,
   "metadata": {},
   "outputs": [
    {
     "name": "stderr",
     "output_type": "stream",
     "text": [
      "2019-12-05 14:24:53,444 - AUC-ROC: 0.9082740832690214\n"
     ]
    }
   ],
   "source": [
    "roc_score = roc_auc_score(val['edge'], val['score'])\n",
    "logger.info('AUC-ROC: {}'.format(roc_score))"
   ]
  },
  {
   "cell_type": "code",
   "execution_count": 25,
   "metadata": {},
   "outputs": [
    {
     "name": "stderr",
     "output_type": "stream",
     "text": [
      "2019-12-05 14:24:54,082 - AUC-ROC: 0.9736799488730573\n"
     ]
    }
   ],
   "source": [
    "roc_score_seen = roc_auc_score(val_seen['edge'], val_seen['score'])\n",
    "logger.info('AUC-ROC: {}'.format(roc_score_seen))"
   ]
  },
  {
   "cell_type": "code",
   "execution_count": 26,
   "metadata": {},
   "outputs": [
    {
     "data": {
      "text/plain": [
       "Text(0.5, 1.0, 'Gensim Word2Vec - AUC-ROC: 0.9083')"
      ]
     },
     "execution_count": 26,
     "metadata": {},
     "output_type": "execute_result"
    },
    {
     "name": "stderr",
     "output_type": "stream",
     "text": [
      "/Users/eugeneyan/recsys/venv/lib/python3.7/site-packages/IPython/core/events.py:88: UserWarning: Creating legend with loc=\"best\" can be slow with large amounts of data.\n",
      "  func(*args, **kwargs)\n",
      "/Users/eugeneyan/recsys/venv/lib/python3.7/site-packages/IPython/core/pylabtools.py:128: UserWarning: Creating legend with loc=\"best\" can be slow with large amounts of data.\n",
      "  fig.canvas.print_figure(bytes_io, **kw)\n"
     ]
    },
    {
     "data": {
      "image/png": "[encoded data removed]",
      "text/plain": [
       "<Figure size 1080x360 with 1 Axes>"
      ]
     },
     "metadata": {
      "needs_background": "light"
     },
     "output_type": "display_data"
    }
   ],
   "source": [
    "precision, recall, thresholds = precision_recall_curve(val['edge'], val['score'])\n",
    "plt.figure(figsize=(15, 5))\n",
    "plt.grid()\n",
    "plt.plot(thresholds, precision[1:], color='r', label='Precision')\n",
    "plt.plot(thresholds, recall[1:], color='b', label='Recall')\n",
    "plt.gca().invert_xaxis()\n",
    "plt.legend()\n",
    "plt.title('Gensim Word2Vec - AUC-ROC: {:.4f}'.format(roc_score))"
   ]
  },
  {
   "cell_type": "code",
   "execution_count": 27,
   "metadata": {},
   "outputs": [
    {
     "data": {
      "text/plain": [
       "Text(0.5, 1.0, 'Gensim Word2Vec (seen items only) - AUC-ROC: 0.9737')"
      ]
     },
     "execution_count": 27,
     "metadata": {},
     "output_type": "execute_result"
    },
    {
     "data": {
      "image/png": "[encoded data removed]",
      "text/plain": [
       "<Figure size 1080x360 with 1 Axes>"
      ]
     },
     "metadata": {
      "needs_background": "light"
     },
     "output_type": "display_data"
    }
   ],
   "source": [
    "precision, recall, thresholds = precision_recall_curve(val_seen['edge'], val_seen['score'])\n",
    "plt.figure(figsize=(15, 5))\n",
    "plt.grid()\n",
    "plt.plot(thresholds, precision[1:], color='r', label='Precision')\n",
    "plt.plot(thresholds, recall[1:], color='b', label='Recall')\n",
    "plt.gca().invert_xaxis()\n",
    "plt.legend()\n",
    "plt.xlabel('Cosine Similiarity threshold')\n",
    "plt.ylabel('Precision / Recall')\n",
    "plt.title('Gensim Word2Vec (seen items only) - AUC-ROC: {:.4f}'.format(roc_score_seen))"
   ]
  },
  {
   "cell_type": "code",
   "execution_count": 28,
   "metadata": {},
   "outputs": [
    {
     "data": {
      "text/plain": [
       "Text(0.5, 1.0, 'ROC curve')"
      ]
     },
     "execution_count": 28,
     "metadata": {},
     "output_type": "execute_result"
    },
    {
     "data": {
      "image/png": "[encoded data removed]",
      "text/plain": [
       "<Figure size 504x504 with 1 Axes>"
      ]
     },
     "metadata": {
      "needs_background": "light"
     },
     "output_type": "display_data"
    }
   ],
   "source": [
    "fpr, tpr, roc_thresholds = roc_curve(val['edge'], val['score'])\n",
    "plt.figure(figsize=(7, 7))\n",
    "plt.grid()\n",
    "plt.plot(fpr, tpr, color='b')\n",
    "plt.title('ROC curve')"
   ]
  },
  {
   "cell_type": "code",
   "execution_count": 29,
   "metadata": {},
   "outputs": [
    {
     "data": {
      "text/plain": [
       "Text(0.5, 1.0, 'Precision-Recall Trade-off')"
      ]
     },
     "execution_count": 29,
     "metadata": {},
     "output_type": "execute_result"
    },
    {
     "data": {
      "image/png": "[encoded data removed]",
      "text/plain": [
       "<Figure size 504x504 with 1 Axes>"
      ]
     },
     "metadata": {
      "needs_background": "light"
     },
     "output_type": "display_data"
    }
   ],
   "source": [
    "plt.figure(figsize=(7, 7))\n",
    "plt.grid()\n",
    "plt.step(recall, precision, color='b', label='Precision-Recall Trade-off')\n",
    "plt.fill_between(recall, precision, alpha=0.1, color='b')\n",
    "\n",
    "plt.xlabel('Recall')\n",
    "plt.ylabel('Precision')\n",
    "plt.title('Precision-Recall Trade-off')"
   ]
  },
  {
   "cell_type": "code",
   "execution_count": null,
   "metadata": {},
   "outputs": [],
   "source": []
  }
 ],
 "metadata": {
  "kernelspec": {
   "display_name": "recsys",
   "language": "python",
   "name": "recsys"
  },
  "language_info": {
   "codemirror_mode": {
    "name": "ipython",
    "version": 3
   },
   "file_extension": ".py",
   "mimetype": "text/x-python",
   "name": "python",
   "nbconvert_exporter": "python",
   "pygments_lexer": "ipython3",
   "version": "3.7.2"
  }
 },
 "nbformat": 4,
 "nbformat_minor": 2
}
