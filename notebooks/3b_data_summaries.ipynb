{
 "cells": [
  {
   "cell_type": "code",
   "execution_count": 4,
   "metadata": {},
   "outputs": [],
   "source": [
    "import os\n",
    "import sys\n",
    "\n",
    "sys.path.append(os.path.dirname(os.getcwd()))"
   ]
  },
  {
   "cell_type": "code",
   "execution_count": 5,
   "metadata": {},
   "outputs": [],
   "source": [
    "import pandas as pd\n",
    "\n",
    "from src.utils.logger import logger"
   ]
  },
  {
   "cell_type": "markdown",
   "metadata": {},
   "source": [
    "### Import data"
   ]
  },
  {
   "cell_type": "code",
   "execution_count": 2,
   "metadata": {},
   "outputs": [],
   "source": [
    "elec = pd.read_csv('../results/electronics_edges.csv')"
   ]
  },
  {
   "cell_type": "code",
   "execution_count": 3,
   "metadata": {},
   "outputs": [],
   "source": [
    "book = pd.read_csv('../results/books_edges.csv')"
   ]
  },
  {
   "cell_type": "markdown",
   "metadata": {},
   "source": [
    "### Get nodes, edges, sparsity"
   ]
  },
  {
   "cell_type": "code",
   "execution_count": 19,
   "metadata": {},
   "outputs": [
    {
     "name": "stderr",
     "output_type": "stream",
     "text": [
      "2019-12-18 10:57:37,436 - Electronics - Nodes: 418,749, Edges: 4,005,262, Sparsity: 0.9999771585660682\n"
     ]
    }
   ],
   "source": [
    "elec_nodes = set(elec['product1'].to_list() + elec['product2'].to_list())\n",
    "logger.info('Electronics - Nodes: {:,}, Edges: {:,}, Sparsity: {:}'.format(len(elec_nodes), len(elec), \n",
    "                                                                      1-(len(elec)/(len(elec_nodes)**2))))"
   ]
  },
  {
   "cell_type": "code",
   "execution_count": 20,
   "metadata": {},
   "outputs": [
    {
     "name": "stderr",
     "output_type": "stream",
     "text": [
      "2019-12-18 10:58:10,311 - Books - Nodes: 1,948,370, Edges: 26,596,848, Sparsity: 0.9999929937230012\n"
     ]
    }
   ],
   "source": [
    "book_nodes = set(book['product1'].to_list() + book['product2'].to_list())\n",
    "logger.info('Books - Nodes: {:,}, Edges: {:,}, Sparsity: {:}'.format(len(book_nodes), len(book), \n",
    "                                                                      1-(len(book)/(len(book_nodes)**2))))"
   ]
  },
  {
   "cell_type": "code",
   "execution_count": null,
   "metadata": {},
   "outputs": [],
   "source": []
  }
 ],
 "metadata": {
  "kernelspec": {
   "display_name": "recsys",
   "language": "python",
   "name": "recsys"
  },
  "language_info": {
   "codemirror_mode": {
    "name": "ipython",
    "version": 3
   },
   "file_extension": ".py",
   "mimetype": "text/x-python",
   "name": "python",
   "nbconvert_exporter": "python",
   "pygments_lexer": "ipython3",
   "version": "3.7.2"
  }
 },
 "nbformat": 4,
 "nbformat_minor": 2
}
