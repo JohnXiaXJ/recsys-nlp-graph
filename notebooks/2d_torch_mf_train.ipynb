{
 "cells": [
  {
   "cell_type": "code",
   "execution_count": 1,
   "metadata": {},
   "outputs": [],
   "source": [
    "%load_ext autoreload\n",
    "%autoreload 2"
   ]
  },
  {
   "cell_type": "code",
   "execution_count": 2,
   "metadata": {},
   "outputs": [],
   "source": [
    "import sys\n",
    "import os\n",
    "\n",
    "sys.path.append(os.path.dirname(os.getcwd()))"
   ]
  },
  {
   "cell_type": "code",
   "execution_count": 209,
   "metadata": {},
   "outputs": [],
   "source": [
    "from torch.utils.data import DataLoader\n",
    "import torch.optim as optim\n",
    "import torch\n",
    "import torch.nn.functional as F\n",
    "\n",
    "import numpy as np\n",
    "import pandas as pd\n",
    "\n",
    "from src.ml.data_loader import Sequences, SequencesDataset\n",
    "from src.ml.skipgram import SkipGram\n",
    "from src.ml.mf import MF\n",
    "from src.utils.logger import logger\n",
    "from src.utils.io_utils import load_model\n",
    "from sklearn.metrics import roc_auc_score"
   ]
  },
  {
   "cell_type": "code",
   "execution_count": 24,
   "metadata": {},
   "outputs": [],
   "source": [
    "batchsize = 2\n",
    "shuffle = False\n",
    "num_workers = 4\n",
    "emb_dim = 8\n",
    "epochs = 1\n",
    "initial_lr=0.025\n",
    "MODEL_PATH = '../model'"
   ]
  },
  {
   "cell_type": "code",
   "execution_count": 25,
   "metadata": {},
   "outputs": [],
   "source": [
    "dataset = 'electronics'"
   ]
  },
  {
   "cell_type": "code",
   "execution_count": 26,
   "metadata": {},
   "outputs": [
    {
     "name": "stderr",
     "output_type": "stream",
     "text": [
      "2019-12-10 12:41:56,623 - Sequences loaded (length = 5,000)\n",
      "2019-12-10 12:41:56,701 - Validation set loaded: (100000, 3)\n",
      "2019-12-10 12:41:56,712 - Word frequency calculated\n",
      "2019-12-10 12:41:56,748 - Adding val products to word2id, original size: 28695\n",
      "2019-12-10 12:41:56,814 - Added val products to word2id, updated size: 133050\n",
      "2019-12-10 12:41:56,819 - No. of unique tokens: 133050\n",
      "2019-12-10 12:41:58,026 - Model saved to model/word2id\n",
      "2019-12-10 12:41:59,266 - Model saved to model/id2word\n",
      "2019-12-10 12:41:59,267 - Word2Id and Id2Word created and saved\n",
      "2019-12-10 12:41:59,294 - Convert sequence and wordfreq to ID\n",
      "2019-12-10 12:41:59,428 - Discard probability calculated\n",
      "2019-12-10 12:42:00,998 - Negative sample table created\n"
     ]
    }
   ],
   "source": [
    "sequences = Sequences('../data/{}_sequences_samp.npy'.format(dataset),\n",
    "                      '../data/{}_edges_val_samp.csv'.format(dataset))"
   ]
  },
  {
   "cell_type": "code",
   "execution_count": 27,
   "metadata": {},
   "outputs": [],
   "source": [
    "sequences_dset = SequencesDataset(sequences)"
   ]
  },
  {
   "cell_type": "code",
   "execution_count": 193,
   "metadata": {},
   "outputs": [],
   "source": [
    "sequences_dload = DataLoader(sequences_dset, batch_size=batchsize, shuffle=shuffle, num_workers=num_workers, collate_fn=sequences_dset.collate_for_mf)"
   ]
  },
  {
   "cell_type": "code",
   "execution_count": 194,
   "metadata": {},
   "outputs": [],
   "source": [
    "device = 'cpu'"
   ]
  },
  {
   "cell_type": "code",
   "execution_count": 195,
   "metadata": {},
   "outputs": [],
   "source": [
    "skipgram = SkipGram(sequences.n_unique_tokens, emb_dim).to(device)"
   ]
  },
  {
   "cell_type": "code",
   "execution_count": 196,
   "metadata": {},
   "outputs": [],
   "source": [
    "mf = MF(sequences.n_unique_tokens, emb_dim).to(device)"
   ]
  },
  {
   "cell_type": "code",
   "execution_count": 197,
   "metadata": {},
   "outputs": [
    {
     "data": {
      "text/plain": [
       "MF(\n",
       "  (embedding): Embedding(133050, 8, sparse=True)\n",
       "  (sig): Sigmoid()\n",
       "  (bce): BCELoss()\n",
       ")"
      ]
     },
     "execution_count": 197,
     "metadata": {},
     "output_type": "execute_result"
    }
   ],
   "source": [
    "mf"
   ]
  },
  {
   "cell_type": "code",
   "execution_count": 211,
   "metadata": {},
   "outputs": [],
   "source": [
    "val_samp = pd.read_csv('../data/{}_edges_val_samp.csv'.format(dataset), dtype={'product1': 'object', 'product2': 'object'})"
   ]
  },
  {
   "cell_type": "code",
   "execution_count": 212,
   "metadata": {},
   "outputs": [
    {
     "data": {
      "text/html": [
       "<div>\n",
       "<style scoped>\n",
       "    .dataframe tbody tr th:only-of-type {\n",
       "        vertical-align: middle;\n",
       "    }\n",
       "\n",
       "    .dataframe tbody tr th {\n",
       "        vertical-align: top;\n",
       "    }\n",
       "\n",
       "    .dataframe thead th {\n",
       "        text-align: right;\n",
       "    }\n",
       "</style>\n",
       "<table border=\"1\" class=\"dataframe\">\n",
       "  <thead>\n",
       "    <tr style=\"text-align: right;\">\n",
       "      <th></th>\n",
       "      <th>product1</th>\n",
       "      <th>product2</th>\n",
       "      <th>edge</th>\n",
       "    </tr>\n",
       "  </thead>\n",
       "  <tbody>\n",
       "    <tr>\n",
       "      <th>0</th>\n",
       "      <td>b002goovnk</td>\n",
       "      <td>b008mrzsh8</td>\n",
       "      <td>1</td>\n",
       "    </tr>\n",
       "    <tr>\n",
       "      <th>1</th>\n",
       "      <td>b00aodd3js</td>\n",
       "      <td>b00f0rrcqi</td>\n",
       "      <td>1</td>\n",
       "    </tr>\n",
       "    <tr>\n",
       "      <th>2</th>\n",
       "      <td>b005abj0h8</td>\n",
       "      <td>b00dzrguao</td>\n",
       "      <td>1</td>\n",
       "    </tr>\n",
       "    <tr>\n",
       "      <th>3</th>\n",
       "      <td>b0002exjra</td>\n",
       "      <td>b000067rrx</td>\n",
       "      <td>0</td>\n",
       "    </tr>\n",
       "    <tr>\n",
       "      <th>4</th>\n",
       "      <td>b00dziz6qc</td>\n",
       "      <td>b008mogskm</td>\n",
       "      <td>0</td>\n",
       "    </tr>\n",
       "  </tbody>\n",
       "</table>\n",
       "</div>"
      ],
      "text/plain": [
       "     product1    product2  edge\n",
       "0  b002goovnk  b008mrzsh8     1\n",
       "1  b00aodd3js  b00f0rrcqi     1\n",
       "2  b005abj0h8  b00dzrguao     1\n",
       "3  b0002exjra  b000067rrx     0\n",
       "4  b00dziz6qc  b008mogskm     0"
      ]
     },
     "execution_count": 212,
     "metadata": {},
     "output_type": "execute_result"
    }
   ],
   "source": [
    "val_samp.head()"
   ]
  },
  {
   "cell_type": "code",
   "execution_count": 213,
   "metadata": {},
   "outputs": [
    {
     "name": "stderr",
     "output_type": "stream",
     "text": [
      "2019-12-10 16:02:09,785 - Model loaded from: ../model/word2id (Size: 16818322 bytes)\n"
     ]
    }
   ],
   "source": [
    "word2id = load_model('../model/word2id')"
   ]
  },
  {
   "cell_type": "code",
   "execution_count": 214,
   "metadata": {},
   "outputs": [],
   "source": [
    "word2id_func =  np.vectorize(sequences.get_product_id)"
   ]
  },
  {
   "cell_type": "code",
   "execution_count": 215,
   "metadata": {},
   "outputs": [],
   "source": [
    "val_samp['product1_id'] = word2id_func(val_samp['product1'].values)\n",
    "val_samp['product2_id'] = word2id_func(val_samp['product2'].values)"
   ]
  },
  {
   "cell_type": "code",
   "execution_count": 221,
   "metadata": {},
   "outputs": [
    {
     "name": "stderr",
     "output_type": "stream",
     "text": [
      "2019-12-10 16:05:29,330 - Epoch: 0, Seq: 0/2,500, Loss: 106469.9125, AUC-ROC: 0.5019, Lr: 0.025000\n",
      "2019-12-10 16:05:45,865 - Epoch: 0, Seq: 1,000/2,500, Loss: 0.6931, AUC-ROC: 0.5000, Lr: 0.016348\n",
      "2019-12-10 16:06:16,528 - Epoch: 0, Seq: 2,000/2,500, Loss: 0.6931, AUC-ROC: 0.5000, Lr: 0.002378\n"
     ]
    }
   ],
   "source": [
    "optimizer = optim.Adam(mf.parameters(), lr=initial_lr)\n",
    "\n",
    "for epoch in range(epochs):\n",
    "    scheduler = optim.lr_scheduler.CosineAnnealingLR(optimizer, len(sequences_dload))\n",
    "    \n",
    "    running_loss = 0\n",
    "    for i, batches in enumerate(sequences_dload):\n",
    "\n",
    "        product1 = batches[0].to(device)\n",
    "        product2 = batches[1].to(device)\n",
    "        label = batches[2].to(device)\n",
    "\n",
    "        optimizer.zero_grad()\n",
    "        \n",
    "        pred = mf.forward(product1, product2)\n",
    "        loss = mf.loss(pred, label)\n",
    "        loss.backward()\n",
    "        \n",
    "        optimizer.step()\n",
    "\n",
    "        scheduler.step()\n",
    "        running_loss = running_loss * 0.9 + loss.item() * 0.1\n",
    "\n",
    "        if i % 1000 == 0:\n",
    "            pred = mf.forward(torch.LongTensor(val_samp['product1_id']), torch.LongTensor(val_samp['product2_id']))\n",
    "            score = roc_auc_score(val_samp['edge'], pred.detach().cpu().numpy())\n",
    "            logger.info(\"Epoch: {}, Seq: {:,}/{:,}, \" \\\n",
    "                            \"Loss: {:.4f}, AUC-ROC: {:.4f}, Lr: {:.6f}\".format(epoch, i, len(sequences_dload), running_loss,\n",
    "                                                                               score, optimizer.param_groups[0]['lr']))\n",
    "            running_loss = 0\n",
    "\n",
    "    # skipgram.save_embeddings(file_name='{}/skipgram_epoch_{}.npy'.format(MODEL_PATH, epoch))"
   ]
  },
  {
   "cell_type": "markdown",
   "metadata": {},
   "source": [
    "### Batch validation"
   ]
  },
  {
   "cell_type": "code",
   "execution_count": 224,
   "metadata": {},
   "outputs": [],
   "source": [
    "val_samp = pd.read_csv('../data/{}_edges_val_samp.csv'.format(dataset), dtype={'product1': 'object', 'product2': 'object'})"
   ]
  },
  {
   "cell_type": "code",
   "execution_count": 203,
   "metadata": {},
   "outputs": [
    {
     "name": "stderr",
     "output_type": "stream",
     "text": [
      "2019-12-10 15:59:07,099 - Model loaded from: ../model/word2id (Size: 16818322 bytes)\n"
     ]
    }
   ],
   "source": [
    "word2id = load_model('../model/word2id')"
   ]
  },
  {
   "cell_type": "code",
   "execution_count": 204,
   "metadata": {},
   "outputs": [],
   "source": [
    "word2id_func =  np.vectorize(sequences.get_product_id)"
   ]
  },
  {
   "cell_type": "code",
   "execution_count": 205,
   "metadata": {},
   "outputs": [],
   "source": [
    "val_samp['product1_id'] = word2id_func(val_samp['product1'].values)\n",
    "val_samp['product2_id'] = word2id_func(val_samp['product2'].values)"
   ]
  },
  {
   "cell_type": "code",
   "execution_count": 206,
   "metadata": {},
   "outputs": [
    {
     "data": {
      "text/html": [
       "<div>\n",
       "<style scoped>\n",
       "    .dataframe tbody tr th:only-of-type {\n",
       "        vertical-align: middle;\n",
       "    }\n",
       "\n",
       "    .dataframe tbody tr th {\n",
       "        vertical-align: top;\n",
       "    }\n",
       "\n",
       "    .dataframe thead th {\n",
       "        text-align: right;\n",
       "    }\n",
       "</style>\n",
       "<table border=\"1\" class=\"dataframe\">\n",
       "  <thead>\n",
       "    <tr style=\"text-align: right;\">\n",
       "      <th></th>\n",
       "      <th>product1</th>\n",
       "      <th>product2</th>\n",
       "      <th>edge</th>\n",
       "      <th>product1_id</th>\n",
       "      <th>product2_id</th>\n",
       "    </tr>\n",
       "  </thead>\n",
       "  <tbody>\n",
       "    <tr>\n",
       "      <th>0</th>\n",
       "      <td>b002goovnk</td>\n",
       "      <td>b008mrzsh8</td>\n",
       "      <td>1</td>\n",
       "      <td>72788</td>\n",
       "      <td>3481</td>\n",
       "    </tr>\n",
       "    <tr>\n",
       "      <th>1</th>\n",
       "      <td>b00aodd3js</td>\n",
       "      <td>b00f0rrcqi</td>\n",
       "      <td>1</td>\n",
       "      <td>90036</td>\n",
       "      <td>11692</td>\n",
       "    </tr>\n",
       "    <tr>\n",
       "      <th>2</th>\n",
       "      <td>b005abj0h8</td>\n",
       "      <td>b00dzrguao</td>\n",
       "      <td>1</td>\n",
       "      <td>90178</td>\n",
       "      <td>40224</td>\n",
       "    </tr>\n",
       "    <tr>\n",
       "      <th>3</th>\n",
       "      <td>b0002exjra</td>\n",
       "      <td>b000067rrx</td>\n",
       "      <td>0</td>\n",
       "      <td>93919</td>\n",
       "      <td>80045</td>\n",
       "    </tr>\n",
       "    <tr>\n",
       "      <th>4</th>\n",
       "      <td>b00dziz6qc</td>\n",
       "      <td>b008mogskm</td>\n",
       "      <td>0</td>\n",
       "      <td>77350</td>\n",
       "      <td>9279</td>\n",
       "    </tr>\n",
       "  </tbody>\n",
       "</table>\n",
       "</div>"
      ],
      "text/plain": [
       "     product1    product2  edge  product1_id  product2_id\n",
       "0  b002goovnk  b008mrzsh8     1        72788         3481\n",
       "1  b00aodd3js  b00f0rrcqi     1        90036        11692\n",
       "2  b005abj0h8  b00dzrguao     1        90178        40224\n",
       "3  b0002exjra  b000067rrx     0        93919        80045\n",
       "4  b00dziz6qc  b008mogskm     0        77350         9279"
      ]
     },
     "execution_count": 206,
     "metadata": {},
     "output_type": "execute_result"
    }
   ],
   "source": [
    "val_samp.head()"
   ]
  },
  {
   "cell_type": "code",
   "execution_count": 207,
   "metadata": {},
   "outputs": [],
   "source": [
    "pred = mf.forward(torch.LongTensor(val_samp['product1_id']), torch.LongTensor(val_samp['product2_id']))"
   ]
  },
  {
   "cell_type": "code",
   "execution_count": 210,
   "metadata": {},
   "outputs": [
    {
     "data": {
      "text/plain": [
       "0.5018888801427521"
      ]
     },
     "execution_count": 210,
     "metadata": {},
     "output_type": "execute_result"
    }
   ],
   "source": [
    "roc_auc_score(val_samp['edge'], pred.detach().cpu().numpy())"
   ]
  },
  {
   "cell_type": "code",
   "execution_count": null,
   "metadata": {},
   "outputs": [],
   "source": []
  },
  {
   "cell_type": "code",
   "execution_count": null,
   "metadata": {},
   "outputs": [],
   "source": []
  },
  {
   "cell_type": "code",
   "execution_count": null,
   "metadata": {},
   "outputs": [],
   "source": []
  },
  {
   "cell_type": "code",
   "execution_count": 185,
   "metadata": {},
   "outputs": [
    {
     "data": {
      "text/plain": [
       "tensor([0, 0, 0, 0, 0, 1, 1, 0, 0, 0, 0, 0, 1, 0, 0, 1, 0, 1, 1, 1, 0, 0, 0, 0,\n",
       "        0, 0, 0, 1, 0, 1, 0, 0, 0, 0, 0, 0, 1, 0, 0, 0, 0, 1, 0, 0, 0, 1, 1, 0,\n",
       "        0, 1, 0, 1, 0, 0, 0, 0, 0, 0, 1, 1, 0, 0, 0, 0, 0, 0, 0, 0, 0, 0, 0, 0,\n",
       "        0, 0, 0, 1, 0, 0, 0, 0, 0, 0, 0, 0, 0, 0, 1, 0, 0, 0, 0, 1, 0, 1, 0, 0,\n",
       "        0, 0, 0, 1, 0, 0, 0, 1, 0, 0, 0, 1, 0, 0, 1, 0, 0, 0, 0, 1, 0, 1, 1, 0,\n",
       "        0, 1, 0, 1, 0, 0, 0, 1, 0, 0, 0, 0, 0, 0, 0, 0, 0, 0, 0, 0, 0, 1, 1, 1,\n",
       "        0, 0, 0, 0, 0, 0, 0, 1, 0, 0, 0, 0, 0, 0, 0, 0, 0, 0, 0, 0, 0, 0, 0, 0,\n",
       "        0, 1, 0, 1, 0, 0, 1, 0, 0, 1, 1, 1, 0, 0, 0, 0, 1, 0, 0, 0, 1, 0, 0, 0,\n",
       "        0, 0, 1, 0, 0, 0, 0, 0, 0, 0, 0, 1, 0, 0, 0, 1, 0, 0, 0, 0, 0, 0, 0, 0,\n",
       "        0, 0, 0, 1, 0, 0, 1, 0, 0, 0, 0, 0, 0, 0, 0, 0, 0, 0, 0, 0, 0, 0, 0, 0,\n",
       "        0, 0, 1, 0, 0, 0, 0, 0, 0, 1, 1, 0, 0, 1, 0, 0, 0, 0, 0, 0, 0, 1, 0, 0,\n",
       "        0, 0, 0, 0, 0, 0, 0, 0, 0, 0, 0, 0, 0, 0, 0, 0, 0, 1, 0, 0, 0, 0, 0, 0,\n",
       "        1, 0, 1, 0, 0, 0, 0, 1, 0, 0, 0, 0, 1, 0, 0, 0, 0, 0, 0, 0, 0, 0, 0, 0,\n",
       "        0, 1, 0, 0, 0, 0, 0, 0, 0, 0, 0, 0, 0, 1, 0, 0, 0, 0, 0, 0, 1, 0, 0, 0,\n",
       "        0, 0, 1, 0, 1, 0, 0, 0, 0, 0, 0, 1, 0, 0, 0, 1, 0, 0, 1, 0, 1, 0, 0, 0,\n",
       "        0, 1, 0, 0, 0, 0, 0, 0, 0, 0, 1, 0, 0, 0, 0, 0, 0, 0, 0, 0, 0, 0, 0, 1,\n",
       "        0, 0, 0, 1, 0, 0, 0, 0, 0, 0, 0, 0, 0, 0, 0, 0, 0, 0, 0, 0, 1, 0, 0, 0,\n",
       "        0, 0, 0, 0, 0, 0, 0, 0, 0, 0, 1, 1, 0, 0, 0, 0, 0, 0, 0, 1, 0, 0, 0, 0,\n",
       "        1, 0, 0, 0, 0, 0, 0, 0, 0, 0, 0, 0, 0, 1, 0, 0, 0, 0, 0, 1, 0, 0, 0, 0,\n",
       "        1, 0, 1, 0, 0, 0, 0, 0, 0, 0, 1, 1, 0, 0, 0, 1, 1, 0, 0, 0, 0, 1, 0, 0,\n",
       "        0, 0, 1, 0, 0, 0, 0, 0, 0, 0, 0, 0, 0, 0, 1, 0, 0, 0, 0, 0, 0, 0, 1, 0,\n",
       "        0, 0, 0, 0, 0, 0, 1, 0, 0, 1, 1, 0, 0, 1, 0, 0, 0, 0, 0, 0, 0, 0, 0, 0,\n",
       "        0, 0, 0, 0, 1, 0, 0, 0, 0, 0, 0, 0, 0, 0, 0, 1, 0, 0, 0, 0, 0, 0, 0, 0,\n",
       "        1, 1, 0, 1, 0, 0, 0, 0, 0, 0, 0, 0, 1, 0, 0, 0, 1, 1, 0, 0, 0, 0, 0, 0,\n",
       "        0, 0, 0, 0, 0, 0, 0, 0, 0, 0, 1, 0, 0, 0, 0, 0, 1, 0, 0, 1, 0, 0, 0, 0,\n",
       "        0, 0, 0, 0, 0, 0, 0, 0, 1, 0, 0, 0, 0, 0, 0, 0, 0, 0, 0, 0, 0, 0, 0, 0,\n",
       "        0, 0, 1, 0, 0, 0, 0, 0, 0, 1, 0, 0, 0, 0, 0, 1, 0, 0, 0, 0, 0, 0, 0, 0,\n",
       "        0, 0, 1, 0, 0, 0, 0, 0, 0, 0, 1, 0, 0, 0, 0, 0, 0, 0, 1, 0, 0, 0, 0, 0,\n",
       "        0, 0, 0, 0, 0, 0, 0, 1, 1, 0, 0, 0, 0, 0, 0, 0, 0, 0, 0, 0, 1, 0, 0, 0,\n",
       "        0, 0, 0, 1, 0, 1, 0, 0, 0, 0, 0, 0, 1, 0, 0, 1, 1, 0, 0, 0, 0, 0, 0, 0,\n",
       "        0, 0, 1, 0, 1, 0, 0, 0, 0, 0, 0, 0, 0, 0, 0, 0, 1, 0, 0, 0, 1, 0, 0, 0,\n",
       "        0, 0, 0, 0, 0, 0, 0, 0, 0, 1, 1, 1, 1, 1, 0, 0, 0, 0])"
      ]
     },
     "execution_count": 185,
     "metadata": {},
     "output_type": "execute_result"
    }
   ],
   "source": [
    "batches[2]"
   ]
  },
  {
   "cell_type": "code",
   "execution_count": 38,
   "metadata": {},
   "outputs": [],
   "source": [
    "batches = [([(0, 1), (0, 16), (0, 17), (0, 18), (0, 19), (1, 16), (1, 17), (1, 18), (1, 19), (1, 18), (16, 1), (16, 17), (16, 18), (16, 19), (16, 18), (16, 20), (17, 1), (17, 16), (17, 18), (17, 19), (17, 18), (17, 20), (17, 21), (18, 1), (18, 16), (18, 17), (18, 19), (18, 20), (18, 21), (18, 22), (19, 1), (19, 16), (19, 17), (19, 18), (19, 18), (19, 20), (19, 21), (19, 22), (18, 1), (18, 16), (18, 17), (18, 19), (18, 20), (18, 21), (18, 22), (20, 16), (20, 17), (20, 18), (20, 19), (20, 18), (20, 21), (20, 22), (21, 17), (21, 18), (21, 19), (21, 18), (21, 20), (21, 22), (22, 18), (22, 19), (22, 18), (22, 20), (22, 21)], [np.array([16893,  7785,  1742,  3798, 23385]), np.array([ 3775, 13900,  3872,  3314, 13042]), np.array([15290, 12362, 12592,  1421,  9167]), np.array([17752,  1635, 22254,  2127, 10099]), np.array([16791, 21850,  9243,  8241, 17682]), np.array([11652, 16975, 26739, 22641,  7904]), np.array([ 1612,  6095,  3986, 18929, 27609]), np.array([22895, 23120, 20906, 19153,  2648]), np.array([22959, 22241, 19072, 28654,   138]), np.array([ 7192, 18522, 19229, 15920,  7314]), np.array([ 2313,  9281,  5522, 12830, 14786]), np.array([ 5529,  1174, 17789, 20110, 27401]), np.array([28122,  3385, 25407, 11989,  9864]), np.array([6444,  414, 5932, 3441, 6810]), np.array([20004,  1668,  5752, 25278,  9297]), np.array([14186,  4043, 24543, 13235, 17296]), np.array([6175,  111, 4998, 2079,  238]), np.array([ 3597, 27751, 25005, 10147, 28054]), np.array([17293,  1585, 11230, 27460, 27039]), np.array([13029,   199,  4485,  2235,  8265]), np.array([21392, 27721,  4601, 22600,     9]), np.array([10200,  4131,  5318, 18598, 16372]), np.array([14561, 10355, 13711,  2684, 20142]), np.array([  777, 14639, 21038, 24919,  4635]), np.array([23424, 27497,  7179,  2471, 20765]), np.array([ 8526, 23348, 18940, 10454, 14109]), np.array([23184,  9857,  5525, 10003, 16701]), np.array([ 8733,  7452, 10675, 13453, 15555]), np.array([  774, 14581, 23812, 14576,  3984]), np.array([ 6261, 25444,  3617, 15542, 15717]), np.array([15875,  3421,  6203, 26751,   389]), np.array([  280, 28225, 23929, 27923, 27860]), np.array([23558,  4122,  3447, 14617, 25795]), np.array([ 9149,  3157,  8415, 25822, 17136]), np.array([ 7150, 24854,  6515, 19203, 23283]), np.array([ 7479, 11691, 17956, 22284,  5715]), np.array([ 7330, 19830,  2261, 27297, 21537]), np.array([21605, 12773,  1536,  1877,  1068]), np.array([18420,  6077,  5444,  5818,   897]), np.array([ 6359, 12901, 12520,  5703,  3937]), np.array([ 6239,  8637, 13871, 14774,   939]), np.array([ 6827, 16997, 16239, 21134,  2589]), np.array([25608, 19451,  5426,  1412, 24042]), np.array([20998, 18141,  5213,  4765, 24992]), np.array([15465,  4693,   371, 10942,  3446]), np.array([17343, 22611, 16544, 11952, 10357]), np.array([ 4547,  9092, 17559, 18945,  1979]), np.array([14907,  8946,  8648, 18913, 20928]), np.array([ 5546,  9787,  6691,  3264, 12164]), np.array([17332,   888, 23341, 11662, 14697]), np.array([  241,  7105, 24888, 18353, 14597]), np.array([15592,  3471,   541, 23159,  1669]), np.array([ 9130, 28691, 21231, 15956,  6746]), np.array([  158, 14910, 11006, 24289,  1517]), np.array([ 4452,    49,  1434, 15089, 16928]), np.array([19768,  3258,  7135,  5240,  1749]), np.array([15400, 19319,  5405, 26454, 12264]), np.array([11499,  5086, 12174,  4803, 21026]), np.array([27747,  4911, 15460,  7008, 27865]), np.array([17256, 28646, 26508, 27799, 28248]), np.array([ 5945,   989, 13577,  2579, 10126]), np.array([  68, 2742, 6218, 9758, 2247]), np.array([14467, 11643, 23159, 26576, 17651])]), ([(0, 1), (0, 16), (0, 23), (0, 24), (0, 23), (1, 16), (1, 23), (1, 24), (1, 23), (1, 25), (16, 1), (16, 23), (16, 24), (16, 23), (16, 25), (16, 26), (23, 1), (23, 16), (23, 24), (23, 25), (23, 26), (23, 27), (24, 1), (24, 16), (24, 23), (24, 23), (24, 25), (24, 26), (24, 27), (24, 28), (23, 1), (23, 16), (23, 24), (23, 25), (23, 26), (23, 27), (23, 28), (25, 1), (25, 16), (25, 23), (25, 24), (25, 23), (25, 26), (25, 27), (25, 28), (26, 16), (26, 23), (26, 24), (26, 23), (26, 25), (26, 27), (26, 28), (27, 23), (27, 24), (27, 23), (27, 25), (27, 26), (27, 28), (28, 24), (28, 23), (28, 25), (28, 26), (28, 27)], [np.array([20400,   970,  4250, 13923, 28597]), np.array([20048,  3179, 18533, 19246,  3971]), np.array([ 6275, 26076,   966, 10791,  8962]), np.array([12274, 16744, 13640, 18653,  9292]), np.array([  754,  2368, 28473, 15944, 22976]), np.array([16799,  2158, 15687, 16118,  2261]), np.array([23990, 10712,  3120,  8953,  4989]), np.array([ 3433,  1601, 28215, 14982, 20326]), np.array([16638, 11504,  4356,  4247, 24401]), np.array([21379,   393, 26218,   542,  6727]), np.array([18303,  7593, 14208,  2877, 21141]), np.array([ 7220, 24594, 11930, 21150,  5756]), np.array([26657,  2830,  5761, 21517, 15013]), np.array([  845, 24737, 13115, 21113, 25831]), np.array([14035, 17158, 22113, 23112, 13200]), np.array([  501, 16632,   591,  3468,  5522]), np.array([12959, 23938, 20876, 12079, 25779]), np.array([19149,  1180,  9755, 25829, 19825]), np.array([ 8932,  5294, 15734,  4512,  8922]), np.array([13674,  4828,  3538,     8, 16153]), np.array([ 9279,  2332, 15912, 24442,  8474]), np.array([17501, 15205, 15568,  4835, 11255]), np.array([23497,  9399, 13637,  6697, 25748]), np.array([19999,  1420,  5208, 10182,   332]), np.array([27225, 13230,  3451, 17584, 24224]), np.array([18011, 22918, 25743, 14421,  7435]), np.array([ 2514,  1846,  7416, 10360,  5519]), np.array([12061, 10859,  4051,  3433, 14152]), np.array([20166,  9170,  4608, 13782,  9689]), np.array([24938, 12359, 18216,  7570,  8796]), np.array([ 1915,  6583,  4771, 14670, 16621]), np.array([ 2303, 20438, 10681,   302,  8278]), np.array([ 9320, 11406, 11807, 11327,  6123]), np.array([11623,  5042,  3924, 20323, 17752]), np.array([ 6663, 25323, 22566,   141,  5780]), np.array([20076, 12709, 11799, 18652, 23727]), np.array([   43, 25682, 22516, 18343, 11646]), np.array([20802,   446, 20245, 21910,   186]), np.array([21136, 11007, 26414,  8794, 24822]), np.array([21233,  1508, 14825,  5486, 24611]), np.array([19355, 18504, 19249, 11488, 14912]), np.array([ 1758, 15663, 15676, 21604, 10347]), np.array([22088,  3385, 13451, 23311,  9401]), np.array([22806, 25739, 17213, 21627, 28443]), np.array([11616,  6961,  5648, 23501,  6033]), np.array([ 9667, 16374, 25502, 27107, 25958]), np.array([24013,  5626, 23093, 12309, 22489]), np.array([15940, 24295, 12386,  4288, 12599]), np.array([ 5751,  6100, 13004,  4713, 26381]), np.array([    1,  4951, 15927,   171,   999]), np.array([ 7311, 13371, 26837,  8715, 17216]), np.array([10037,   645,  3242, 24129, 28494]), np.array([ 3984,  5788, 13243,  1818,  4412]), np.array([ 9936,  6655,  9828, 20231,  7555]), np.array([ 4077,  4513, 20980,  2472, 16093]), np.array([22576, 26184,  5427, 13584,  2453]), np.array([21447, 23684, 23994, 22414,   449]), np.array([21850,  2937, 22665,  3041,  9162]), np.array([17043, 28343, 11243, 28353,  2445]), np.array([ 8596, 23371,  1244,  1202, 22093]), np.array([10528,  6678, 18762, 16641,    83]), np.array([18999,  6132, 15222,  6224, 15491]), np.array([ 5217, 20698, 18030, 11194, 22216])])]"
   ]
  },
  {
   "cell_type": "code",
   "execution_count": 42,
   "metadata": {},
   "outputs": [],
   "source": [
    "pairs_batch = [batch[0] for batch in batches]\n",
    "neg_contexts_batch = [batch[1] for batch in batches]"
   ]
  },
  {
   "cell_type": "code",
   "execution_count": 166,
   "metadata": {},
   "outputs": [],
   "source": [
    "batch_list = []\n",
    "\n",
    "for batch in batches:\n",
    "    pairs = np.array(batch[0])\n",
    "    negs = np.array(batch[1])\n",
    "    negs = np.vstack((pairs[:, 0].repeat(negs.shape[1]), negs.ravel())).T\n",
    "    \n",
    "    pairs_arr = np.ones((pairs.shape[0], pairs.shape[1] + 1), dtype=int)\n",
    "    pairs_arr[:, :-1] = pairs\n",
    "    \n",
    "    negs_arr = np.zeros((negs.shape[0], negs.shape[1] + 1), dtype=int)\n",
    "    negs_arr[:, :-1] = negs\n",
    "    \n",
    "    all_arr = np.vstack((pairs_arr, negs_arr))\n",
    "    batch_list.append(all_arr)"
   ]
  },
  {
   "cell_type": "code",
   "execution_count": 168,
   "metadata": {},
   "outputs": [],
   "source": [
    "batch_array = np.vstack(batch_list)"
   ]
  },
  {
   "cell_type": "code",
   "execution_count": 171,
   "metadata": {},
   "outputs": [],
   "source": [
    "np.random.shuffle(batch_array)"
   ]
  },
  {
   "cell_type": "code",
   "execution_count": 173,
   "metadata": {},
   "outputs": [
    {
     "data": {
      "text/plain": [
       "array([[   26,  8715,     0],\n",
       "       [    0, 16744,     0],\n",
       "       [   23,  3538,     0],\n",
       "       ...,\n",
       "       [   16,     1,     1],\n",
       "       [   16,    20,     1],\n",
       "       [    1, 27609,     0]])"
      ]
     },
     "execution_count": 173,
     "metadata": {},
     "output_type": "execute_result"
    }
   ],
   "source": [
    "batch_array"
   ]
  },
  {
   "cell_type": "code",
   "execution_count": 177,
   "metadata": {},
   "outputs": [
    {
     "data": {
      "text/plain": [
       "tensor([0, 0, 0, 0, 0, 0, 0, 0, 0, 0, 1, 0, 0, 0, 0, 0, 0, 0, 1, 0, 0, 0, 0, 0,\n",
       "        0, 0, 0, 1, 0, 0, 0, 0, 1, 0, 1, 0, 0, 1, 0, 0, 0, 1, 1, 1, 0, 0, 0, 0,\n",
       "        0, 0, 0, 0, 0, 0, 0, 0, 0, 0, 0, 0, 0, 0, 1, 0, 0, 0, 0, 1, 0, 0, 0, 0,\n",
       "        1, 0, 0, 0, 0, 1, 1, 1, 0, 1, 0, 0, 0, 1, 0, 0, 0, 0, 0, 1, 0, 0, 0, 0,\n",
       "        1, 0, 0, 0, 0, 0, 1, 0, 0, 1, 0, 0, 1, 0, 0, 0, 0, 0, 1, 1, 0, 0, 0, 0,\n",
       "        0, 0, 1, 0, 0, 0, 0, 0, 1, 0, 0, 0, 0, 0, 0, 0, 0, 0, 1, 1, 0, 0, 0, 0,\n",
       "        0, 0, 0, 0, 0, 1, 0, 0, 0, 0, 0, 0, 0, 0, 0, 0, 0, 0, 0, 0, 0, 0, 0, 0,\n",
       "        0, 0, 0, 0, 0, 0, 0, 1, 1, 0, 1, 0, 0, 1, 1, 0, 0, 0, 0, 0, 0, 0, 0, 0,\n",
       "        0, 1, 0, 0, 0, 0, 0, 0, 0, 0, 0, 0, 0, 0, 0, 0, 0, 0, 0, 0, 1, 0, 0, 0,\n",
       "        0, 0, 1, 0, 0, 0, 1, 0, 0, 0, 0, 0, 1, 1, 0, 0, 0, 0, 0, 1, 0, 0, 0, 0,\n",
       "        0, 0, 1, 0, 0, 0, 0, 0, 0, 0, 0, 0, 0, 0, 0, 0, 1, 0, 1, 0, 0, 0, 0, 0,\n",
       "        0, 0, 0, 1, 0, 1, 0, 0, 1, 0, 0, 0, 0, 0, 0, 0, 0, 0, 0, 0, 0, 0, 0, 1,\n",
       "        0, 0, 0, 0, 1, 1, 0, 0, 0, 0, 0, 0, 0, 0, 0, 0, 0, 0, 0, 0, 1, 0, 0, 0,\n",
       "        0, 0, 0, 0, 0, 1, 0, 0, 0, 1, 0, 0, 0, 0, 0, 0, 1, 1, 1, 0, 1, 0, 1, 1,\n",
       "        1, 0, 0, 0, 0, 1, 1, 0, 0, 0, 0, 0, 0, 0, 0, 0, 0, 0, 0, 0, 0, 1, 0, 0,\n",
       "        0, 0, 0, 0, 0, 0, 0, 0, 0, 0, 1, 0, 1, 0, 0, 0, 0, 0, 0, 0, 0, 1, 0, 0,\n",
       "        0, 0, 1, 0, 1, 0, 1, 0, 1, 0, 0, 0, 0, 1, 1, 0, 0, 0, 0, 1, 1, 0, 0, 0,\n",
       "        0, 0, 0, 0, 0, 0, 0, 0, 0, 0, 1, 0, 0, 0, 0, 0, 0, 0, 0, 1, 0, 0, 0, 0,\n",
       "        0, 0, 0, 0, 0, 0, 0, 1, 1, 0, 0, 0, 0, 0, 0, 0, 0, 0, 0, 0, 1, 0, 0, 1,\n",
       "        0, 0, 0, 1, 0, 0, 0, 0, 1, 0, 0, 0, 0, 0, 1, 0, 0, 0, 1, 0, 0, 1, 0, 0,\n",
       "        1, 0, 0, 0, 0, 0, 0, 0, 0, 0, 0, 0, 0, 0, 0, 0, 0, 0, 0, 0, 0, 0, 0, 1,\n",
       "        0, 0, 1, 0, 0, 0, 0, 0, 0, 1, 0, 0, 0, 0, 0, 0, 0, 0, 1, 0, 0, 0, 0, 0,\n",
       "        0, 0, 0, 0, 1, 0, 0, 0, 0, 0, 0, 0, 0, 0, 0, 0, 0, 0, 0, 1, 0, 0, 0, 0,\n",
       "        0, 0, 0, 0, 0, 0, 0, 0, 0, 0, 0, 0, 1, 1, 0, 0, 1, 0, 0, 0, 0, 0, 1, 0,\n",
       "        0, 0, 1, 0, 0, 0, 0, 0, 0, 0, 0, 0, 0, 0, 0, 0, 0, 0, 0, 0, 0, 0, 0, 0,\n",
       "        0, 0, 0, 0, 0, 0, 0, 0, 0, 0, 0, 0, 0, 0, 1, 0, 0, 0, 0, 0, 0, 0, 0, 1,\n",
       "        0, 0, 0, 0, 0, 0, 1, 0, 0, 0, 0, 0, 0, 0, 0, 0, 0, 0, 0, 0, 0, 0, 0, 0,\n",
       "        0, 0, 0, 1, 1, 0, 0, 0, 0, 0, 0, 0, 0, 0, 0, 0, 0, 0, 1, 0, 1, 0, 0, 0,\n",
       "        0, 0, 0, 0, 0, 1, 0, 0, 1, 0, 0, 0, 0, 1, 1, 0, 1, 0, 0, 1, 0, 0, 0, 1,\n",
       "        1, 0, 0, 1, 0, 0, 0, 0, 0, 0, 0, 0, 0, 0, 0, 0, 0, 0, 0, 1, 1, 1, 1, 1,\n",
       "        0, 1, 0, 0, 0, 0, 1, 0, 0, 0, 0, 0, 0, 0, 0, 0, 0, 0, 0, 0, 0, 1, 0, 0,\n",
       "        0, 0, 1, 0, 1, 0, 0, 0, 1, 1, 1, 0])"
      ]
     },
     "execution_count": 177,
     "metadata": {},
     "output_type": "execute_result"
    }
   ],
   "source": [
    "torch.LongTensor(batch_array[:, 2])"
   ]
  },
  {
   "cell_type": "code",
   "execution_count": null,
   "metadata": {},
   "outputs": [],
   "source": []
  },
  {
   "cell_type": "code",
   "execution_count": null,
   "metadata": {},
   "outputs": [],
   "source": []
  },
  {
   "cell_type": "code",
   "execution_count": null,
   "metadata": {},
   "outputs": [],
   "source": []
  },
  {
   "cell_type": "code",
   "execution_count": 120,
   "metadata": {},
   "outputs": [],
   "source": [
    "pairs = np.array(batches[0][0])"
   ]
  },
  {
   "cell_type": "code",
   "execution_count": 121,
   "metadata": {},
   "outputs": [],
   "source": [
    "negs = np.array(batches[0][1])\n",
    "negs = np.vstack((pairs[:, 0].repeat(negs.shape[1]), negs.ravel())).T"
   ]
  },
  {
   "cell_type": "code",
   "execution_count": 153,
   "metadata": {},
   "outputs": [],
   "source": [
    "pairs_arr = np.ones((pairs.shape[0], pairs.shape[1] + 1), dtype=int)\n",
    "pairs_arr[:, :-1] = pairs"
   ]
  },
  {
   "cell_type": "code",
   "execution_count": 154,
   "metadata": {},
   "outputs": [],
   "source": [
    "negs_arr = np.zeros((negs.shape[0], negs.shape[1] + 1), dtype=int)\n",
    "negs_arr[:, :-1] = negs"
   ]
  },
  {
   "cell_type": "code",
   "execution_count": 156,
   "metadata": {
    "collapsed": true
   },
   "outputs": [
    {
     "data": {
      "text/plain": [
       "array([[ 0,  1,  1],\n",
       "       [ 0, 16,  1],\n",
       "       [ 0, 17,  1],\n",
       "       [ 0, 18,  1],\n",
       "       [ 0, 19,  1],\n",
       "       [ 1, 16,  1],\n",
       "       [ 1, 17,  1],\n",
       "       [ 1, 18,  1],\n",
       "       [ 1, 19,  1],\n",
       "       [ 1, 18,  1],\n",
       "       [16,  1,  1],\n",
       "       [16, 17,  1],\n",
       "       [16, 18,  1],\n",
       "       [16, 19,  1],\n",
       "       [16, 18,  1],\n",
       "       [16, 20,  1],\n",
       "       [17,  1,  1],\n",
       "       [17, 16,  1],\n",
       "       [17, 18,  1],\n",
       "       [17, 19,  1],\n",
       "       [17, 18,  1],\n",
       "       [17, 20,  1],\n",
       "       [17, 21,  1],\n",
       "       [18,  1,  1],\n",
       "       [18, 16,  1],\n",
       "       [18, 17,  1],\n",
       "       [18, 19,  1],\n",
       "       [18, 20,  1],\n",
       "       [18, 21,  1],\n",
       "       [18, 22,  1],\n",
       "       [19,  1,  1],\n",
       "       [19, 16,  1],\n",
       "       [19, 17,  1],\n",
       "       [19, 18,  1],\n",
       "       [19, 18,  1],\n",
       "       [19, 20,  1],\n",
       "       [19, 21,  1],\n",
       "       [19, 22,  1],\n",
       "       [18,  1,  1],\n",
       "       [18, 16,  1],\n",
       "       [18, 17,  1],\n",
       "       [18, 19,  1],\n",
       "       [18, 20,  1],\n",
       "       [18, 21,  1],\n",
       "       [18, 22,  1],\n",
       "       [20, 16,  1],\n",
       "       [20, 17,  1],\n",
       "       [20, 18,  1],\n",
       "       [20, 19,  1],\n",
       "       [20, 18,  1],\n",
       "       [20, 21,  1],\n",
       "       [20, 22,  1],\n",
       "       [21, 17,  1],\n",
       "       [21, 18,  1],\n",
       "       [21, 19,  1],\n",
       "       [21, 18,  1],\n",
       "       [21, 20,  1],\n",
       "       [21, 22,  1],\n",
       "       [22, 18,  1],\n",
       "       [22, 19,  1],\n",
       "       [22, 18,  1],\n",
       "       [22, 20,  1],\n",
       "       [22, 21,  1]])"
      ]
     },
     "execution_count": 156,
     "metadata": {},
     "output_type": "execute_result"
    }
   ],
   "source": [
    "pairs_arr"
   ]
  },
  {
   "cell_type": "code",
   "execution_count": 158,
   "metadata": {},
   "outputs": [],
   "source": [
    "output = np.vstack((pairs_arr, negs_arr))"
   ]
  },
  {
   "cell_type": "code",
   "execution_count": 161,
   "metadata": {},
   "outputs": [
    {
     "data": {
      "text/plain": [
       "378"
      ]
     },
     "execution_count": 161,
     "metadata": {},
     "output_type": "execute_result"
    }
   ],
   "source": [
    "pairs_arr.shape[0] + negs_arr.shape[0]"
   ]
  },
  {
   "cell_type": "code",
   "execution_count": 163,
   "metadata": {},
   "outputs": [],
   "source": [
    "np.random.shuffle(output)"
   ]
  },
  {
   "cell_type": "code",
   "execution_count": null,
   "metadata": {},
   "outputs": [],
   "source": []
  },
  {
   "cell_type": "code",
   "execution_count": null,
   "metadata": {},
   "outputs": [],
   "source": []
  },
  {
   "cell_type": "code",
   "execution_count": 97,
   "metadata": {
    "collapsed": true
   },
   "outputs": [
    {
     "data": {
      "text/plain": [
       "array([[ 0,  1],\n",
       "       [ 0,  1],\n",
       "       [ 0,  1],\n",
       "       [ 0,  1],\n",
       "       [ 0,  1],\n",
       "       [ 1,  1],\n",
       "       [ 1,  1],\n",
       "       [ 1,  1],\n",
       "       [ 1,  1],\n",
       "       [ 1,  1],\n",
       "       [16,  1],\n",
       "       [16,  1],\n",
       "       [16,  1],\n",
       "       [16,  1],\n",
       "       [16,  1],\n",
       "       [16,  1],\n",
       "       [17,  1],\n",
       "       [17,  1],\n",
       "       [17,  1],\n",
       "       [17,  1],\n",
       "       [17,  1],\n",
       "       [17,  1],\n",
       "       [17,  1],\n",
       "       [18,  1],\n",
       "       [18,  1],\n",
       "       [18,  1],\n",
       "       [18,  1],\n",
       "       [18,  1],\n",
       "       [18,  1],\n",
       "       [18,  1],\n",
       "       [19,  1],\n",
       "       [19,  1],\n",
       "       [19,  1],\n",
       "       [19,  1],\n",
       "       [19,  1],\n",
       "       [19,  1],\n",
       "       [19,  1],\n",
       "       [19,  1],\n",
       "       [18,  1],\n",
       "       [18,  1],\n",
       "       [18,  1],\n",
       "       [18,  1],\n",
       "       [18,  1],\n",
       "       [18,  1],\n",
       "       [18,  1],\n",
       "       [20,  1],\n",
       "       [20,  1],\n",
       "       [20,  1],\n",
       "       [20,  1],\n",
       "       [20,  1],\n",
       "       [20,  1],\n",
       "       [20,  1],\n",
       "       [21,  1],\n",
       "       [21,  1],\n",
       "       [21,  1],\n",
       "       [21,  1],\n",
       "       [21,  1],\n",
       "       [21,  1],\n",
       "       [22,  1],\n",
       "       [22,  1],\n",
       "       [22,  1],\n",
       "       [22,  1],\n",
       "       [22,  1]])"
      ]
     },
     "execution_count": 97,
     "metadata": {},
     "output_type": "execute_result"
    }
   ],
   "source": [
    "pairs_arr"
   ]
  },
  {
   "cell_type": "code",
   "execution_count": 93,
   "metadata": {
    "collapsed": true
   },
   "outputs": [
    {
     "data": {
      "text/plain": [
       "array([[    0, 16893],\n",
       "       [    0,  7785],\n",
       "       [    0,  1742],\n",
       "       [    0,  3798],\n",
       "       [    0, 23385],\n",
       "       [    0,  3775],\n",
       "       [    0, 13900],\n",
       "       [    0,  3872],\n",
       "       [    0,  3314],\n",
       "       [    0, 13042],\n",
       "       [    0, 15290],\n",
       "       [    0, 12362],\n",
       "       [    0, 12592],\n",
       "       [    0,  1421],\n",
       "       [    0,  9167],\n",
       "       [    0, 17752],\n",
       "       [    0,  1635],\n",
       "       [    0, 22254],\n",
       "       [    0,  2127],\n",
       "       [    0, 10099],\n",
       "       [    0, 16791],\n",
       "       [    0, 21850],\n",
       "       [    0,  9243],\n",
       "       [    0,  8241],\n",
       "       [    0, 17682],\n",
       "       [    1, 11652],\n",
       "       [    1, 16975],\n",
       "       [    1, 26739],\n",
       "       [    1, 22641],\n",
       "       [    1,  7904],\n",
       "       [    1,  1612],\n",
       "       [    1,  6095],\n",
       "       [    1,  3986],\n",
       "       [    1, 18929],\n",
       "       [    1, 27609],\n",
       "       [    1, 22895],\n",
       "       [    1, 23120],\n",
       "       [    1, 20906],\n",
       "       [    1, 19153],\n",
       "       [    1,  2648],\n",
       "       [    1, 22959],\n",
       "       [    1, 22241],\n",
       "       [    1, 19072],\n",
       "       [    1, 28654],\n",
       "       [    1,   138],\n",
       "       [    1,  7192],\n",
       "       [    1, 18522],\n",
       "       [    1, 19229],\n",
       "       [    1, 15920],\n",
       "       [    1,  7314],\n",
       "       [   16,  2313],\n",
       "       [   16,  9281],\n",
       "       [   16,  5522],\n",
       "       [   16, 12830],\n",
       "       [   16, 14786],\n",
       "       [   16,  5529],\n",
       "       [   16,  1174],\n",
       "       [   16, 17789],\n",
       "       [   16, 20110],\n",
       "       [   16, 27401],\n",
       "       [   16, 28122],\n",
       "       [   16,  3385],\n",
       "       [   16, 25407],\n",
       "       [   16, 11989],\n",
       "       [   16,  9864],\n",
       "       [   16,  6444],\n",
       "       [   16,   414],\n",
       "       [   16,  5932],\n",
       "       [   16,  3441],\n",
       "       [   16,  6810],\n",
       "       [   16, 20004],\n",
       "       [   16,  1668],\n",
       "       [   16,  5752],\n",
       "       [   16, 25278],\n",
       "       [   16,  9297],\n",
       "       [   16, 14186],\n",
       "       [   16,  4043],\n",
       "       [   16, 24543],\n",
       "       [   16, 13235],\n",
       "       [   16, 17296],\n",
       "       [   17,  6175],\n",
       "       [   17,   111],\n",
       "       [   17,  4998],\n",
       "       [   17,  2079],\n",
       "       [   17,   238],\n",
       "       [   17,  3597],\n",
       "       [   17, 27751],\n",
       "       [   17, 25005],\n",
       "       [   17, 10147],\n",
       "       [   17, 28054],\n",
       "       [   17, 17293],\n",
       "       [   17,  1585],\n",
       "       [   17, 11230],\n",
       "       [   17, 27460],\n",
       "       [   17, 27039],\n",
       "       [   17, 13029],\n",
       "       [   17,   199],\n",
       "       [   17,  4485],\n",
       "       [   17,  2235],\n",
       "       [   17,  8265],\n",
       "       [   17, 21392],\n",
       "       [   17, 27721],\n",
       "       [   17,  4601],\n",
       "       [   17, 22600],\n",
       "       [   17,     9],\n",
       "       [   17, 10200],\n",
       "       [   17,  4131],\n",
       "       [   17,  5318],\n",
       "       [   17, 18598],\n",
       "       [   17, 16372],\n",
       "       [   17, 14561],\n",
       "       [   17, 10355],\n",
       "       [   17, 13711],\n",
       "       [   17,  2684],\n",
       "       [   17, 20142],\n",
       "       [   18,   777],\n",
       "       [   18, 14639],\n",
       "       [   18, 21038],\n",
       "       [   18, 24919],\n",
       "       [   18,  4635],\n",
       "       [   18, 23424],\n",
       "       [   18, 27497],\n",
       "       [   18,  7179],\n",
       "       [   18,  2471],\n",
       "       [   18, 20765],\n",
       "       [   18,  8526],\n",
       "       [   18, 23348],\n",
       "       [   18, 18940],\n",
       "       [   18, 10454],\n",
       "       [   18, 14109],\n",
       "       [   18, 23184],\n",
       "       [   18,  9857],\n",
       "       [   18,  5525],\n",
       "       [   18, 10003],\n",
       "       [   18, 16701],\n",
       "       [   18,  8733],\n",
       "       [   18,  7452],\n",
       "       [   18, 10675],\n",
       "       [   18, 13453],\n",
       "       [   18, 15555],\n",
       "       [   18,   774],\n",
       "       [   18, 14581],\n",
       "       [   18, 23812],\n",
       "       [   18, 14576],\n",
       "       [   18,  3984],\n",
       "       [   18,  6261],\n",
       "       [   18, 25444],\n",
       "       [   18,  3617],\n",
       "       [   18, 15542],\n",
       "       [   18, 15717],\n",
       "       [   19, 15875],\n",
       "       [   19,  3421],\n",
       "       [   19,  6203],\n",
       "       [   19, 26751],\n",
       "       [   19,   389],\n",
       "       [   19,   280],\n",
       "       [   19, 28225],\n",
       "       [   19, 23929],\n",
       "       [   19, 27923],\n",
       "       [   19, 27860],\n",
       "       [   19, 23558],\n",
       "       [   19,  4122],\n",
       "       [   19,  3447],\n",
       "       [   19, 14617],\n",
       "       [   19, 25795],\n",
       "       [   19,  9149],\n",
       "       [   19,  3157],\n",
       "       [   19,  8415],\n",
       "       [   19, 25822],\n",
       "       [   19, 17136],\n",
       "       [   19,  7150],\n",
       "       [   19, 24854],\n",
       "       [   19,  6515],\n",
       "       [   19, 19203],\n",
       "       [   19, 23283],\n",
       "       [   19,  7479],\n",
       "       [   19, 11691],\n",
       "       [   19, 17956],\n",
       "       [   19, 22284],\n",
       "       [   19,  5715],\n",
       "       [   19,  7330],\n",
       "       [   19, 19830],\n",
       "       [   19,  2261],\n",
       "       [   19, 27297],\n",
       "       [   19, 21537],\n",
       "       [   19, 21605],\n",
       "       [   19, 12773],\n",
       "       [   19,  1536],\n",
       "       [   19,  1877],\n",
       "       [   19,  1068],\n",
       "       [   18, 18420],\n",
       "       [   18,  6077],\n",
       "       [   18,  5444],\n",
       "       [   18,  5818],\n",
       "       [   18,   897],\n",
       "       [   18,  6359],\n",
       "       [   18, 12901],\n",
       "       [   18, 12520],\n",
       "       [   18,  5703],\n",
       "       [   18,  3937],\n",
       "       [   18,  6239],\n",
       "       [   18,  8637],\n",
       "       [   18, 13871],\n",
       "       [   18, 14774],\n",
       "       [   18,   939],\n",
       "       [   18,  6827],\n",
       "       [   18, 16997],\n",
       "       [   18, 16239],\n",
       "       [   18, 21134],\n",
       "       [   18,  2589],\n",
       "       [   18, 25608],\n",
       "       [   18, 19451],\n",
       "       [   18,  5426],\n",
       "       [   18,  1412],\n",
       "       [   18, 24042],\n",
       "       [   18, 20998],\n",
       "       [   18, 18141],\n",
       "       [   18,  5213],\n",
       "       [   18,  4765],\n",
       "       [   18, 24992],\n",
       "       [   18, 15465],\n",
       "       [   18,  4693],\n",
       "       [   18,   371],\n",
       "       [   18, 10942],\n",
       "       [   18,  3446],\n",
       "       [   20, 17343],\n",
       "       [   20, 22611],\n",
       "       [   20, 16544],\n",
       "       [   20, 11952],\n",
       "       [   20, 10357],\n",
       "       [   20,  4547],\n",
       "       [   20,  9092],\n",
       "       [   20, 17559],\n",
       "       [   20, 18945],\n",
       "       [   20,  1979],\n",
       "       [   20, 14907],\n",
       "       [   20,  8946],\n",
       "       [   20,  8648],\n",
       "       [   20, 18913],\n",
       "       [   20, 20928],\n",
       "       [   20,  5546],\n",
       "       [   20,  9787],\n",
       "       [   20,  6691],\n",
       "       [   20,  3264],\n",
       "       [   20, 12164],\n",
       "       [   20, 17332],\n",
       "       [   20,   888],\n",
       "       [   20, 23341],\n",
       "       [   20, 11662],\n",
       "       [   20, 14697],\n",
       "       [   20,   241],\n",
       "       [   20,  7105],\n",
       "       [   20, 24888],\n",
       "       [   20, 18353],\n",
       "       [   20, 14597],\n",
       "       [   20, 15592],\n",
       "       [   20,  3471],\n",
       "       [   20,   541],\n",
       "       [   20, 23159],\n",
       "       [   20,  1669],\n",
       "       [   21,  9130],\n",
       "       [   21, 28691],\n",
       "       [   21, 21231],\n",
       "       [   21, 15956],\n",
       "       [   21,  6746],\n",
       "       [   21,   158],\n",
       "       [   21, 14910],\n",
       "       [   21, 11006],\n",
       "       [   21, 24289],\n",
       "       [   21,  1517],\n",
       "       [   21,  4452],\n",
       "       [   21,    49],\n",
       "       [   21,  1434],\n",
       "       [   21, 15089],\n",
       "       [   21, 16928],\n",
       "       [   21, 19768],\n",
       "       [   21,  3258],\n",
       "       [   21,  7135],\n",
       "       [   21,  5240],\n",
       "       [   21,  1749],\n",
       "       [   21, 15400],\n",
       "       [   21, 19319],\n",
       "       [   21,  5405],\n",
       "       [   21, 26454],\n",
       "       [   21, 12264],\n",
       "       [   21, 11499],\n",
       "       [   21,  5086],\n",
       "       [   21, 12174],\n",
       "       [   21,  4803],\n",
       "       [   21, 21026],\n",
       "       [   22, 27747],\n",
       "       [   22,  4911],\n",
       "       [   22, 15460],\n",
       "       [   22,  7008],\n",
       "       [   22, 27865],\n",
       "       [   22, 17256],\n",
       "       [   22, 28646],\n",
       "       [   22, 26508],\n",
       "       [   22, 27799],\n",
       "       [   22, 28248],\n",
       "       [   22,  5945],\n",
       "       [   22,   989],\n",
       "       [   22, 13577],\n",
       "       [   22,  2579],\n",
       "       [   22, 10126],\n",
       "       [   22,    68],\n",
       "       [   22,  2742],\n",
       "       [   22,  6218],\n",
       "       [   22,  9758],\n",
       "       [   22,  2247],\n",
       "       [   22, 14467],\n",
       "       [   22, 11643],\n",
       "       [   22, 23159],\n",
       "       [   22, 26576],\n",
       "       [   22, 17651]])"
      ]
     },
     "execution_count": 93,
     "metadata": {},
     "output_type": "execute_result"
    }
   ],
   "source": [
    "neg_pairs_arr"
   ]
  },
  {
   "cell_type": "code",
   "execution_count": 72,
   "metadata": {},
   "outputs": [
    {
     "data": {
      "text/plain": [
       "array([ 0,  0,  0,  0,  0,  0,  0,  0,  0,  0,  0,  0,  0,  0,  0,  0,  0,\n",
       "        0,  0,  0,  0,  0,  0,  0,  0,  1,  1,  1,  1,  1,  1,  1,  1,  1,\n",
       "        1,  1,  1,  1,  1,  1,  1,  1,  1,  1,  1,  1,  1,  1,  1,  1, 16,\n",
       "       16, 16, 16, 16, 16, 16, 16, 16, 16, 16, 16, 16, 16, 16, 16, 16, 16,\n",
       "       16, 16, 16, 16, 16, 16, 16, 16, 16, 16, 16, 16, 17, 17, 17, 17, 17,\n",
       "       17, 17, 17, 17, 17, 17, 17, 17, 17, 17, 17, 17, 17, 17, 17, 17, 17,\n",
       "       17, 17, 17, 17, 17, 17, 17, 17, 17, 17, 17, 17, 17, 18, 18, 18, 18,\n",
       "       18, 18, 18, 18, 18, 18, 18, 18, 18, 18, 18, 18, 18, 18, 18, 18, 18,\n",
       "       18, 18, 18, 18, 18, 18, 18, 18, 18, 18, 18, 18, 18, 18, 19, 19, 19,\n",
       "       19, 19, 19, 19, 19, 19, 19, 19, 19, 19, 19, 19, 19, 19, 19, 19, 19,\n",
       "       19, 19, 19, 19, 19, 19, 19, 19, 19, 19, 19, 19, 19, 19, 19, 19, 19,\n",
       "       19, 19, 19, 18, 18, 18, 18, 18, 18, 18, 18, 18, 18, 18, 18, 18, 18,\n",
       "       18, 18, 18, 18, 18, 18, 18, 18, 18, 18, 18, 18, 18, 18, 18, 18, 18,\n",
       "       18, 18, 18, 18, 20, 20, 20, 20, 20, 20, 20, 20, 20, 20, 20, 20, 20,\n",
       "       20, 20, 20, 20, 20, 20, 20, 20, 20, 20, 20, 20, 20, 20, 20, 20, 20,\n",
       "       20, 20, 20, 20, 20, 21, 21, 21, 21, 21, 21, 21, 21, 21, 21, 21, 21,\n",
       "       21, 21, 21, 21, 21, 21, 21, 21, 21, 21, 21, 21, 21, 21, 21, 21, 21,\n",
       "       21, 22, 22, 22, 22, 22, 22, 22, 22, 22, 22, 22, 22, 22, 22, 22, 22,\n",
       "       22, 22, 22, 22, 22, 22, 22, 22, 22])"
      ]
     },
     "execution_count": 72,
     "metadata": {},
     "output_type": "execute_result"
    }
   ],
   "source": [
    "pairs_arr[:, 0].repeat(5)"
   ]
  },
  {
   "cell_type": "code",
   "execution_count": 73,
   "metadata": {
    "collapsed": true
   },
   "outputs": [
    {
     "data": {
      "text/plain": [
       "array([16893,  7785,  1742,  3798, 23385,  3775, 13900,  3872,  3314,\n",
       "       13042, 15290, 12362, 12592,  1421,  9167, 17752,  1635, 22254,\n",
       "        2127, 10099, 16791, 21850,  9243,  8241, 17682, 11652, 16975,\n",
       "       26739, 22641,  7904,  1612,  6095,  3986, 18929, 27609, 22895,\n",
       "       23120, 20906, 19153,  2648, 22959, 22241, 19072, 28654,   138,\n",
       "        7192, 18522, 19229, 15920,  7314,  2313,  9281,  5522, 12830,\n",
       "       14786,  5529,  1174, 17789, 20110, 27401, 28122,  3385, 25407,\n",
       "       11989,  9864,  6444,   414,  5932,  3441,  6810, 20004,  1668,\n",
       "        5752, 25278,  9297, 14186,  4043, 24543, 13235, 17296,  6175,\n",
       "         111,  4998,  2079,   238,  3597, 27751, 25005, 10147, 28054,\n",
       "       17293,  1585, 11230, 27460, 27039, 13029,   199,  4485,  2235,\n",
       "        8265, 21392, 27721,  4601, 22600,     9, 10200,  4131,  5318,\n",
       "       18598, 16372, 14561, 10355, 13711,  2684, 20142,   777, 14639,\n",
       "       21038, 24919,  4635, 23424, 27497,  7179,  2471, 20765,  8526,\n",
       "       23348, 18940, 10454, 14109, 23184,  9857,  5525, 10003, 16701,\n",
       "        8733,  7452, 10675, 13453, 15555,   774, 14581, 23812, 14576,\n",
       "        3984,  6261, 25444,  3617, 15542, 15717, 15875,  3421,  6203,\n",
       "       26751,   389,   280, 28225, 23929, 27923, 27860, 23558,  4122,\n",
       "        3447, 14617, 25795,  9149,  3157,  8415, 25822, 17136,  7150,\n",
       "       24854,  6515, 19203, 23283,  7479, 11691, 17956, 22284,  5715,\n",
       "        7330, 19830,  2261, 27297, 21537, 21605, 12773,  1536,  1877,\n",
       "        1068, 18420,  6077,  5444,  5818,   897,  6359, 12901, 12520,\n",
       "        5703,  3937,  6239,  8637, 13871, 14774,   939,  6827, 16997,\n",
       "       16239, 21134,  2589, 25608, 19451,  5426,  1412, 24042, 20998,\n",
       "       18141,  5213,  4765, 24992, 15465,  4693,   371, 10942,  3446,\n",
       "       17343, 22611, 16544, 11952, 10357,  4547,  9092, 17559, 18945,\n",
       "        1979, 14907,  8946,  8648, 18913, 20928,  5546,  9787,  6691,\n",
       "        3264, 12164, 17332,   888, 23341, 11662, 14697,   241,  7105,\n",
       "       24888, 18353, 14597, 15592,  3471,   541, 23159,  1669,  9130,\n",
       "       28691, 21231, 15956,  6746,   158, 14910, 11006, 24289,  1517,\n",
       "        4452,    49,  1434, 15089, 16928, 19768,  3258,  7135,  5240,\n",
       "        1749, 15400, 19319,  5405, 26454, 12264, 11499,  5086, 12174,\n",
       "        4803, 21026, 27747,  4911, 15460,  7008, 27865, 17256, 28646,\n",
       "       26508, 27799, 28248,  5945,   989, 13577,  2579, 10126,    68,\n",
       "        2742,  6218,  9758,  2247, 14467, 11643, 23159, 26576, 17651])"
      ]
     },
     "execution_count": 73,
     "metadata": {},
     "output_type": "execute_result"
    }
   ],
   "source": [
    "negs_arr.ravel()"
   ]
  },
  {
   "cell_type": "code",
   "execution_count": null,
   "metadata": {},
   "outputs": [],
   "source": []
  },
  {
   "cell_type": "code",
   "execution_count": null,
   "metadata": {},
   "outputs": [],
   "source": []
  },
  {
   "cell_type": "code",
   "execution_count": null,
   "metadata": {},
   "outputs": [],
   "source": []
  },
  {
   "cell_type": "code",
   "execution_count": 50,
   "metadata": {
    "collapsed": true
   },
   "outputs": [
    {
     "data": {
      "text/plain": [
       "[([(0, 1),\n",
       "   (0, 16),\n",
       "   (0, 17),\n",
       "   (0, 18),\n",
       "   (0, 19),\n",
       "   (1, 16),\n",
       "   (1, 17),\n",
       "   (1, 18),\n",
       "   (1, 19),\n",
       "   (1, 18),\n",
       "   (16, 1),\n",
       "   (16, 17),\n",
       "   (16, 18),\n",
       "   (16, 19),\n",
       "   (16, 18),\n",
       "   (16, 20),\n",
       "   (17, 1),\n",
       "   (17, 16),\n",
       "   (17, 18),\n",
       "   (17, 19),\n",
       "   (17, 18),\n",
       "   (17, 20),\n",
       "   (17, 21),\n",
       "   (18, 1),\n",
       "   (18, 16),\n",
       "   (18, 17),\n",
       "   (18, 19),\n",
       "   (18, 20),\n",
       "   (18, 21),\n",
       "   (18, 22),\n",
       "   (19, 1),\n",
       "   (19, 16),\n",
       "   (19, 17),\n",
       "   (19, 18),\n",
       "   (19, 18),\n",
       "   (19, 20),\n",
       "   (19, 21),\n",
       "   (19, 22),\n",
       "   (18, 1),\n",
       "   (18, 16),\n",
       "   (18, 17),\n",
       "   (18, 19),\n",
       "   (18, 20),\n",
       "   (18, 21),\n",
       "   (18, 22),\n",
       "   (20, 16),\n",
       "   (20, 17),\n",
       "   (20, 18),\n",
       "   (20, 19),\n",
       "   (20, 18),\n",
       "   (20, 21),\n",
       "   (20, 22),\n",
       "   (21, 17),\n",
       "   (21, 18),\n",
       "   (21, 19),\n",
       "   (21, 18),\n",
       "   (21, 20),\n",
       "   (21, 22),\n",
       "   (22, 18),\n",
       "   (22, 19),\n",
       "   (22, 18),\n",
       "   (22, 20),\n",
       "   (22, 21)],\n",
       "  [array([16893,  7785,  1742,  3798, 23385]),\n",
       "   array([ 3775, 13900,  3872,  3314, 13042]),\n",
       "   array([15290, 12362, 12592,  1421,  9167]),\n",
       "   array([17752,  1635, 22254,  2127, 10099]),\n",
       "   array([16791, 21850,  9243,  8241, 17682]),\n",
       "   array([11652, 16975, 26739, 22641,  7904]),\n",
       "   array([ 1612,  6095,  3986, 18929, 27609]),\n",
       "   array([22895, 23120, 20906, 19153,  2648]),\n",
       "   array([22959, 22241, 19072, 28654,   138]),\n",
       "   array([ 7192, 18522, 19229, 15920,  7314]),\n",
       "   array([ 2313,  9281,  5522, 12830, 14786]),\n",
       "   array([ 5529,  1174, 17789, 20110, 27401]),\n",
       "   array([28122,  3385, 25407, 11989,  9864]),\n",
       "   array([6444,  414, 5932, 3441, 6810]),\n",
       "   array([20004,  1668,  5752, 25278,  9297]),\n",
       "   array([14186,  4043, 24543, 13235, 17296]),\n",
       "   array([6175,  111, 4998, 2079,  238]),\n",
       "   array([ 3597, 27751, 25005, 10147, 28054]),\n",
       "   array([17293,  1585, 11230, 27460, 27039]),\n",
       "   array([13029,   199,  4485,  2235,  8265]),\n",
       "   array([21392, 27721,  4601, 22600,     9]),\n",
       "   array([10200,  4131,  5318, 18598, 16372]),\n",
       "   array([14561, 10355, 13711,  2684, 20142]),\n",
       "   array([  777, 14639, 21038, 24919,  4635]),\n",
       "   array([23424, 27497,  7179,  2471, 20765]),\n",
       "   array([ 8526, 23348, 18940, 10454, 14109]),\n",
       "   array([23184,  9857,  5525, 10003, 16701]),\n",
       "   array([ 8733,  7452, 10675, 13453, 15555]),\n",
       "   array([  774, 14581, 23812, 14576,  3984]),\n",
       "   array([ 6261, 25444,  3617, 15542, 15717]),\n",
       "   array([15875,  3421,  6203, 26751,   389]),\n",
       "   array([  280, 28225, 23929, 27923, 27860]),\n",
       "   array([23558,  4122,  3447, 14617, 25795]),\n",
       "   array([ 9149,  3157,  8415, 25822, 17136]),\n",
       "   array([ 7150, 24854,  6515, 19203, 23283]),\n",
       "   array([ 7479, 11691, 17956, 22284,  5715]),\n",
       "   array([ 7330, 19830,  2261, 27297, 21537]),\n",
       "   array([21605, 12773,  1536,  1877,  1068]),\n",
       "   array([18420,  6077,  5444,  5818,   897]),\n",
       "   array([ 6359, 12901, 12520,  5703,  3937]),\n",
       "   array([ 6239,  8637, 13871, 14774,   939]),\n",
       "   array([ 6827, 16997, 16239, 21134,  2589]),\n",
       "   array([25608, 19451,  5426,  1412, 24042]),\n",
       "   array([20998, 18141,  5213,  4765, 24992]),\n",
       "   array([15465,  4693,   371, 10942,  3446]),\n",
       "   array([17343, 22611, 16544, 11952, 10357]),\n",
       "   array([ 4547,  9092, 17559, 18945,  1979]),\n",
       "   array([14907,  8946,  8648, 18913, 20928]),\n",
       "   array([ 5546,  9787,  6691,  3264, 12164]),\n",
       "   array([17332,   888, 23341, 11662, 14697]),\n",
       "   array([  241,  7105, 24888, 18353, 14597]),\n",
       "   array([15592,  3471,   541, 23159,  1669]),\n",
       "   array([ 9130, 28691, 21231, 15956,  6746]),\n",
       "   array([  158, 14910, 11006, 24289,  1517]),\n",
       "   array([ 4452,    49,  1434, 15089, 16928]),\n",
       "   array([19768,  3258,  7135,  5240,  1749]),\n",
       "   array([15400, 19319,  5405, 26454, 12264]),\n",
       "   array([11499,  5086, 12174,  4803, 21026]),\n",
       "   array([27747,  4911, 15460,  7008, 27865]),\n",
       "   array([17256, 28646, 26508, 27799, 28248]),\n",
       "   array([ 5945,   989, 13577,  2579, 10126]),\n",
       "   array([  68, 2742, 6218, 9758, 2247]),\n",
       "   array([14467, 11643, 23159, 26576, 17651])]),\n",
       " ([(0, 1),\n",
       "   (0, 16),\n",
       "   (0, 23),\n",
       "   (0, 24),\n",
       "   (0, 23),\n",
       "   (1, 16),\n",
       "   (1, 23),\n",
       "   (1, 24),\n",
       "   (1, 23),\n",
       "   (1, 25),\n",
       "   (16, 1),\n",
       "   (16, 23),\n",
       "   (16, 24),\n",
       "   (16, 23),\n",
       "   (16, 25),\n",
       "   (16, 26),\n",
       "   (23, 1),\n",
       "   (23, 16),\n",
       "   (23, 24),\n",
       "   (23, 25),\n",
       "   (23, 26),\n",
       "   (23, 27),\n",
       "   (24, 1),\n",
       "   (24, 16),\n",
       "   (24, 23),\n",
       "   (24, 23),\n",
       "   (24, 25),\n",
       "   (24, 26),\n",
       "   (24, 27),\n",
       "   (24, 28),\n",
       "   (23, 1),\n",
       "   (23, 16),\n",
       "   (23, 24),\n",
       "   (23, 25),\n",
       "   (23, 26),\n",
       "   (23, 27),\n",
       "   (23, 28),\n",
       "   (25, 1),\n",
       "   (25, 16),\n",
       "   (25, 23),\n",
       "   (25, 24),\n",
       "   (25, 23),\n",
       "   (25, 26),\n",
       "   (25, 27),\n",
       "   (25, 28),\n",
       "   (26, 16),\n",
       "   (26, 23),\n",
       "   (26, 24),\n",
       "   (26, 23),\n",
       "   (26, 25),\n",
       "   (26, 27),\n",
       "   (26, 28),\n",
       "   (27, 23),\n",
       "   (27, 24),\n",
       "   (27, 23),\n",
       "   (27, 25),\n",
       "   (27, 26),\n",
       "   (27, 28),\n",
       "   (28, 24),\n",
       "   (28, 23),\n",
       "   (28, 25),\n",
       "   (28, 26),\n",
       "   (28, 27)],\n",
       "  [array([20400,   970,  4250, 13923, 28597]),\n",
       "   array([20048,  3179, 18533, 19246,  3971]),\n",
       "   array([ 6275, 26076,   966, 10791,  8962]),\n",
       "   array([12274, 16744, 13640, 18653,  9292]),\n",
       "   array([  754,  2368, 28473, 15944, 22976]),\n",
       "   array([16799,  2158, 15687, 16118,  2261]),\n",
       "   array([23990, 10712,  3120,  8953,  4989]),\n",
       "   array([ 3433,  1601, 28215, 14982, 20326]),\n",
       "   array([16638, 11504,  4356,  4247, 24401]),\n",
       "   array([21379,   393, 26218,   542,  6727]),\n",
       "   array([18303,  7593, 14208,  2877, 21141]),\n",
       "   array([ 7220, 24594, 11930, 21150,  5756]),\n",
       "   array([26657,  2830,  5761, 21517, 15013]),\n",
       "   array([  845, 24737, 13115, 21113, 25831]),\n",
       "   array([14035, 17158, 22113, 23112, 13200]),\n",
       "   array([  501, 16632,   591,  3468,  5522]),\n",
       "   array([12959, 23938, 20876, 12079, 25779]),\n",
       "   array([19149,  1180,  9755, 25829, 19825]),\n",
       "   array([ 8932,  5294, 15734,  4512,  8922]),\n",
       "   array([13674,  4828,  3538,     8, 16153]),\n",
       "   array([ 9279,  2332, 15912, 24442,  8474]),\n",
       "   array([17501, 15205, 15568,  4835, 11255]),\n",
       "   array([23497,  9399, 13637,  6697, 25748]),\n",
       "   array([19999,  1420,  5208, 10182,   332]),\n",
       "   array([27225, 13230,  3451, 17584, 24224]),\n",
       "   array([18011, 22918, 25743, 14421,  7435]),\n",
       "   array([ 2514,  1846,  7416, 10360,  5519]),\n",
       "   array([12061, 10859,  4051,  3433, 14152]),\n",
       "   array([20166,  9170,  4608, 13782,  9689]),\n",
       "   array([24938, 12359, 18216,  7570,  8796]),\n",
       "   array([ 1915,  6583,  4771, 14670, 16621]),\n",
       "   array([ 2303, 20438, 10681,   302,  8278]),\n",
       "   array([ 9320, 11406, 11807, 11327,  6123]),\n",
       "   array([11623,  5042,  3924, 20323, 17752]),\n",
       "   array([ 6663, 25323, 22566,   141,  5780]),\n",
       "   array([20076, 12709, 11799, 18652, 23727]),\n",
       "   array([   43, 25682, 22516, 18343, 11646]),\n",
       "   array([20802,   446, 20245, 21910,   186]),\n",
       "   array([21136, 11007, 26414,  8794, 24822]),\n",
       "   array([21233,  1508, 14825,  5486, 24611]),\n",
       "   array([19355, 18504, 19249, 11488, 14912]),\n",
       "   array([ 1758, 15663, 15676, 21604, 10347]),\n",
       "   array([22088,  3385, 13451, 23311,  9401]),\n",
       "   array([22806, 25739, 17213, 21627, 28443]),\n",
       "   array([11616,  6961,  5648, 23501,  6033]),\n",
       "   array([ 9667, 16374, 25502, 27107, 25958]),\n",
       "   array([24013,  5626, 23093, 12309, 22489]),\n",
       "   array([15940, 24295, 12386,  4288, 12599]),\n",
       "   array([ 5751,  6100, 13004,  4713, 26381]),\n",
       "   array([    1,  4951, 15927,   171,   999]),\n",
       "   array([ 7311, 13371, 26837,  8715, 17216]),\n",
       "   array([10037,   645,  3242, 24129, 28494]),\n",
       "   array([ 3984,  5788, 13243,  1818,  4412]),\n",
       "   array([ 9936,  6655,  9828, 20231,  7555]),\n",
       "   array([ 4077,  4513, 20980,  2472, 16093]),\n",
       "   array([22576, 26184,  5427, 13584,  2453]),\n",
       "   array([21447, 23684, 23994, 22414,   449]),\n",
       "   array([21850,  2937, 22665,  3041,  9162]),\n",
       "   array([17043, 28343, 11243, 28353,  2445]),\n",
       "   array([ 8596, 23371,  1244,  1202, 22093]),\n",
       "   array([10528,  6678, 18762, 16641,    83]),\n",
       "   array([18999,  6132, 15222,  6224, 15491]),\n",
       "   array([ 5217, 20698, 18030, 11194, 22216])])]"
      ]
     },
     "execution_count": 50,
     "metadata": {},
     "output_type": "execute_result"
    }
   ],
   "source": [
    "batches"
   ]
  },
  {
   "cell_type": "code",
   "execution_count": null,
   "metadata": {},
   "outputs": [],
   "source": []
  },
  {
   "cell_type": "code",
   "execution_count": 14,
   "metadata": {},
   "outputs": [],
   "source": [
    "emb_center = skipgram.center_embeddings(centers)  # Get embeddings for center word\n",
    "emb_context = skipgram.context_embeddings(contexts)  # Get embeddings for context word\n",
    "emb_neg_context = skipgram.context_embeddings(neg_contexts)  # Get embeddings for negative context words"
   ]
  },
  {
   "cell_type": "code",
   "execution_count": 16,
   "metadata": {},
   "outputs": [
    {
     "data": {
      "text/plain": [
       "torch.Size([514, 8])"
      ]
     },
     "execution_count": 16,
     "metadata": {},
     "output_type": "execute_result"
    }
   ],
   "source": [
    "emb_center.shape"
   ]
  },
  {
   "cell_type": "code",
   "execution_count": 17,
   "metadata": {},
   "outputs": [
    {
     "data": {
      "text/plain": [
       "torch.Size([514, 8])"
      ]
     },
     "execution_count": 17,
     "metadata": {},
     "output_type": "execute_result"
    }
   ],
   "source": [
    "emb_context.shape"
   ]
  },
  {
   "cell_type": "code",
   "execution_count": 18,
   "metadata": {},
   "outputs": [
    {
     "data": {
      "text/plain": [
       "torch.Size([514, 5, 8])"
      ]
     },
     "execution_count": 18,
     "metadata": {},
     "output_type": "execute_result"
    }
   ],
   "source": [
    "emb_neg_context.shape"
   ]
  },
  {
   "cell_type": "markdown",
   "metadata": {},
   "source": [
    "### Save torch params"
   ]
  },
  {
   "cell_type": "code",
   "execution_count": 21,
   "metadata": {},
   "outputs": [],
   "source": [
    "torch.save(skipgram.state_dict(), '../model/skipgram_sample.pt')"
   ]
  },
  {
   "cell_type": "code",
   "execution_count": 22,
   "metadata": {},
   "outputs": [],
   "source": [
    "model = SkipGram(sequences.n_unique_tokens, emb_dim).to(device)"
   ]
  },
  {
   "cell_type": "code",
   "execution_count": 23,
   "metadata": {},
   "outputs": [
    {
     "data": {
      "text/plain": [
       "<All keys matched successfully>"
      ]
     },
     "execution_count": 23,
     "metadata": {},
     "output_type": "execute_result"
    }
   ],
   "source": [
    "model.load_state_dict(torch.load('../model/skipgram_sample.pt'))"
   ]
  },
  {
   "cell_type": "code",
   "execution_count": 24,
   "metadata": {},
   "outputs": [
    {
     "data": {
      "text/plain": [
       "SkipGram(\n",
       "  (center_embeddings): Embedding(7757, 8, sparse=True)\n",
       "  (context_embeddings): Embedding(7757, 8, sparse=True)\n",
       ")"
      ]
     },
     "execution_count": 24,
     "metadata": {},
     "output_type": "execute_result"
    }
   ],
   "source": [
    "model.eval()"
   ]
  },
  {
   "cell_type": "markdown",
   "metadata": {},
   "source": [
    "### Check with validation"
   ]
  },
  {
   "cell_type": "code",
   "execution_count": 5,
   "metadata": {},
   "outputs": [],
   "source": [
    "val = pd.read_csv('../data/{}_edges_val.csv'.format(dataset), dtype={'product1': 'object', 'product2': 'object'})"
   ]
  },
  {
   "cell_type": "code",
   "execution_count": 6,
   "metadata": {},
   "outputs": [],
   "source": [
    "sample_idx = np.random.randint(0, val.shape[0], 100000)"
   ]
  },
  {
   "cell_type": "code",
   "execution_count": 7,
   "metadata": {},
   "outputs": [],
   "source": [
    "val_samp = val.iloc[sample_idx]"
   ]
  },
  {
   "cell_type": "code",
   "execution_count": 8,
   "metadata": {},
   "outputs": [
    {
     "data": {
      "text/html": [
       "<div>\n",
       "<style scoped>\n",
       "    .dataframe tbody tr th:only-of-type {\n",
       "        vertical-align: middle;\n",
       "    }\n",
       "\n",
       "    .dataframe tbody tr th {\n",
       "        vertical-align: top;\n",
       "    }\n",
       "\n",
       "    .dataframe thead th {\n",
       "        text-align: right;\n",
       "    }\n",
       "</style>\n",
       "<table border=\"1\" class=\"dataframe\">\n",
       "  <thead>\n",
       "    <tr style=\"text-align: right;\">\n",
       "      <th></th>\n",
       "      <th>product1</th>\n",
       "      <th>product2</th>\n",
       "      <th>edge</th>\n",
       "    </tr>\n",
       "  </thead>\n",
       "  <tbody>\n",
       "    <tr>\n",
       "      <th>1055342</th>\n",
       "      <td>b002goovnk</td>\n",
       "      <td>b008mrzsh8</td>\n",
       "      <td>1</td>\n",
       "    </tr>\n",
       "    <tr>\n",
       "      <th>535317</th>\n",
       "      <td>b00aodd3js</td>\n",
       "      <td>b00f0rrcqi</td>\n",
       "      <td>1</td>\n",
       "    </tr>\n",
       "    <tr>\n",
       "      <th>737360</th>\n",
       "      <td>b005abj0h8</td>\n",
       "      <td>b00dzrguao</td>\n",
       "      <td>1</td>\n",
       "    </tr>\n",
       "    <tr>\n",
       "      <th>1333506</th>\n",
       "      <td>b0002exjra</td>\n",
       "      <td>b000067rrx</td>\n",
       "      <td>0</td>\n",
       "    </tr>\n",
       "    <tr>\n",
       "      <th>2376672</th>\n",
       "      <td>b00dziz6qc</td>\n",
       "      <td>b008mogskm</td>\n",
       "      <td>0</td>\n",
       "    </tr>\n",
       "  </tbody>\n",
       "</table>\n",
       "</div>"
      ],
      "text/plain": [
       "           product1    product2  edge\n",
       "1055342  b002goovnk  b008mrzsh8     1\n",
       "535317   b00aodd3js  b00f0rrcqi     1\n",
       "737360   b005abj0h8  b00dzrguao     1\n",
       "1333506  b0002exjra  b000067rrx     0\n",
       "2376672  b00dziz6qc  b008mogskm     0"
      ]
     },
     "execution_count": 8,
     "metadata": {},
     "output_type": "execute_result"
    }
   ],
   "source": [
    "val_samp.head()"
   ]
  },
  {
   "cell_type": "code",
   "execution_count": null,
   "metadata": {},
   "outputs": [],
   "source": []
  },
  {
   "cell_type": "code",
   "execution_count": 63,
   "metadata": {},
   "outputs": [],
   "source": [
    "val_samp = pd.read_csv('../data/books_edges_train.csv', nrows=100, dtype={'product1': 'object', 'product2': 'object'})\n",
    "val_samp['edge'] = np.where(val_samp['weight'] > 1, 1, 0)\n",
    "val_samp.to_csv('../data/books_edges_train_samp.csv')"
   ]
  },
  {
   "cell_type": "code",
   "execution_count": 50,
   "metadata": {},
   "outputs": [],
   "source": [
    "val_samp = pd.read_csv('../data/books_edges_val_samp.csv', dtype={'product1': 'object', 'product2': 'object'})"
   ]
  },
  {
   "cell_type": "code",
   "execution_count": 51,
   "metadata": {},
   "outputs": [
    {
     "name": "stderr",
     "output_type": "stream",
     "text": [
      "2019-12-03 15:39:30,897 - Model loaded from: ../model/word2id (Size: 969863 bytes)\n"
     ]
    }
   ],
   "source": [
    "word2id = load_model('../model/word2id')"
   ]
  },
  {
   "cell_type": "code",
   "execution_count": 52,
   "metadata": {},
   "outputs": [],
   "source": [
    "word2id_func =  np.vectorize(sequences.get_product_id)"
   ]
  },
  {
   "cell_type": "code",
   "execution_count": 53,
   "metadata": {},
   "outputs": [],
   "source": [
    "val_samp['product1_id'] = word2id_func(val_samp['product1'].values)\n",
    "val_samp['product2_id'] = word2id_func(val_samp['product2'].values)"
   ]
  },
  {
   "cell_type": "code",
   "execution_count": 54,
   "metadata": {},
   "outputs": [],
   "source": [
    "val_samp = val_samp[(val_samp['product1_id'] > -1) & (val_samp['product2_id'] > -1)]"
   ]
  },
  {
   "cell_type": "code",
   "execution_count": 55,
   "metadata": {},
   "outputs": [
    {
     "data": {
      "text/html": [
       "<div>\n",
       "<style scoped>\n",
       "    .dataframe tbody tr th:only-of-type {\n",
       "        vertical-align: middle;\n",
       "    }\n",
       "\n",
       "    .dataframe tbody tr th {\n",
       "        vertical-align: top;\n",
       "    }\n",
       "\n",
       "    .dataframe thead th {\n",
       "        text-align: right;\n",
       "    }\n",
       "</style>\n",
       "<table border=\"1\" class=\"dataframe\">\n",
       "  <thead>\n",
       "    <tr style=\"text-align: right;\">\n",
       "      <th></th>\n",
       "      <th>Unnamed: 0</th>\n",
       "      <th>product1</th>\n",
       "      <th>product2</th>\n",
       "      <th>edge</th>\n",
       "      <th>product1_id</th>\n",
       "      <th>product2_id</th>\n",
       "    </tr>\n",
       "  </thead>\n",
       "  <tbody>\n",
       "    <tr>\n",
       "      <th>2834</th>\n",
       "      <td>2460300</td>\n",
       "      <td>0062060244</td>\n",
       "      <td>1578643031</td>\n",
       "      <td>1</td>\n",
       "      <td>2516</td>\n",
       "      <td>7166</td>\n",
       "    </tr>\n",
       "    <tr>\n",
       "      <th>5158</th>\n",
       "      <td>4981598</td>\n",
       "      <td>0060501960</td>\n",
       "      <td>0439441609</td>\n",
       "      <td>1</td>\n",
       "      <td>167</td>\n",
       "      <td>259</td>\n",
       "    </tr>\n",
       "    <tr>\n",
       "      <th>5954</th>\n",
       "      <td>2408135</td>\n",
       "      <td>1606903888</td>\n",
       "      <td>1616553707</td>\n",
       "      <td>1</td>\n",
       "      <td>3733</td>\n",
       "      <td>3745</td>\n",
       "    </tr>\n",
       "    <tr>\n",
       "      <th>6342</th>\n",
       "      <td>1651623</td>\n",
       "      <td>0989103137</td>\n",
       "      <td>1492206601</td>\n",
       "      <td>1</td>\n",
       "      <td>1519</td>\n",
       "      <td>1480</td>\n",
       "    </tr>\n",
       "    <tr>\n",
       "      <th>6352</th>\n",
       "      <td>7430236</td>\n",
       "      <td>1440213747</td>\n",
       "      <td>1607058529</td>\n",
       "      <td>1</td>\n",
       "      <td>5796</td>\n",
       "      <td>5781</td>\n",
       "    </tr>\n",
       "    <tr>\n",
       "      <th>...</th>\n",
       "      <td>...</td>\n",
       "      <td>...</td>\n",
       "      <td>...</td>\n",
       "      <td>...</td>\n",
       "      <td>...</td>\n",
       "      <td>...</td>\n",
       "    </tr>\n",
       "    <tr>\n",
       "      <th>96025</th>\n",
       "      <td>2622723</td>\n",
       "      <td>0071819541</td>\n",
       "      <td>0875632157</td>\n",
       "      <td>1</td>\n",
       "      <td>469</td>\n",
       "      <td>610</td>\n",
       "    </tr>\n",
       "    <tr>\n",
       "      <th>96551</th>\n",
       "      <td>4896177</td>\n",
       "      <td>0060580461</td>\n",
       "      <td>0812980557</td>\n",
       "      <td>1</td>\n",
       "      <td>3226</td>\n",
       "      <td>3115</td>\n",
       "    </tr>\n",
       "    <tr>\n",
       "      <th>97112</th>\n",
       "      <td>5555367</td>\n",
       "      <td>014311753X</td>\n",
       "      <td>0385349580</td>\n",
       "      <td>1</td>\n",
       "      <td>1188</td>\n",
       "      <td>1053</td>\n",
       "    </tr>\n",
       "    <tr>\n",
       "      <th>97705</th>\n",
       "      <td>4657423</td>\n",
       "      <td>0822572257</td>\n",
       "      <td>0824603621</td>\n",
       "      <td>1</td>\n",
       "      <td>6256</td>\n",
       "      <td>6231</td>\n",
       "    </tr>\n",
       "    <tr>\n",
       "      <th>98479</th>\n",
       "      <td>3609891</td>\n",
       "      <td>020528664X</td>\n",
       "      <td>0596804172</td>\n",
       "      <td>1</td>\n",
       "      <td>790</td>\n",
       "      <td>2550</td>\n",
       "    </tr>\n",
       "  </tbody>\n",
       "</table>\n",
       "<p>61 rows × 6 columns</p>\n",
       "</div>"
      ],
      "text/plain": [
       "       Unnamed: 0    product1    product2  edge  product1_id  product2_id\n",
       "2834      2460300  0062060244  1578643031     1         2516         7166\n",
       "5158      4981598  0060501960  0439441609     1          167          259\n",
       "5954      2408135  1606903888  1616553707     1         3733         3745\n",
       "6342      1651623  0989103137  1492206601     1         1519         1480\n",
       "6352      7430236  1440213747  1607058529     1         5796         5781\n",
       "...           ...         ...         ...   ...          ...          ...\n",
       "96025     2622723  0071819541  0875632157     1          469          610\n",
       "96551     4896177  0060580461  0812980557     1         3226         3115\n",
       "97112     5555367  014311753X  0385349580     1         1188         1053\n",
       "97705     4657423  0822572257  0824603621     1         6256         6231\n",
       "98479     3609891  020528664X  0596804172     1          790         2550\n",
       "\n",
       "[61 rows x 6 columns]"
      ]
     },
     "execution_count": 55,
     "metadata": {},
     "output_type": "execute_result"
    }
   ],
   "source": [
    "val_samp"
   ]
  },
  {
   "cell_type": "code",
   "execution_count": 43,
   "metadata": {},
   "outputs": [
    {
     "ename": "RuntimeError",
     "evalue": "index out of range: Tried to access index -1 out of table with 7756 rows. at ../aten/src/TH/generic/THTensorEvenMoreMath.cpp:418",
     "output_type": "error",
     "traceback": [
      "\u001b[0;31m---------------------------------------------------------------------------\u001b[0m",
      "\u001b[0;31mRuntimeError\u001b[0m                              Traceback (most recent call last)",
      "\u001b[0;32m<ipython-input-43-7bac4c6de182>\u001b[0m in \u001b[0;36m<module>\u001b[0;34m\u001b[0m\n\u001b[0;32m----> 1\u001b[0;31m \u001b[0mproduct1_emb\u001b[0m \u001b[0;34m=\u001b[0m \u001b[0mmodel\u001b[0m\u001b[0;34m.\u001b[0m\u001b[0mget_center_emb\u001b[0m\u001b[0;34m(\u001b[0m\u001b[0mtorch\u001b[0m\u001b[0;34m.\u001b[0m\u001b[0mLongTensor\u001b[0m\u001b[0;34m(\u001b[0m\u001b[0mproduct1_id\u001b[0m\u001b[0;34m)\u001b[0m\u001b[0;34m)\u001b[0m\u001b[0;34m\u001b[0m\u001b[0;34m\u001b[0m\u001b[0m\n\u001b[0m\u001b[1;32m      2\u001b[0m \u001b[0mproduct2_emb\u001b[0m \u001b[0;34m=\u001b[0m \u001b[0mmodel\u001b[0m\u001b[0;34m.\u001b[0m\u001b[0mget_center_emb\u001b[0m\u001b[0;34m(\u001b[0m\u001b[0mtorch\u001b[0m\u001b[0;34m.\u001b[0m\u001b[0mLongTensor\u001b[0m\u001b[0;34m(\u001b[0m\u001b[0mproduct2_id\u001b[0m\u001b[0;34m)\u001b[0m\u001b[0;34m)\u001b[0m\u001b[0;34m\u001b[0m\u001b[0;34m\u001b[0m\u001b[0m\n",
      "\u001b[0;32m~/recsys/src/ml/skipgram.py\u001b[0m in \u001b[0;36mget_center_emb\u001b[0;34m(self, center)\u001b[0m\n\u001b[1;32m     66\u001b[0m \u001b[0;34m\u001b[0m\u001b[0m\n\u001b[1;32m     67\u001b[0m     \u001b[0;32mdef\u001b[0m \u001b[0mget_center_emb\u001b[0m\u001b[0;34m(\u001b[0m\u001b[0mself\u001b[0m\u001b[0;34m,\u001b[0m \u001b[0mcenter\u001b[0m\u001b[0;34m)\u001b[0m\u001b[0;34m:\u001b[0m\u001b[0;34m\u001b[0m\u001b[0;34m\u001b[0m\u001b[0m\n\u001b[0;32m---> 68\u001b[0;31m         \u001b[0;32mreturn\u001b[0m \u001b[0mself\u001b[0m\u001b[0;34m.\u001b[0m\u001b[0mcenter_embeddings\u001b[0m\u001b[0;34m(\u001b[0m\u001b[0mcenter\u001b[0m\u001b[0;34m)\u001b[0m\u001b[0;34m\u001b[0m\u001b[0;34m\u001b[0m\u001b[0m\n\u001b[0m\u001b[1;32m     69\u001b[0m \u001b[0;34m\u001b[0m\u001b[0m\n\u001b[1;32m     70\u001b[0m     \u001b[0;32mdef\u001b[0m \u001b[0msave_embeddings\u001b[0m\u001b[0;34m(\u001b[0m\u001b[0mself\u001b[0m\u001b[0;34m,\u001b[0m \u001b[0mfile_name\u001b[0m\u001b[0;34m)\u001b[0m\u001b[0;34m:\u001b[0m\u001b[0;34m\u001b[0m\u001b[0;34m\u001b[0m\u001b[0m\n",
      "\u001b[0;32m~/recsys/venv/lib/python3.7/site-packages/torch/nn/modules/module.py\u001b[0m in \u001b[0;36m__call__\u001b[0;34m(self, *input, **kwargs)\u001b[0m\n\u001b[1;32m    539\u001b[0m             \u001b[0mresult\u001b[0m \u001b[0;34m=\u001b[0m \u001b[0mself\u001b[0m\u001b[0;34m.\u001b[0m\u001b[0m_slow_forward\u001b[0m\u001b[0;34m(\u001b[0m\u001b[0;34m*\u001b[0m\u001b[0minput\u001b[0m\u001b[0;34m,\u001b[0m \u001b[0;34m**\u001b[0m\u001b[0mkwargs\u001b[0m\u001b[0;34m)\u001b[0m\u001b[0;34m\u001b[0m\u001b[0;34m\u001b[0m\u001b[0m\n\u001b[1;32m    540\u001b[0m         \u001b[0;32melse\u001b[0m\u001b[0;34m:\u001b[0m\u001b[0;34m\u001b[0m\u001b[0;34m\u001b[0m\u001b[0m\n\u001b[0;32m--> 541\u001b[0;31m             \u001b[0mresult\u001b[0m \u001b[0;34m=\u001b[0m \u001b[0mself\u001b[0m\u001b[0;34m.\u001b[0m\u001b[0mforward\u001b[0m\u001b[0;34m(\u001b[0m\u001b[0;34m*\u001b[0m\u001b[0minput\u001b[0m\u001b[0;34m,\u001b[0m \u001b[0;34m**\u001b[0m\u001b[0mkwargs\u001b[0m\u001b[0;34m)\u001b[0m\u001b[0;34m\u001b[0m\u001b[0;34m\u001b[0m\u001b[0m\n\u001b[0m\u001b[1;32m    542\u001b[0m         \u001b[0;32mfor\u001b[0m \u001b[0mhook\u001b[0m \u001b[0;32min\u001b[0m \u001b[0mself\u001b[0m\u001b[0;34m.\u001b[0m\u001b[0m_forward_hooks\u001b[0m\u001b[0;34m.\u001b[0m\u001b[0mvalues\u001b[0m\u001b[0;34m(\u001b[0m\u001b[0;34m)\u001b[0m\u001b[0;34m:\u001b[0m\u001b[0;34m\u001b[0m\u001b[0;34m\u001b[0m\u001b[0m\n\u001b[1;32m    543\u001b[0m             \u001b[0mhook_result\u001b[0m \u001b[0;34m=\u001b[0m \u001b[0mhook\u001b[0m\u001b[0;34m(\u001b[0m\u001b[0mself\u001b[0m\u001b[0;34m,\u001b[0m \u001b[0minput\u001b[0m\u001b[0;34m,\u001b[0m \u001b[0mresult\u001b[0m\u001b[0;34m)\u001b[0m\u001b[0;34m\u001b[0m\u001b[0;34m\u001b[0m\u001b[0m\n",
      "\u001b[0;32m~/recsys/venv/lib/python3.7/site-packages/torch/nn/modules/sparse.py\u001b[0m in \u001b[0;36mforward\u001b[0;34m(self, input)\u001b[0m\n\u001b[1;32m    112\u001b[0m         return F.embedding(\n\u001b[1;32m    113\u001b[0m             \u001b[0minput\u001b[0m\u001b[0;34m,\u001b[0m \u001b[0mself\u001b[0m\u001b[0;34m.\u001b[0m\u001b[0mweight\u001b[0m\u001b[0;34m,\u001b[0m \u001b[0mself\u001b[0m\u001b[0;34m.\u001b[0m\u001b[0mpadding_idx\u001b[0m\u001b[0;34m,\u001b[0m \u001b[0mself\u001b[0m\u001b[0;34m.\u001b[0m\u001b[0mmax_norm\u001b[0m\u001b[0;34m,\u001b[0m\u001b[0;34m\u001b[0m\u001b[0;34m\u001b[0m\u001b[0m\n\u001b[0;32m--> 114\u001b[0;31m             self.norm_type, self.scale_grad_by_freq, self.sparse)\n\u001b[0m\u001b[1;32m    115\u001b[0m \u001b[0;34m\u001b[0m\u001b[0m\n\u001b[1;32m    116\u001b[0m     \u001b[0;32mdef\u001b[0m \u001b[0mextra_repr\u001b[0m\u001b[0;34m(\u001b[0m\u001b[0mself\u001b[0m\u001b[0;34m)\u001b[0m\u001b[0;34m:\u001b[0m\u001b[0;34m\u001b[0m\u001b[0;34m\u001b[0m\u001b[0m\n",
      "\u001b[0;32m~/recsys/venv/lib/python3.7/site-packages/torch/nn/functional.py\u001b[0m in \u001b[0;36membedding\u001b[0;34m(input, weight, padding_idx, max_norm, norm_type, scale_grad_by_freq, sparse)\u001b[0m\n\u001b[1;32m   1482\u001b[0m         \u001b[0;31m# remove once script supports set_grad_enabled\u001b[0m\u001b[0;34m\u001b[0m\u001b[0;34m\u001b[0m\u001b[0;34m\u001b[0m\u001b[0m\n\u001b[1;32m   1483\u001b[0m         \u001b[0m_no_grad_embedding_renorm_\u001b[0m\u001b[0;34m(\u001b[0m\u001b[0mweight\u001b[0m\u001b[0;34m,\u001b[0m \u001b[0minput\u001b[0m\u001b[0;34m,\u001b[0m \u001b[0mmax_norm\u001b[0m\u001b[0;34m,\u001b[0m \u001b[0mnorm_type\u001b[0m\u001b[0;34m)\u001b[0m\u001b[0;34m\u001b[0m\u001b[0;34m\u001b[0m\u001b[0m\n\u001b[0;32m-> 1484\u001b[0;31m     \u001b[0;32mreturn\u001b[0m \u001b[0mtorch\u001b[0m\u001b[0;34m.\u001b[0m\u001b[0membedding\u001b[0m\u001b[0;34m(\u001b[0m\u001b[0mweight\u001b[0m\u001b[0;34m,\u001b[0m \u001b[0minput\u001b[0m\u001b[0;34m,\u001b[0m \u001b[0mpadding_idx\u001b[0m\u001b[0;34m,\u001b[0m \u001b[0mscale_grad_by_freq\u001b[0m\u001b[0;34m,\u001b[0m \u001b[0msparse\u001b[0m\u001b[0;34m)\u001b[0m\u001b[0;34m\u001b[0m\u001b[0;34m\u001b[0m\u001b[0m\n\u001b[0m\u001b[1;32m   1485\u001b[0m \u001b[0;34m\u001b[0m\u001b[0m\n\u001b[1;32m   1486\u001b[0m \u001b[0;34m\u001b[0m\u001b[0m\n",
      "\u001b[0;31mRuntimeError\u001b[0m: index out of range: Tried to access index -1 out of table with 7756 rows. at ../aten/src/TH/generic/THTensorEvenMoreMath.cpp:418"
     ]
    }
   ],
   "source": [
    "product1_emb = model.get_center_emb(torch.LongTensor(product1_id))\n",
    "product2_emb = model.get_center_emb(torch.LongTensor(product2_id))"
   ]
  },
  {
   "cell_type": "code",
   "execution_count": 32,
   "metadata": {},
   "outputs": [
    {
     "data": {
      "text/plain": [
       "tensor([[-0.2244,  0.1584, -0.2018,  0.2065,  0.2086, -0.2308,  0.2165, -0.2227],\n",
       "        [-0.2875, -0.1795,  0.0093,  0.2784,  0.2273, -0.2611,  0.0504, -0.2687],\n",
       "        [-0.2470, -0.2357, -0.0490, -0.3754,  0.3267,  0.3455, -0.0134, -0.3363],\n",
       "        [-0.2553, -0.1330, -0.1388, -0.1701,  0.2362, -0.2577,  0.0798, -0.0122],\n",
       "        [-0.1892, -0.2706, -0.3198, -0.3673, -0.3417, -0.3226,  0.1317, -0.3117],\n",
       "        [ 0.0570,  0.0895, -0.1997, -0.2253,  0.0674, -0.2361, -0.2316, -0.2013],\n",
       "        [-0.1330, -0.2262, -0.3651, -0.0874, -0.0853, -0.3225, -0.3004, -0.2572],\n",
       "        [-0.2493, -0.0244, -0.2456,  0.2454, -0.0101, -0.2079, -0.1544, -0.0653],\n",
       "        [-0.3194, -0.3137,  0.3596, -0.2866, -0.2485,  0.0837, -0.2537, -0.3440],\n",
       "        [-0.2278, -0.2868, -0.3016,  0.0993, -0.0986, -0.3850,  0.3154, -0.3355]],\n",
       "       grad_fn=<EmbeddingBackward>)"
      ]
     },
     "execution_count": 32,
     "metadata": {},
     "output_type": "execute_result"
    }
   ],
   "source": [
    "product1_emb"
   ]
  },
  {
   "cell_type": "code",
   "execution_count": null,
   "metadata": {},
   "outputs": [],
   "source": [
    "cos_sim = F.cosine_similarity(product1_emb, product2_emb)\n",
    "cos_sim"
   ]
  },
  {
   "cell_type": "code",
   "execution_count": null,
   "metadata": {},
   "outputs": [],
   "source": [
    "cos_sim.detach().numpy()"
   ]
  },
  {
   "cell_type": "code",
   "execution_count": null,
   "metadata": {},
   "outputs": [],
   "source": [
    "x = np.array([-0.2257,  0.2379, -0.2139,  0.2115,  0.2185, -0.2326,  0.2114, -0.2235])\n",
    "y = np.array([-0.2150, -0.1220,  0.0284,  0.2917,  0.1297, -0.2589, -0.1423, -0.2585])"
   ]
  },
  {
   "cell_type": "code",
   "execution_count": null,
   "metadata": {},
   "outputs": [],
   "source": [
    "np.inner(x, y) / (np.linalg.norm(x) * np.linalg.norm(y))"
   ]
  },
  {
   "cell_type": "code",
   "execution_count": null,
   "metadata": {},
   "outputs": [],
   "source": [
    "product1_tensor"
   ]
  },
  {
   "cell_type": "code",
   "execution_count": null,
   "metadata": {},
   "outputs": [],
   "source": [
    "print(emb)"
   ]
  },
  {
   "cell_type": "code",
   "execution_count": null,
   "metadata": {},
   "outputs": [],
   "source": [
    "skipgram.state_dict()"
   ]
  },
  {
   "cell_type": "code",
   "execution_count": null,
   "metadata": {},
   "outputs": [],
   "source": []
  }
 ],
 "metadata": {
  "kernelspec": {
   "display_name": "recsys",
   "language": "python",
   "name": "recsys"
  },
  "language_info": {
   "codemirror_mode": {
    "name": "ipython",
    "version": 3
   },
   "file_extension": ".py",
   "mimetype": "text/x-python",
   "name": "python",
   "nbconvert_exporter": "python",
   "pygments_lexer": "ipython3",
   "version": "3.7.2"
  },
  "widgets": {
   "application/vnd.jupyter.widget-state+json": {
    "state": {},
    "version_major": 2,
    "version_minor": 0
   }
  }
 },
 "nbformat": 4,
 "nbformat_minor": 2
}
